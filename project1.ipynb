{
 "cells": [
  {
   "cell_type": "markdown",
   "metadata": {
    "toc": true
   },
   "source": [
    "<h1>Содержание<span class=\"tocSkip\"></span></h1>\n",
    "<div class=\"toc\"><ul class=\"toc-item\"><li><span><a href=\"#Подготовка-данных\" data-toc-modified-id=\"Подготовка-данных-1\"><span class=\"toc-item-num\">1&nbsp;&nbsp;</span>Подготовка данных</a></span></li><li><span><a href=\"#Исследование-задачи\" data-toc-modified-id=\"Исследование-задачи-2\"><span class=\"toc-item-num\">2&nbsp;&nbsp;</span>Исследование задачи</a></span></li><li><span><a href=\"#Борьба-с-дисбалансом\" data-toc-modified-id=\"Борьба-с-дисбалансом-3\"><span class=\"toc-item-num\">3&nbsp;&nbsp;</span>Борьба с дисбалансом</a></span></li><li><span><a href=\"#Тестирование-модели\" data-toc-modified-id=\"Тестирование-модели-4\"><span class=\"toc-item-num\">4&nbsp;&nbsp;</span>Тестирование модели</a></span></li></ul></div>"
   ]
  },
  {
   "cell_type": "markdown",
   "metadata": {},
   "source": [
    "# Отток клиентов"
   ]
  },
  {
   "cell_type": "markdown",
   "metadata": {},
   "source": [
    "Из «Бета-Банка» стали уходить клиенты. Каждый месяц. Немного, но заметно. Банковские маркетологи посчитали: сохранять текущих клиентов дешевле, чем привлекать новых.\n",
    "\n",
    "Нужно спрогнозировать, уйдёт клиент из банка в ближайшее время или нет. Вам предоставлены исторические данные о поведении клиентов и расторжении договоров с банком. \n",
    "\n",
    "Постройте модель с предельно большим значением *F1*-меры. Чтобы сдать проект успешно, нужно довести метрику до 0.59. Проверьте *F1*-меру на тестовой выборке самостоятельно.\n",
    "\n",
    "Дополнительно измеряйте *AUC-ROC*, сравнивайте её значение с *F1*-мерой.\n",
    "\n",
    "Источник данных: [https://www.kaggle.com/barelydedicated/bank-customer-churn-modeling](https://www.kaggle.com/barelydedicated/bank-customer-churn-modeling)"
   ]
  },
  {
   "cell_type": "markdown",
   "metadata": {},
   "source": [
    "**Признаки**\n",
    "- `RowNumber` — индекс строки в данных\n",
    "- `CustomerId` — уникальный идентификатор клиента\n",
    "- `Surname` — фамилия\n",
    "- `CreditScore` — кредитный рейтинг\n",
    "- `Geography` — страна проживания\n",
    "- `Gender` — пол\n",
    "- `Age` — возраст\n",
    "- `Tenure` — сколько лет человек является клиентом банка\n",
    "- `Balance` — баланс на счёте\n",
    "- `NumOfProducts` — количество продуктов банка, используемых клиентом\n",
    "- `HasCrCard` — наличие кредитной карты\n",
    "- `IsActiveMember` — активность клиента\n",
    "- `EstimatedSalary` — предполагаемая зарплата\n",
    "\n",
    "**Целевой признак**\n",
    "- `Exited` — факт ухода клиента"
   ]
  },
  {
   "cell_type": "markdown",
   "metadata": {},
   "source": [
    "## Подготовка данных"
   ]
  },
  {
   "cell_type": "code",
   "execution_count": 1,
   "metadata": {},
   "outputs": [],
   "source": [
    "import pandas as pd\n",
    "import matplotlib.pyplot as plt\n",
    "from sklearn.utils import shuffle\n",
    "\n",
    "from sklearn.preprocessing import OneHotEncoder, StandardScaler\n",
    "from sklearn.model_selection import train_test_split\n",
    "\n",
    "from sklearn.linear_model import LogisticRegression\n",
    "from sklearn.tree import DecisionTreeClassifier\n",
    "from sklearn.ensemble import RandomForestClassifier\n",
    "\n",
    "from sklearn.dummy import DummyClassifier\n",
    "\n",
    "from sklearn.metrics import f1_score, roc_curve, roc_auc_score, accuracy_score"
   ]
  },
  {
   "cell_type": "code",
   "execution_count": 2,
   "metadata": {},
   "outputs": [
    {
     "name": "stdout",
     "output_type": "stream",
     "text": [
      "Requirement already satisfied: scikit-learn==1.1.3 in /opt/conda/lib/python3.9/site-packages (1.1.3)\n",
      "Requirement already satisfied: threadpoolctl>=2.0.0 in /opt/conda/lib/python3.9/site-packages (from scikit-learn==1.1.3) (3.1.0)\n",
      "Requirement already satisfied: numpy>=1.17.3 in /opt/conda/lib/python3.9/site-packages (from scikit-learn==1.1.3) (1.21.1)\n",
      "Requirement already satisfied: scipy>=1.3.2 in /opt/conda/lib/python3.9/site-packages (from scikit-learn==1.1.3) (1.9.1)\n",
      "Requirement already satisfied: joblib>=1.0.0 in /opt/conda/lib/python3.9/site-packages (from scikit-learn==1.1.3) (1.1.0)\n"
     ]
    }
   ],
   "source": [
    "!pip install scikit-learn==1.1.3"
   ]
  },
  {
   "cell_type": "code",
   "execution_count": 3,
   "metadata": {},
   "outputs": [],
   "source": [
    "#загружаем данные в data\n",
    "data = pd.read_csv('/datasets/Churn.csv')"
   ]
  },
  {
   "cell_type": "code",
   "execution_count": 4,
   "metadata": {},
   "outputs": [
    {
     "data": {
      "text/html": [
       "<div>\n",
       "<style scoped>\n",
       "    .dataframe tbody tr th:only-of-type {\n",
       "        vertical-align: middle;\n",
       "    }\n",
       "\n",
       "    .dataframe tbody tr th {\n",
       "        vertical-align: top;\n",
       "    }\n",
       "\n",
       "    .dataframe thead th {\n",
       "        text-align: right;\n",
       "    }\n",
       "</style>\n",
       "<table border=\"1\" class=\"dataframe\">\n",
       "  <thead>\n",
       "    <tr style=\"text-align: right;\">\n",
       "      <th></th>\n",
       "      <th>RowNumber</th>\n",
       "      <th>CustomerId</th>\n",
       "      <th>Surname</th>\n",
       "      <th>CreditScore</th>\n",
       "      <th>Geography</th>\n",
       "      <th>Gender</th>\n",
       "      <th>Age</th>\n",
       "      <th>Tenure</th>\n",
       "      <th>Balance</th>\n",
       "      <th>NumOfProducts</th>\n",
       "      <th>HasCrCard</th>\n",
       "      <th>IsActiveMember</th>\n",
       "      <th>EstimatedSalary</th>\n",
       "      <th>Exited</th>\n",
       "    </tr>\n",
       "  </thead>\n",
       "  <tbody>\n",
       "    <tr>\n",
       "      <th>0</th>\n",
       "      <td>1</td>\n",
       "      <td>15634602</td>\n",
       "      <td>Hargrave</td>\n",
       "      <td>619</td>\n",
       "      <td>France</td>\n",
       "      <td>Female</td>\n",
       "      <td>42</td>\n",
       "      <td>2.0</td>\n",
       "      <td>0.00</td>\n",
       "      <td>1</td>\n",
       "      <td>1</td>\n",
       "      <td>1</td>\n",
       "      <td>101348.88</td>\n",
       "      <td>1</td>\n",
       "    </tr>\n",
       "    <tr>\n",
       "      <th>1</th>\n",
       "      <td>2</td>\n",
       "      <td>15647311</td>\n",
       "      <td>Hill</td>\n",
       "      <td>608</td>\n",
       "      <td>Spain</td>\n",
       "      <td>Female</td>\n",
       "      <td>41</td>\n",
       "      <td>1.0</td>\n",
       "      <td>83807.86</td>\n",
       "      <td>1</td>\n",
       "      <td>0</td>\n",
       "      <td>1</td>\n",
       "      <td>112542.58</td>\n",
       "      <td>0</td>\n",
       "    </tr>\n",
       "    <tr>\n",
       "      <th>2</th>\n",
       "      <td>3</td>\n",
       "      <td>15619304</td>\n",
       "      <td>Onio</td>\n",
       "      <td>502</td>\n",
       "      <td>France</td>\n",
       "      <td>Female</td>\n",
       "      <td>42</td>\n",
       "      <td>8.0</td>\n",
       "      <td>159660.80</td>\n",
       "      <td>3</td>\n",
       "      <td>1</td>\n",
       "      <td>0</td>\n",
       "      <td>113931.57</td>\n",
       "      <td>1</td>\n",
       "    </tr>\n",
       "    <tr>\n",
       "      <th>3</th>\n",
       "      <td>4</td>\n",
       "      <td>15701354</td>\n",
       "      <td>Boni</td>\n",
       "      <td>699</td>\n",
       "      <td>France</td>\n",
       "      <td>Female</td>\n",
       "      <td>39</td>\n",
       "      <td>1.0</td>\n",
       "      <td>0.00</td>\n",
       "      <td>2</td>\n",
       "      <td>0</td>\n",
       "      <td>0</td>\n",
       "      <td>93826.63</td>\n",
       "      <td>0</td>\n",
       "    </tr>\n",
       "    <tr>\n",
       "      <th>4</th>\n",
       "      <td>5</td>\n",
       "      <td>15737888</td>\n",
       "      <td>Mitchell</td>\n",
       "      <td>850</td>\n",
       "      <td>Spain</td>\n",
       "      <td>Female</td>\n",
       "      <td>43</td>\n",
       "      <td>2.0</td>\n",
       "      <td>125510.82</td>\n",
       "      <td>1</td>\n",
       "      <td>1</td>\n",
       "      <td>1</td>\n",
       "      <td>79084.10</td>\n",
       "      <td>0</td>\n",
       "    </tr>\n",
       "  </tbody>\n",
       "</table>\n",
       "</div>"
      ],
      "text/plain": [
       "   RowNumber  CustomerId   Surname  CreditScore Geography  Gender  Age  \\\n",
       "0          1    15634602  Hargrave          619    France  Female   42   \n",
       "1          2    15647311      Hill          608     Spain  Female   41   \n",
       "2          3    15619304      Onio          502    France  Female   42   \n",
       "3          4    15701354      Boni          699    France  Female   39   \n",
       "4          5    15737888  Mitchell          850     Spain  Female   43   \n",
       "\n",
       "   Tenure    Balance  NumOfProducts  HasCrCard  IsActiveMember  \\\n",
       "0     2.0       0.00              1          1               1   \n",
       "1     1.0   83807.86              1          0               1   \n",
       "2     8.0  159660.80              3          1               0   \n",
       "3     1.0       0.00              2          0               0   \n",
       "4     2.0  125510.82              1          1               1   \n",
       "\n",
       "   EstimatedSalary  Exited  \n",
       "0        101348.88       1  \n",
       "1        112542.58       0  \n",
       "2        113931.57       1  \n",
       "3         93826.63       0  \n",
       "4         79084.10       0  "
      ]
     },
     "execution_count": 4,
     "metadata": {},
     "output_type": "execute_result"
    }
   ],
   "source": [
    "#посмотрим на первые 5 строк data\n",
    "data.head()"
   ]
  },
  {
   "cell_type": "code",
   "execution_count": 5,
   "metadata": {},
   "outputs": [
    {
     "name": "stdout",
     "output_type": "stream",
     "text": [
      "<class 'pandas.core.frame.DataFrame'>\n",
      "RangeIndex: 10000 entries, 0 to 9999\n",
      "Data columns (total 14 columns):\n",
      " #   Column           Non-Null Count  Dtype  \n",
      "---  ------           --------------  -----  \n",
      " 0   RowNumber        10000 non-null  int64  \n",
      " 1   CustomerId       10000 non-null  int64  \n",
      " 2   Surname          10000 non-null  object \n",
      " 3   CreditScore      10000 non-null  int64  \n",
      " 4   Geography        10000 non-null  object \n",
      " 5   Gender           10000 non-null  object \n",
      " 6   Age              10000 non-null  int64  \n",
      " 7   Tenure           9091 non-null   float64\n",
      " 8   Balance          10000 non-null  float64\n",
      " 9   NumOfProducts    10000 non-null  int64  \n",
      " 10  HasCrCard        10000 non-null  int64  \n",
      " 11  IsActiveMember   10000 non-null  int64  \n",
      " 12  EstimatedSalary  10000 non-null  float64\n",
      " 13  Exited           10000 non-null  int64  \n",
      "dtypes: float64(3), int64(8), object(3)\n",
      "memory usage: 1.1+ MB\n"
     ]
    }
   ],
   "source": [
    "#изучим информацию о data\n",
    "data.info()"
   ]
  },
  {
   "cell_type": "markdown",
   "metadata": {},
   "source": [
    "Заметим, что есть пропуски в ожном из столбцов - `Tenure`, обработаем их. "
   ]
  },
  {
   "cell_type": "code",
   "execution_count": 6,
   "metadata": {},
   "outputs": [
    {
     "data": {
      "text/plain": [
       "dtype('float64')"
      ]
     },
     "execution_count": 6,
     "metadata": {},
     "output_type": "execute_result"
    }
   ],
   "source": [
    "#посмотрим на тип данных столбца\n",
    "data['Tenure'].dtype"
   ]
  },
  {
   "cell_type": "code",
   "execution_count": 7,
   "metadata": {},
   "outputs": [
    {
     "data": {
      "text/plain": [
       "array([ 2.,  1.,  8.,  7.,  4.,  6.,  3., 10.,  5.,  9.,  0., nan])"
      ]
     },
     "execution_count": 7,
     "metadata": {},
     "output_type": "execute_result"
    }
   ],
   "source": [
    "#посмотрим на уникальные значения столбца\n",
    "data['Tenure'].unique()"
   ]
  },
  {
   "cell_type": "code",
   "execution_count": 8,
   "metadata": {},
   "outputs": [],
   "source": [
    "#заменим пропущенные значения медианой\n",
    "data['Tenure'] = data['Tenure'].fillna(data['Tenure'].median())"
   ]
  },
  {
   "cell_type": "code",
   "execution_count": 9,
   "metadata": {},
   "outputs": [
    {
     "data": {
      "text/plain": [
       "0"
      ]
     },
     "execution_count": 9,
     "metadata": {},
     "output_type": "execute_result"
    }
   ],
   "source": [
    "#проверим наличие пропусков\n",
    "data['Tenure'].isna().sum()"
   ]
  },
  {
   "cell_type": "markdown",
   "metadata": {},
   "source": [
    "Кажется, этот признак может быть только целым, заменим тип."
   ]
  },
  {
   "cell_type": "code",
   "execution_count": 10,
   "metadata": {},
   "outputs": [],
   "source": [
    "#заменяем тип столбца на int\n",
    "data['Tenure'] = data['Tenure'].astype('int')"
   ]
  },
  {
   "cell_type": "code",
   "execution_count": 11,
   "metadata": {},
   "outputs": [
    {
     "data": {
      "text/plain": [
       "0"
      ]
     },
     "execution_count": 11,
     "metadata": {},
     "output_type": "execute_result"
    }
   ],
   "source": [
    "#посморти на количество дубликатов\n",
    "data.duplicated().sum()"
   ]
  },
  {
   "cell_type": "markdown",
   "metadata": {},
   "source": [
    "Кажется, что некоторые столбцы не помогут в анализе (`RowNumber`, `CustomerId`, `Surname`), удалим их."
   ]
  },
  {
   "cell_type": "code",
   "execution_count": 12,
   "metadata": {},
   "outputs": [],
   "source": [
    "#удаляем столбцы\n",
    "data = data.drop(['RowNumber', 'CustomerId', 'Surname'], axis=1)"
   ]
  },
  {
   "cell_type": "code",
   "execution_count": 13,
   "metadata": {},
   "outputs": [
    {
     "data": {
      "text/html": [
       "<div>\n",
       "<style scoped>\n",
       "    .dataframe tbody tr th:only-of-type {\n",
       "        vertical-align: middle;\n",
       "    }\n",
       "\n",
       "    .dataframe tbody tr th {\n",
       "        vertical-align: top;\n",
       "    }\n",
       "\n",
       "    .dataframe thead th {\n",
       "        text-align: right;\n",
       "    }\n",
       "</style>\n",
       "<table border=\"1\" class=\"dataframe\">\n",
       "  <thead>\n",
       "    <tr style=\"text-align: right;\">\n",
       "      <th></th>\n",
       "      <th>CreditScore</th>\n",
       "      <th>Geography</th>\n",
       "      <th>Gender</th>\n",
       "      <th>Age</th>\n",
       "      <th>Tenure</th>\n",
       "      <th>Balance</th>\n",
       "      <th>NumOfProducts</th>\n",
       "      <th>HasCrCard</th>\n",
       "      <th>IsActiveMember</th>\n",
       "      <th>EstimatedSalary</th>\n",
       "      <th>Exited</th>\n",
       "    </tr>\n",
       "  </thead>\n",
       "  <tbody>\n",
       "    <tr>\n",
       "      <th>0</th>\n",
       "      <td>619</td>\n",
       "      <td>France</td>\n",
       "      <td>Female</td>\n",
       "      <td>42</td>\n",
       "      <td>2</td>\n",
       "      <td>0.00</td>\n",
       "      <td>1</td>\n",
       "      <td>1</td>\n",
       "      <td>1</td>\n",
       "      <td>101348.88</td>\n",
       "      <td>1</td>\n",
       "    </tr>\n",
       "    <tr>\n",
       "      <th>1</th>\n",
       "      <td>608</td>\n",
       "      <td>Spain</td>\n",
       "      <td>Female</td>\n",
       "      <td>41</td>\n",
       "      <td>1</td>\n",
       "      <td>83807.86</td>\n",
       "      <td>1</td>\n",
       "      <td>0</td>\n",
       "      <td>1</td>\n",
       "      <td>112542.58</td>\n",
       "      <td>0</td>\n",
       "    </tr>\n",
       "    <tr>\n",
       "      <th>2</th>\n",
       "      <td>502</td>\n",
       "      <td>France</td>\n",
       "      <td>Female</td>\n",
       "      <td>42</td>\n",
       "      <td>8</td>\n",
       "      <td>159660.80</td>\n",
       "      <td>3</td>\n",
       "      <td>1</td>\n",
       "      <td>0</td>\n",
       "      <td>113931.57</td>\n",
       "      <td>1</td>\n",
       "    </tr>\n",
       "    <tr>\n",
       "      <th>3</th>\n",
       "      <td>699</td>\n",
       "      <td>France</td>\n",
       "      <td>Female</td>\n",
       "      <td>39</td>\n",
       "      <td>1</td>\n",
       "      <td>0.00</td>\n",
       "      <td>2</td>\n",
       "      <td>0</td>\n",
       "      <td>0</td>\n",
       "      <td>93826.63</td>\n",
       "      <td>0</td>\n",
       "    </tr>\n",
       "    <tr>\n",
       "      <th>4</th>\n",
       "      <td>850</td>\n",
       "      <td>Spain</td>\n",
       "      <td>Female</td>\n",
       "      <td>43</td>\n",
       "      <td>2</td>\n",
       "      <td>125510.82</td>\n",
       "      <td>1</td>\n",
       "      <td>1</td>\n",
       "      <td>1</td>\n",
       "      <td>79084.10</td>\n",
       "      <td>0</td>\n",
       "    </tr>\n",
       "  </tbody>\n",
       "</table>\n",
       "</div>"
      ],
      "text/plain": [
       "   CreditScore Geography  Gender  Age  Tenure    Balance  NumOfProducts  \\\n",
       "0          619    France  Female   42       2       0.00              1   \n",
       "1          608     Spain  Female   41       1   83807.86              1   \n",
       "2          502    France  Female   42       8  159660.80              3   \n",
       "3          699    France  Female   39       1       0.00              2   \n",
       "4          850     Spain  Female   43       2  125510.82              1   \n",
       "\n",
       "   HasCrCard  IsActiveMember  EstimatedSalary  Exited  \n",
       "0          1               1        101348.88       1  \n",
       "1          0               1        112542.58       0  \n",
       "2          1               0        113931.57       1  \n",
       "3          0               0         93826.63       0  \n",
       "4          1               1         79084.10       0  "
      ]
     },
     "execution_count": 13,
     "metadata": {},
     "output_type": "execute_result"
    }
   ],
   "source": [
    "#посмотрим на обновленный data\n",
    "data.head()"
   ]
  },
  {
   "cell_type": "code",
   "execution_count": 14,
   "metadata": {},
   "outputs": [],
   "source": [
    "#разделим данные на признаки и целевой признак\n",
    "features = data.drop(['Exited'], axis=1)\n",
    "target = data['Exited']\n",
    "\n",
    "#разделим данные на обучающую, валидационную и тестовую выборки\n",
    "features_train, features_valid_test, target_train, target_valid_test = \\\n",
    "train_test_split(features, target, test_size=0.4, random_state=12345)\n",
    "\n",
    "features_valid, features_test, target_valid, target_test = \\\n",
    "train_test_split(features_valid_test, target_valid_test, test_size=0.5, random_state=12345)"
   ]
  },
  {
   "cell_type": "markdown",
   "metadata": {},
   "source": [
    "Обработаем качественные признаки"
   ]
  },
  {
   "cell_type": "code",
   "execution_count": 15,
   "metadata": {},
   "outputs": [
    {
     "data": {
      "text/html": [
       "<div>\n",
       "<style scoped>\n",
       "    .dataframe tbody tr th:only-of-type {\n",
       "        vertical-align: middle;\n",
       "    }\n",
       "\n",
       "    .dataframe tbody tr th {\n",
       "        vertical-align: top;\n",
       "    }\n",
       "\n",
       "    .dataframe thead th {\n",
       "        text-align: right;\n",
       "    }\n",
       "</style>\n",
       "<table border=\"1\" class=\"dataframe\">\n",
       "  <thead>\n",
       "    <tr style=\"text-align: right;\">\n",
       "      <th></th>\n",
       "      <th>CreditScore</th>\n",
       "      <th>Age</th>\n",
       "      <th>Tenure</th>\n",
       "      <th>Balance</th>\n",
       "      <th>NumOfProducts</th>\n",
       "      <th>HasCrCard</th>\n",
       "      <th>IsActiveMember</th>\n",
       "      <th>EstimatedSalary</th>\n",
       "      <th>Geography_Germany</th>\n",
       "      <th>Geography_Spain</th>\n",
       "      <th>Gender_Male</th>\n",
       "    </tr>\n",
       "  </thead>\n",
       "  <tbody>\n",
       "    <tr>\n",
       "      <th>7479</th>\n",
       "      <td>567</td>\n",
       "      <td>35</td>\n",
       "      <td>8</td>\n",
       "      <td>153137.74</td>\n",
       "      <td>1</td>\n",
       "      <td>1</td>\n",
       "      <td>0</td>\n",
       "      <td>88659.07</td>\n",
       "      <td>0.0</td>\n",
       "      <td>1.0</td>\n",
       "      <td>1.0</td>\n",
       "    </tr>\n",
       "    <tr>\n",
       "      <th>3411</th>\n",
       "      <td>711</td>\n",
       "      <td>37</td>\n",
       "      <td>8</td>\n",
       "      <td>113899.92</td>\n",
       "      <td>1</td>\n",
       "      <td>0</td>\n",
       "      <td>0</td>\n",
       "      <td>80215.20</td>\n",
       "      <td>0.0</td>\n",
       "      <td>0.0</td>\n",
       "      <td>0.0</td>\n",
       "    </tr>\n",
       "    <tr>\n",
       "      <th>6027</th>\n",
       "      <td>850</td>\n",
       "      <td>44</td>\n",
       "      <td>3</td>\n",
       "      <td>140393.65</td>\n",
       "      <td>2</td>\n",
       "      <td>0</td>\n",
       "      <td>1</td>\n",
       "      <td>186285.52</td>\n",
       "      <td>1.0</td>\n",
       "      <td>0.0</td>\n",
       "      <td>1.0</td>\n",
       "    </tr>\n",
       "    <tr>\n",
       "      <th>1247</th>\n",
       "      <td>512</td>\n",
       "      <td>24</td>\n",
       "      <td>6</td>\n",
       "      <td>0.00</td>\n",
       "      <td>2</td>\n",
       "      <td>1</td>\n",
       "      <td>0</td>\n",
       "      <td>37654.31</td>\n",
       "      <td>0.0</td>\n",
       "      <td>0.0</td>\n",
       "      <td>1.0</td>\n",
       "    </tr>\n",
       "    <tr>\n",
       "      <th>3716</th>\n",
       "      <td>665</td>\n",
       "      <td>27</td>\n",
       "      <td>2</td>\n",
       "      <td>147435.96</td>\n",
       "      <td>1</td>\n",
       "      <td>0</td>\n",
       "      <td>0</td>\n",
       "      <td>187508.06</td>\n",
       "      <td>1.0</td>\n",
       "      <td>0.0</td>\n",
       "      <td>0.0</td>\n",
       "    </tr>\n",
       "  </tbody>\n",
       "</table>\n",
       "</div>"
      ],
      "text/plain": [
       "      CreditScore  Age  Tenure    Balance  NumOfProducts  HasCrCard  \\\n",
       "7479          567   35       8  153137.74              1          1   \n",
       "3411          711   37       8  113899.92              1          0   \n",
       "6027          850   44       3  140393.65              2          0   \n",
       "1247          512   24       6       0.00              2          1   \n",
       "3716          665   27       2  147435.96              1          0   \n",
       "\n",
       "      IsActiveMember  EstimatedSalary  Geography_Germany  Geography_Spain  \\\n",
       "7479               0         88659.07                0.0              1.0   \n",
       "3411               0         80215.20                0.0              0.0   \n",
       "6027               1        186285.52                1.0              0.0   \n",
       "1247               0         37654.31                0.0              0.0   \n",
       "3716               0        187508.06                1.0              0.0   \n",
       "\n",
       "      Gender_Male  \n",
       "7479          1.0  \n",
       "3411          0.0  \n",
       "6027          1.0  \n",
       "1247          1.0  \n",
       "3716          0.0  "
      ]
     },
     "execution_count": 15,
     "metadata": {},
     "output_type": "execute_result"
    }
   ],
   "source": [
    "#применяем One Hot Encoder для качественных признаков\n",
    "encoder_ohe = OneHotEncoder(drop='first', handle_unknown='ignore', sparse=False)\n",
    "columns = ['Geography', 'Gender']\n",
    "encoder_ohe.fit(features_train[columns])\n",
    "\n",
    "features_train[\n",
    "    encoder_ohe.get_feature_names_out()\n",
    "] = encoder_ohe.transform(features_train[columns])\n",
    "\n",
    "features_train = features_train.drop(columns, axis=1)\n",
    "\n",
    "features_train.head()"
   ]
  },
  {
   "cell_type": "code",
   "execution_count": 16,
   "metadata": {},
   "outputs": [
    {
     "data": {
      "text/html": [
       "<div>\n",
       "<style scoped>\n",
       "    .dataframe tbody tr th:only-of-type {\n",
       "        vertical-align: middle;\n",
       "    }\n",
       "\n",
       "    .dataframe tbody tr th {\n",
       "        vertical-align: top;\n",
       "    }\n",
       "\n",
       "    .dataframe thead th {\n",
       "        text-align: right;\n",
       "    }\n",
       "</style>\n",
       "<table border=\"1\" class=\"dataframe\">\n",
       "  <thead>\n",
       "    <tr style=\"text-align: right;\">\n",
       "      <th></th>\n",
       "      <th>CreditScore</th>\n",
       "      <th>Age</th>\n",
       "      <th>Tenure</th>\n",
       "      <th>Balance</th>\n",
       "      <th>NumOfProducts</th>\n",
       "      <th>HasCrCard</th>\n",
       "      <th>IsActiveMember</th>\n",
       "      <th>EstimatedSalary</th>\n",
       "      <th>Geography_Germany</th>\n",
       "      <th>Geography_Spain</th>\n",
       "      <th>Gender_Male</th>\n",
       "    </tr>\n",
       "  </thead>\n",
       "  <tbody>\n",
       "    <tr>\n",
       "      <th>8532</th>\n",
       "      <td>585</td>\n",
       "      <td>35</td>\n",
       "      <td>2</td>\n",
       "      <td>0.00</td>\n",
       "      <td>2</td>\n",
       "      <td>1</td>\n",
       "      <td>0</td>\n",
       "      <td>98621.04</td>\n",
       "      <td>0.0</td>\n",
       "      <td>0.0</td>\n",
       "      <td>0.0</td>\n",
       "    </tr>\n",
       "    <tr>\n",
       "      <th>5799</th>\n",
       "      <td>625</td>\n",
       "      <td>45</td>\n",
       "      <td>3</td>\n",
       "      <td>0.00</td>\n",
       "      <td>1</td>\n",
       "      <td>1</td>\n",
       "      <td>1</td>\n",
       "      <td>184474.15</td>\n",
       "      <td>0.0</td>\n",
       "      <td>0.0</td>\n",
       "      <td>0.0</td>\n",
       "    </tr>\n",
       "    <tr>\n",
       "      <th>5511</th>\n",
       "      <td>667</td>\n",
       "      <td>32</td>\n",
       "      <td>0</td>\n",
       "      <td>103846.65</td>\n",
       "      <td>1</td>\n",
       "      <td>1</td>\n",
       "      <td>0</td>\n",
       "      <td>20560.69</td>\n",
       "      <td>1.0</td>\n",
       "      <td>0.0</td>\n",
       "      <td>1.0</td>\n",
       "    </tr>\n",
       "    <tr>\n",
       "      <th>7365</th>\n",
       "      <td>568</td>\n",
       "      <td>36</td>\n",
       "      <td>10</td>\n",
       "      <td>153610.61</td>\n",
       "      <td>1</td>\n",
       "      <td>1</td>\n",
       "      <td>1</td>\n",
       "      <td>54083.80</td>\n",
       "      <td>0.0</td>\n",
       "      <td>1.0</td>\n",
       "      <td>0.0</td>\n",
       "    </tr>\n",
       "    <tr>\n",
       "      <th>7367</th>\n",
       "      <td>606</td>\n",
       "      <td>42</td>\n",
       "      <td>10</td>\n",
       "      <td>0.00</td>\n",
       "      <td>2</td>\n",
       "      <td>1</td>\n",
       "      <td>0</td>\n",
       "      <td>177938.52</td>\n",
       "      <td>0.0</td>\n",
       "      <td>1.0</td>\n",
       "      <td>1.0</td>\n",
       "    </tr>\n",
       "  </tbody>\n",
       "</table>\n",
       "</div>"
      ],
      "text/plain": [
       "      CreditScore  Age  Tenure    Balance  NumOfProducts  HasCrCard  \\\n",
       "8532          585   35       2       0.00              2          1   \n",
       "5799          625   45       3       0.00              1          1   \n",
       "5511          667   32       0  103846.65              1          1   \n",
       "7365          568   36      10  153610.61              1          1   \n",
       "7367          606   42      10       0.00              2          1   \n",
       "\n",
       "      IsActiveMember  EstimatedSalary  Geography_Germany  Geography_Spain  \\\n",
       "8532               0         98621.04                0.0              0.0   \n",
       "5799               1        184474.15                0.0              0.0   \n",
       "5511               0         20560.69                1.0              0.0   \n",
       "7365               1         54083.80                0.0              1.0   \n",
       "7367               0        177938.52                0.0              1.0   \n",
       "\n",
       "      Gender_Male  \n",
       "8532          0.0  \n",
       "5799          0.0  \n",
       "5511          1.0  \n",
       "7365          0.0  \n",
       "7367          1.0  "
      ]
     },
     "execution_count": 16,
     "metadata": {},
     "output_type": "execute_result"
    }
   ],
   "source": [
    "features_valid[\n",
    "    encoder_ohe.get_feature_names_out()\n",
    "] = encoder_ohe.transform(features_valid[columns])\n",
    "\n",
    "features_valid = features_valid.drop(columns, axis=1)\n",
    "\n",
    "features_valid.head()"
   ]
  },
  {
   "cell_type": "code",
   "execution_count": 17,
   "metadata": {},
   "outputs": [
    {
     "data": {
      "text/html": [
       "<div>\n",
       "<style scoped>\n",
       "    .dataframe tbody tr th:only-of-type {\n",
       "        vertical-align: middle;\n",
       "    }\n",
       "\n",
       "    .dataframe tbody tr th {\n",
       "        vertical-align: top;\n",
       "    }\n",
       "\n",
       "    .dataframe thead th {\n",
       "        text-align: right;\n",
       "    }\n",
       "</style>\n",
       "<table border=\"1\" class=\"dataframe\">\n",
       "  <thead>\n",
       "    <tr style=\"text-align: right;\">\n",
       "      <th></th>\n",
       "      <th>CreditScore</th>\n",
       "      <th>Age</th>\n",
       "      <th>Tenure</th>\n",
       "      <th>Balance</th>\n",
       "      <th>NumOfProducts</th>\n",
       "      <th>HasCrCard</th>\n",
       "      <th>IsActiveMember</th>\n",
       "      <th>EstimatedSalary</th>\n",
       "      <th>Geography_Germany</th>\n",
       "      <th>Geography_Spain</th>\n",
       "      <th>Gender_Male</th>\n",
       "    </tr>\n",
       "  </thead>\n",
       "  <tbody>\n",
       "    <tr>\n",
       "      <th>7041</th>\n",
       "      <td>438</td>\n",
       "      <td>38</td>\n",
       "      <td>2</td>\n",
       "      <td>0.00</td>\n",
       "      <td>2</td>\n",
       "      <td>1</td>\n",
       "      <td>0</td>\n",
       "      <td>136859.55</td>\n",
       "      <td>0.0</td>\n",
       "      <td>0.0</td>\n",
       "      <td>1.0</td>\n",
       "    </tr>\n",
       "    <tr>\n",
       "      <th>5709</th>\n",
       "      <td>644</td>\n",
       "      <td>39</td>\n",
       "      <td>9</td>\n",
       "      <td>0.00</td>\n",
       "      <td>1</td>\n",
       "      <td>1</td>\n",
       "      <td>0</td>\n",
       "      <td>3740.93</td>\n",
       "      <td>0.0</td>\n",
       "      <td>0.0</td>\n",
       "      <td>0.0</td>\n",
       "    </tr>\n",
       "    <tr>\n",
       "      <th>7117</th>\n",
       "      <td>564</td>\n",
       "      <td>31</td>\n",
       "      <td>5</td>\n",
       "      <td>121461.87</td>\n",
       "      <td>1</td>\n",
       "      <td>1</td>\n",
       "      <td>1</td>\n",
       "      <td>20432.09</td>\n",
       "      <td>0.0</td>\n",
       "      <td>1.0</td>\n",
       "      <td>1.0</td>\n",
       "    </tr>\n",
       "    <tr>\n",
       "      <th>7775</th>\n",
       "      <td>628</td>\n",
       "      <td>40</td>\n",
       "      <td>10</td>\n",
       "      <td>0.00</td>\n",
       "      <td>2</td>\n",
       "      <td>1</td>\n",
       "      <td>0</td>\n",
       "      <td>103832.58</td>\n",
       "      <td>0.0</td>\n",
       "      <td>1.0</td>\n",
       "      <td>1.0</td>\n",
       "    </tr>\n",
       "    <tr>\n",
       "      <th>8735</th>\n",
       "      <td>728</td>\n",
       "      <td>30</td>\n",
       "      <td>10</td>\n",
       "      <td>114835.43</td>\n",
       "      <td>1</td>\n",
       "      <td>0</td>\n",
       "      <td>1</td>\n",
       "      <td>37662.49</td>\n",
       "      <td>0.0</td>\n",
       "      <td>0.0</td>\n",
       "      <td>1.0</td>\n",
       "    </tr>\n",
       "  </tbody>\n",
       "</table>\n",
       "</div>"
      ],
      "text/plain": [
       "      CreditScore  Age  Tenure    Balance  NumOfProducts  HasCrCard  \\\n",
       "7041          438   38       2       0.00              2          1   \n",
       "5709          644   39       9       0.00              1          1   \n",
       "7117          564   31       5  121461.87              1          1   \n",
       "7775          628   40      10       0.00              2          1   \n",
       "8735          728   30      10  114835.43              1          0   \n",
       "\n",
       "      IsActiveMember  EstimatedSalary  Geography_Germany  Geography_Spain  \\\n",
       "7041               0        136859.55                0.0              0.0   \n",
       "5709               0          3740.93                0.0              0.0   \n",
       "7117               1         20432.09                0.0              1.0   \n",
       "7775               0        103832.58                0.0              1.0   \n",
       "8735               1         37662.49                0.0              0.0   \n",
       "\n",
       "      Gender_Male  \n",
       "7041          1.0  \n",
       "5709          0.0  \n",
       "7117          1.0  \n",
       "7775          1.0  \n",
       "8735          1.0  "
      ]
     },
     "execution_count": 17,
     "metadata": {},
     "output_type": "execute_result"
    }
   ],
   "source": [
    "features_test[\n",
    "    encoder_ohe.get_feature_names_out()\n",
    "] = encoder_ohe.transform(features_test[columns])\n",
    "\n",
    "features_test = features_test.drop(columns, axis=1)\n",
    "\n",
    "features_test.head()"
   ]
  },
  {
   "cell_type": "code",
   "execution_count": 18,
   "metadata": {},
   "outputs": [],
   "source": [
    "#масштабируем количественные признаки\n",
    "numeric = ['CreditScore', 'Age', 'Tenure', 'Balance', 'NumOfProducts', 'HasCrCard', 'IsActiveMember', \n",
    "              'EstimatedSalary']\n",
    "\n",
    "scaler = StandardScaler()\n",
    "scaler.fit(features_train[numeric])\n",
    "\n",
    "features_train[numeric] = scaler.transform(features_train[numeric])"
   ]
  },
  {
   "cell_type": "code",
   "execution_count": 19,
   "metadata": {},
   "outputs": [],
   "source": [
    "features_valid[numeric] = scaler.transform(features_valid[numeric])\n",
    "features_test[numeric] = scaler.transform(features_test[numeric])"
   ]
  },
  {
   "cell_type": "markdown",
   "metadata": {},
   "source": [
    "***Вывод:*** Всего в данных содержится 10 000 строк и 14 столбцов. Была проведена первичная обработка данных, а именно обработаны пропуски и столбцы, не содержащие важной информации. В результате данные были разделены на обучающую, валидационную и тестовую выборки (60%, 20%, 20% соответственно). Кроме того, данные были масштабированы, качественные признаки были обработаны и преобразованы в количественные."
   ]
  },
  {
   "cell_type": "markdown",
   "metadata": {},
   "source": [
    "## Исследование задачи"
   ]
  },
  {
   "cell_type": "code",
   "execution_count": 20,
   "metadata": {},
   "outputs": [
    {
     "data": {
      "text/plain": [
       "0    0.800667\n",
       "1    0.199333\n",
       "Name: Exited, dtype: float64"
      ]
     },
     "execution_count": 20,
     "metadata": {},
     "output_type": "execute_result"
    }
   ],
   "source": [
    "#поссмотрим на распределение классов целевого признака\n",
    "target_train.value_counts(normalize=True)"
   ]
  },
  {
   "cell_type": "code",
   "execution_count": 21,
   "metadata": {},
   "outputs": [
    {
     "data": {
      "image/png": "[encoded data removed]",
      "text/plain": [
       "<Figure size 432x288 with 1 Axes>"
      ]
     },
     "metadata": {
      "needs_background": "light"
     },
     "output_type": "display_data"
    }
   ],
   "source": [
    "target_train.plot(kind='hist', bins=2)\n",
    "plt.title('Распределение целевого признака');"
   ]
  },
  {
   "cell_type": "markdown",
   "metadata": {},
   "source": [
    "Заметен сильный дисбаланс классов в пользу класса 0"
   ]
  },
  {
   "cell_type": "markdown",
   "metadata": {},
   "source": [
    "**Random Forest Classifier**"
   ]
  },
  {
   "cell_type": "code",
   "execution_count": 22,
   "metadata": {
    "scrolled": true
   },
   "outputs": [
    {
     "name": "stdout",
     "output_type": "stream",
     "text": [
      "max depth: 1 ___ estimator: 10 F1 score: 0.0\n",
      "max depth: 2 ___ estimator: 10 F1 score: 0.2\n",
      "max depth: 3 ___ estimator: 10 F1 score: 0.25102880658436216\n",
      "max depth: 4 ___ estimator: 10 F1 score: 0.49578414839797635\n",
      "max depth: 5 ___ estimator: 10 F1 score: 0.5170731707317073\n",
      "max depth: 6 ___ estimator: 10 F1 score: 0.5475409836065573\n",
      "max depth: 7 ___ estimator: 10 F1 score: 0.5625965996908809\n",
      "max depth: 8 ___ estimator: 10 F1 score: 0.550314465408805\n",
      "max depth: 9 ___ estimator: 10 F1 score: 0.5809379727685325\n",
      "max depth: 10 ___ estimator: 10 F1 score: 0.5891238670694864\n",
      "max depth: 11 ___ estimator: 10 F1 score: 0.5773195876288659\n",
      "max depth: 12 ___ estimator: 10 F1 score: 0.5731166912850812\n",
      "max depth: 13 ___ estimator: 10 F1 score: 0.5638766519823789\n",
      "max depth: 14 ___ estimator: 10 F1 score: 0.5834542815674891\n",
      "max depth: 15 ___ estimator: 10 F1 score: 0.5688888888888889\n",
      "max depth: 16 ___ estimator: 10 F1 score: 0.552129221732746\n",
      "max depth: 17 ___ estimator: 10 F1 score: 0.5542521994134898\n",
      "max depth: 18 ___ estimator: 10 F1 score: 0.5675675675675675\n",
      "max depth: 19 ___ estimator: 10 F1 score: 0.5468053491827638\n",
      "max depth: 20 ___ estimator: 10 F1 score: 0.5595238095238096\n",
      "max depth: 1 ___ estimator: 20 F1 score: 0.0\n",
      "max depth: 2 ___ estimator: 20 F1 score: 0.15789473684210525\n",
      "max depth: 3 ___ estimator: 20 F1 score: 0.23284823284823286\n",
      "max depth: 4 ___ estimator: 20 F1 score: 0.42369838420107714\n",
      "max depth: 5 ___ estimator: 20 F1 score: 0.5188834154351396\n",
      "max depth: 6 ___ estimator: 20 F1 score: 0.5333333333333333\n",
      "max depth: 7 ___ estimator: 20 F1 score: 0.5625000000000001\n",
      "max depth: 8 ___ estimator: 20 F1 score: 0.5641838351822503\n",
      "max depth: 9 ___ estimator: 20 F1 score: 0.5763239875389408\n",
      "max depth: 10 ___ estimator: 20 F1 score: 0.581039755351682\n",
      "max depth: 11 ___ estimator: 20 F1 score: 0.582701062215478\n",
      "max depth: 12 ___ estimator: 20 F1 score: 0.5701357466063349\n",
      "max depth: 13 ___ estimator: 20 F1 score: 0.562406015037594\n",
      "max depth: 14 ___ estimator: 20 F1 score: 0.5727136431784108\n",
      "max depth: 15 ___ estimator: 20 F1 score: 0.5752608047690015\n",
      "max depth: 16 ___ estimator: 20 F1 score: 0.5646359583952452\n",
      "max depth: 17 ___ estimator: 20 F1 score: 0.5617647058823529\n",
      "max depth: 18 ___ estimator: 20 F1 score: 0.5596330275229359\n",
      "max depth: 19 ___ estimator: 20 F1 score: 0.573134328358209\n",
      "max depth: 20 ___ estimator: 20 F1 score: 0.5416036308623298\n",
      "max depth: 1 ___ estimator: 30 F1 score: 0.0\n",
      "max depth: 2 ___ estimator: 30 F1 score: 0.14222222222222222\n",
      "max depth: 3 ___ estimator: 30 F1 score: 0.22268907563025211\n",
      "max depth: 4 ___ estimator: 30 F1 score: 0.36158192090395475\n",
      "max depth: 5 ___ estimator: 30 F1 score: 0.49749582637729545\n",
      "max depth: 6 ___ estimator: 30 F1 score: 0.5306799336650083\n",
      "max depth: 7 ___ estimator: 30 F1 score: 0.5414012738853503\n",
      "max depth: 8 ___ estimator: 30 F1 score: 0.5627980922098569\n",
      "max depth: 9 ___ estimator: 30 F1 score: 0.5709828393135726\n",
      "max depth: 10 ___ estimator: 30 F1 score: 0.563944530046225\n",
      "max depth: 11 ___ estimator: 30 F1 score: 0.5731895223420647\n",
      "max depth: 12 ___ estimator: 30 F1 score: 0.5757575757575758\n",
      "max depth: 13 ___ estimator: 30 F1 score: 0.582701062215478\n",
      "max depth: 14 ___ estimator: 30 F1 score: 0.5714285714285714\n",
      "max depth: 15 ___ estimator: 30 F1 score: 0.5602409638554217\n",
      "max depth: 16 ___ estimator: 30 F1 score: 0.5671641791044776\n",
      "max depth: 17 ___ estimator: 30 F1 score: 0.566813509544787\n",
      "max depth: 18 ___ estimator: 30 F1 score: 0.582701062215478\n",
      "max depth: 19 ___ estimator: 30 F1 score: 0.5765765765765767\n",
      "max depth: 20 ___ estimator: 30 F1 score: 0.5498489425981874\n",
      "max depth: 1 ___ estimator: 40 F1 score: 0.0\n",
      "max depth: 2 ___ estimator: 40 F1 score: 0.17391304347826086\n",
      "max depth: 3 ___ estimator: 40 F1 score: 0.22315789473684208\n",
      "max depth: 4 ___ estimator: 40 F1 score: 0.3866171003717472\n",
      "max depth: 5 ___ estimator: 40 F1 score: 0.4745762711864407\n",
      "max depth: 6 ___ estimator: 40 F1 score: 0.53\n",
      "max depth: 7 ___ estimator: 40 F1 score: 0.5500794912559619\n",
      "max depth: 8 ___ estimator: 40 F1 score: 0.5654952076677316\n",
      "max depth: 9 ___ estimator: 40 F1 score: 0.5736677115987461\n",
      "max depth: 10 ___ estimator: 40 F1 score: 0.562111801242236\n",
      "max depth: 11 ___ estimator: 40 F1 score: 0.5793528505392913\n",
      "max depth: 12 ___ estimator: 40 F1 score: 0.5869894099848714\n",
      "max depth: 13 ___ estimator: 40 F1 score: 0.583206106870229\n",
      "max depth: 14 ___ estimator: 40 F1 score: 0.5658093797276854\n",
      "max depth: 15 ___ estimator: 40 F1 score: 0.5670731707317073\n",
      "max depth: 16 ___ estimator: 40 F1 score: 0.5684210526315789\n",
      "max depth: 17 ___ estimator: 40 F1 score: 0.5650887573964496\n",
      "max depth: 18 ___ estimator: 40 F1 score: 0.5774436090225564\n",
      "max depth: 19 ___ estimator: 40 F1 score: 0.5696969696969697\n",
      "max depth: 20 ___ estimator: 40 F1 score: 0.5645645645645646\n",
      "max depth: 1 ___ estimator: 50 F1 score: 0.0\n",
      "max depth: 2 ___ estimator: 50 F1 score: 0.1853448275862069\n",
      "max depth: 3 ___ estimator: 50 F1 score: 0.26993865030674846\n",
      "max depth: 4 ___ estimator: 50 F1 score: 0.40293040293040294\n",
      "max depth: 5 ___ estimator: 50 F1 score: 0.46735395189003437\n",
      "max depth: 6 ___ estimator: 50 F1 score: 0.5348837209302326\n",
      "max depth: 7 ___ estimator: 50 F1 score: 0.560126582278481\n",
      "max depth: 8 ___ estimator: 50 F1 score: 0.5705229793977813\n",
      "max depth: 9 ___ estimator: 50 F1 score: 0.5709779179810726\n",
      "max depth: 10 ___ estimator: 50 F1 score: 0.5510835913312693\n",
      "max depth: 11 ___ estimator: 50 F1 score: 0.5696594427244582\n",
      "max depth: 12 ___ estimator: 50 F1 score: 0.5779816513761468\n",
      "max depth: 13 ___ estimator: 50 F1 score: 0.5709969788519637\n",
      "max depth: 14 ___ estimator: 50 F1 score: 0.5705705705705705\n",
      "max depth: 15 ___ estimator: 50 F1 score: 0.5731523378582202\n",
      "max depth: 16 ___ estimator: 50 F1 score: 0.575712143928036\n",
      "max depth: 17 ___ estimator: 50 F1 score: 0.5718562874251497\n",
      "max depth: 18 ___ estimator: 50 F1 score: 0.5683890577507599\n",
      "max depth: 19 ___ estimator: 50 F1 score: 0.5813253012048193\n",
      "max depth: 20 ___ estimator: 50 F1 score: 0.5705705705705705\n",
      "max depth: 1 ___ estimator: 60 F1 score: 0.0\n",
      "max depth: 2 ___ estimator: 60 F1 score: 0.15418502202643172\n",
      "max depth: 3 ___ estimator: 60 F1 score: 0.2520661157024794\n",
      "max depth: 4 ___ estimator: 60 F1 score: 0.40293040293040294\n",
      "max depth: 5 ___ estimator: 60 F1 score: 0.4802744425385935\n",
      "max depth: 6 ___ estimator: 60 F1 score: 0.5460526315789473\n",
      "max depth: 7 ___ estimator: 60 F1 score: 0.5615141955835962\n",
      "max depth: 8 ___ estimator: 60 F1 score: 0.5709728867623605\n",
      "max depth: 9 ___ estimator: 60 F1 score: 0.5611285266457681\n",
      "max depth: 10 ___ estimator: 60 F1 score: 0.5696594427244582\n",
      "max depth: 11 ___ estimator: 60 F1 score: 0.5648148148148148\n",
      "max depth: 12 ___ estimator: 60 F1 score: 0.5753424657534246\n",
      "max depth: 13 ___ estimator: 60 F1 score: 0.5722983257229833\n",
      "max depth: 14 ___ estimator: 60 F1 score: 0.5727272727272728\n",
      "max depth: 15 ___ estimator: 60 F1 score: 0.5813253012048193\n",
      "max depth: 16 ___ estimator: 60 F1 score: 0.5770392749244713\n",
      "max depth: 17 ___ estimator: 60 F1 score: 0.5735512630014858\n",
      "max depth: 18 ___ estimator: 60 F1 score: 0.5688073394495413\n",
      "max depth: 19 ___ estimator: 60 F1 score: 0.5913818722139673\n",
      "max depth: 20 ___ estimator: 60 F1 score: 0.5714285714285715\n",
      "max depth: 1 ___ estimator: 70 F1 score: 0.0\n",
      "max depth: 2 ___ estimator: 70 F1 score: 0.11286681715575622\n",
      "max depth: 3 ___ estimator: 70 F1 score: 0.24166666666666667\n",
      "max depth: 4 ___ estimator: 70 F1 score: 0.3836126629422719\n",
      "max depth: 5 ___ estimator: 70 F1 score: 0.4766839378238343\n",
      "max depth: 6 ___ estimator: 70 F1 score: 0.5339966832504146\n",
      "max depth: 7 ___ estimator: 70 F1 score: 0.5619047619047619\n",
      "max depth: 8 ___ estimator: 70 F1 score: 0.5632\n",
      "max depth: 9 ___ estimator: 70 F1 score: 0.5529225908372828\n",
      "max depth: 10 ___ estimator: 70 F1 score: 0.5674418604651162\n",
      "max depth: 11 ___ estimator: 70 F1 score: 0.5599999999999999\n",
      "max depth: 12 ___ estimator: 70 F1 score: 0.5887708649468891\n",
      "max depth: 13 ___ estimator: 70 F1 score: 0.582701062215478\n",
      "max depth: 14 ___ estimator: 70 F1 score: 0.5632530120481928\n",
      "max depth: 15 ___ estimator: 70 F1 score: 0.5804511278195489\n",
      "max depth: 16 ___ estimator: 70 F1 score: 0.574436090225564\n",
      "max depth: 17 ___ estimator: 70 F1 score: 0.56973293768546\n",
      "max depth: 18 ___ estimator: 70 F1 score: 0.5709923664122137\n",
      "max depth: 19 ___ estimator: 70 F1 score: 0.5843373493975904\n",
      "max depth: 20 ___ estimator: 70 F1 score: 0.5791044776119403\n",
      "max depth: 1 ___ estimator: 80 F1 score: 0.0\n",
      "max depth: 2 ___ estimator: 80 F1 score: 0.12975391498881433\n",
      "max depth: 3 ___ estimator: 80 F1 score: 0.23060796645702306\n",
      "max depth: 4 ___ estimator: 80 F1 score: 0.38733705772811916\n",
      "max depth: 5 ___ estimator: 80 F1 score: 0.48370497427101194\n",
      "max depth: 6 ___ estimator: 80 F1 score: 0.533112582781457\n",
      "max depth: 7 ___ estimator: 80 F1 score: 0.5650793650793651\n",
      "max depth: 8 ___ estimator: 80 F1 score: 0.5632\n",
      "max depth: 9 ___ estimator: 80 F1 score: 0.5578446909667195\n",
      "max depth: 10 ___ estimator: 80 F1 score: 0.5771604938271605\n",
      "max depth: 11 ___ estimator: 80 F1 score: 0.5648148148148148\n",
      "max depth: 12 ___ estimator: 80 F1 score: 0.5844748858447488\n",
      "max depth: 13 ___ estimator: 80 F1 score: 0.5848484848484847\n",
      "max depth: 14 ___ estimator: 80 F1 score: 0.5744680851063829\n",
      "max depth: 15 ___ estimator: 80 F1 score: 0.5864661654135339\n",
      "max depth: 16 ___ estimator: 80 F1 score: 0.5769805680119582\n",
      "max depth: 17 ___ estimator: 80 F1 score: 0.575712143928036\n",
      "max depth: 18 ___ estimator: 80 F1 score: 0.5670731707317073\n",
      "max depth: 19 ___ estimator: 80 F1 score: 0.5809379727685325\n",
      "max depth: 20 ___ estimator: 80 F1 score: 0.5765765765765767\n",
      "max depth: 1 ___ estimator: 90 F1 score: 0.0\n",
      "max depth: 2 ___ estimator: 90 F1 score: 0.11286681715575622\n",
      "max depth: 3 ___ estimator: 90 F1 score: 0.22315789473684208\n",
      "max depth: 4 ___ estimator: 90 F1 score: 0.37523452157598497\n",
      "max depth: 5 ___ estimator: 90 F1 score: 0.4766839378238343\n",
      "max depth: 6 ___ estimator: 90 F1 score: 0.5257903494176372\n",
      "max depth: 7 ___ estimator: 90 F1 score: 0.5605095541401274\n",
      "max depth: 8 ___ estimator: 90 F1 score: 0.5608974358974359\n",
      "max depth: 9 ___ estimator: 90 F1 score: 0.5615141955835962\n",
      "max depth: 10 ___ estimator: 90 F1 score: 0.5740740740740741\n",
      "max depth: 11 ___ estimator: 90 F1 score: 0.56656346749226\n",
      "max depth: 12 ___ estimator: 90 F1 score: 0.5896656534954408\n",
      "max depth: 13 ___ estimator: 90 F1 score: 0.582701062215478\n",
      "max depth: 14 ___ estimator: 90 F1 score: 0.5735963581183612\n",
      "max depth: 15 ___ estimator: 90 F1 score: 0.5825825825825826\n",
      "max depth: 16 ___ estimator: 90 F1 score: 0.5744047619047619\n",
      "max depth: 17 ___ estimator: 90 F1 score: 0.5735512630014858\n",
      "max depth: 18 ___ estimator: 90 F1 score: 0.5692541856925418\n",
      "max depth: 19 ___ estimator: 90 F1 score: 0.5774436090225564\n",
      "max depth: 20 ___ estimator: 90 F1 score: 0.5787106446776611\n",
      "max depth: 1 ___ estimator: 100 F1 score: 0.0\n",
      "max depth: 2 ___ estimator: 100 F1 score: 0.1294642857142857\n",
      "max depth: 3 ___ estimator: 100 F1 score: 0.23382045929018794\n",
      "max depth: 4 ___ estimator: 100 F1 score: 0.3805970149253731\n",
      "max depth: 5 ___ estimator: 100 F1 score: 0.4660869565217391\n",
      "max depth: 6 ___ estimator: 100 F1 score: 0.5266666666666666\n",
      "max depth: 7 ___ estimator: 100 F1 score: 0.5596184419713831\n",
      "max depth: 8 ___ estimator: 100 F1 score: 0.5641025641025641\n",
      "max depth: 9 ___ estimator: 100 F1 score: 0.5606299212598426\n",
      "max depth: 10 ___ estimator: 100 F1 score: 0.5692068429237946\n",
      "max depth: 11 ___ estimator: 100 F1 score: 0.5701078582434514\n",
      "max depth: 12 ___ estimator: 100 F1 score: 0.5878787878787878\n",
      "max depth: 13 ___ estimator: 100 F1 score: 0.5731707317073171\n",
      "max depth: 14 ___ estimator: 100 F1 score: 0.5787106446776611\n",
      "max depth: 15 ___ estimator: 100 F1 score: 0.5838323353293413\n",
      "max depth: 16 ___ estimator: 100 F1 score: 0.5791044776119403\n",
      "max depth: 17 ___ estimator: 100 F1 score: 0.5799701046337816\n",
      "max depth: 18 ___ estimator: 100 F1 score: 0.5630769230769231\n",
      "max depth: 19 ___ estimator: 100 F1 score: 0.5864661654135339\n",
      "max depth: 20 ___ estimator: 100 F1 score: 0.5855855855855856\n",
      "max depth: 1 ___ estimator: 110 F1 score: 0.0\n",
      "max depth: 2 ___ estimator: 110 F1 score: 0.1377777777777778\n",
      "max depth: 3 ___ estimator: 110 F1 score: 0.2453222453222453\n",
      "max depth: 4 ___ estimator: 110 F1 score: 0.37383177570093457\n",
      "max depth: 5 ___ estimator: 110 F1 score: 0.4660869565217391\n",
      "max depth: 6 ___ estimator: 110 F1 score: 0.5224625623960067\n",
      "max depth: 7 ___ estimator: 110 F1 score: 0.5591054313099042\n",
      "max depth: 8 ___ estimator: 110 F1 score: 0.5641025641025641\n",
      "max depth: 9 ___ estimator: 110 F1 score: 0.5611285266457681\n",
      "max depth: 10 ___ estimator: 110 F1 score: 0.5811437403400309\n",
      "max depth: 11 ___ estimator: 110 F1 score: 0.5696594427244582\n",
      "max depth: 12 ___ estimator: 110 F1 score: 0.5875190258751902\n",
      "max depth: 13 ___ estimator: 110 F1 score: 0.5861027190332326\n",
      "max depth: 14 ___ estimator: 110 F1 score: 0.572289156626506\n",
      "max depth: 15 ___ estimator: 110 F1 score: 0.585949177877429\n",
      "max depth: 16 ___ estimator: 110 F1 score: 0.5825825825825826\n",
      "max depth: 17 ___ estimator: 110 F1 score: 0.5812220566318926\n",
      "max depth: 18 ___ estimator: 110 F1 score: 0.5688073394495413\n",
      "max depth: 19 ___ estimator: 110 F1 score: 0.5813253012048193\n",
      "max depth: 20 ___ estimator: 110 F1 score: 0.5787106446776611\n",
      "max depth: 1 ___ estimator: 120 F1 score: 0.0\n",
      "max depth: 2 ___ estimator: 120 F1 score: 0.1415929203539823\n",
      "max depth: 3 ___ estimator: 120 F1 score: 0.24844720496894407\n",
      "max depth: 4 ___ estimator: 120 F1 score: 0.37453183520599254\n",
      "max depth: 5 ___ estimator: 120 F1 score: 0.4660869565217391\n",
      "max depth: 6 ___ estimator: 120 F1 score: 0.5306799336650083\n",
      "max depth: 7 ___ estimator: 120 F1 score: 0.5530546623794212\n",
      "max depth: 8 ___ estimator: 120 F1 score: 0.5654952076677316\n",
      "max depth: 9 ___ estimator: 120 F1 score: 0.5597484276729561\n",
      "max depth: 10 ___ estimator: 120 F1 score: 0.5842349304482226\n",
      "max depth: 11 ___ estimator: 120 F1 score: 0.5731895223420647\n",
      "max depth: 12 ___ estimator: 120 F1 score: 0.5801526717557252\n",
      "max depth: 13 ___ estimator: 120 F1 score: 0.5787878787878789\n",
      "max depth: 14 ___ estimator: 120 F1 score: 0.575712143928036\n",
      "max depth: 15 ___ estimator: 120 F1 score: 0.5877061469265367\n",
      "max depth: 16 ___ estimator: 120 F1 score: 0.5855855855855856\n",
      "max depth: 17 ___ estimator: 120 F1 score: 0.5816023738872403\n",
      "max depth: 18 ___ estimator: 120 F1 score: 0.56793893129771\n",
      "max depth: 19 ___ estimator: 120 F1 score: 0.5868263473053892\n",
      "max depth: 20 ___ estimator: 120 F1 score: 0.5817091454272864\n"
     ]
    }
   ],
   "source": [
    "#обучим модель случайного леса на несбалансированных данных\n",
    "best_score = 0\n",
    "best_depth = 0\n",
    "best_estimator = 0\n",
    "best_model_rf = None\n",
    "for estimator in range(10, 121, 10):\n",
    "    for depth in range(1, 21):\n",
    "        model = RandomForestClassifier(n_estimators=estimator, max_depth=depth, random_state=12345)\n",
    "        model.fit(features_train, target_train)\n",
    "        predictions = model.predict(features_valid)\n",
    "        score = f1_score(target_valid, predictions)\n",
    "        print(f'max depth: {depth} ___ estimator: {estimator} F1 score: {score}')\n",
    "        if best_score < score:\n",
    "            best_score = score\n",
    "            best_depth = depth\n",
    "            best_estimator = estimator\n",
    "            best_model_rf = model"
   ]
  },
  {
   "cell_type": "code",
   "execution_count": 23,
   "metadata": {},
   "outputs": [
    {
     "name": "stdout",
     "output_type": "stream",
     "text": [
      "Best f1 score: 0.5913818722139673 when max depth = 19 and estimator = 60\n"
     ]
    }
   ],
   "source": [
    "#выведем лучшее значение f1 score\n",
    "print(f'Best f1 score: {best_score} when max depth = {best_depth} and estimator = {best_estimator}')"
   ]
  },
  {
   "cell_type": "markdown",
   "metadata": {},
   "source": [
    "**Desicion Tree Classifier**"
   ]
  },
  {
   "cell_type": "code",
   "execution_count": 24,
   "metadata": {},
   "outputs": [
    {
     "name": "stdout",
     "output_type": "stream",
     "text": [
      "max depth: 1 ___ F1 score: 0.0\n",
      "max depth: 2 ___ F1 score: 0.5217391304347825\n",
      "max depth: 3 ___ F1 score: 0.4234875444839857\n",
      "max depth: 4 ___ F1 score: 0.5528700906344411\n",
      "max depth: 5 ___ F1 score: 0.5406249999999999\n",
      "max depth: 6 ___ F1 score: 0.5696969696969697\n",
      "max depth: 7 ___ F1 score: 0.5320813771517998\n",
      "max depth: 8 ___ F1 score: 0.5454545454545454\n",
      "max depth: 9 ___ F1 score: 0.5633802816901409\n",
      "max depth: 10 ___ F1 score: 0.5385694249649369\n",
      "max depth: 11 ___ F1 score: 0.5059920106524634\n",
      "max depth: 12 ___ F1 score: 0.521072796934866\n",
      "max depth: 13 ___ F1 score: 0.5038961038961038\n",
      "max depth: 14 ___ F1 score: 0.48675914249684743\n",
      "max depth: 15 ___ F1 score: 0.4975124378109453\n",
      "max depth: 16 ___ F1 score: 0.4987654320987654\n",
      "max depth: 17 ___ F1 score: 0.4767726161369193\n",
      "max depth: 18 ___ F1 score: 0.48522167487684725\n",
      "max depth: 19 ___ F1 score: 0.49521531100478466\n",
      "max depth: 20 ___ F1 score: 0.5006075334143378\n",
      "\n",
      "Best f1 score: 0.5696969696969697 when max depth = 6\n"
     ]
    }
   ],
   "source": [
    "#обучим модель дерева решений на несбалансированных данных\n",
    "best_score = 0\n",
    "best_depth = 0\n",
    "best_model_dt = None\n",
    "for depth in range(1, 21):\n",
    "    model = DecisionTreeClassifier(max_depth=depth, random_state=12345)\n",
    "    model.fit(features_train, target_train)\n",
    "    predictions = model.predict(features_valid)\n",
    "    score = f1_score(target_valid, predictions)\n",
    "    print(f'max depth: {depth} ___ F1 score: {score}')\n",
    "    if best_score < score:\n",
    "        best_score = score\n",
    "        best_depth = depth\n",
    "        best_model_dt = model\n",
    "\n",
    "print(f'\\nBest f1 score: {best_score} when max depth = {best_depth}')"
   ]
  },
  {
   "cell_type": "markdown",
   "metadata": {},
   "source": [
    "**Logistic Regression Classifier**"
   ]
  },
  {
   "cell_type": "code",
   "execution_count": 25,
   "metadata": {},
   "outputs": [
    {
     "name": "stdout",
     "output_type": "stream",
     "text": [
      "F1 score: 0.33108108108108103\n"
     ]
    }
   ],
   "source": [
    "#обучим модель логистической регрессии на несбалансированных данных\n",
    "model_lr = LogisticRegression(random_state=12345)\n",
    "model_lr.fit(features_train, target_train)\n",
    "predictions = model_lr.predict(features_valid)\n",
    "\n",
    "print(f'F1 score: {f1_score(target_valid, predictions)}') "
   ]
  },
  {
   "cell_type": "code",
   "execution_count": 26,
   "metadata": {},
   "outputs": [],
   "source": [
    "#вычислим вероятности положительных классов\n",
    "dt_probabilities_one_valid = best_model_dt.predict_proba(features_valid)[:, 1]\n",
    "rf_probabilities_one_valid = best_model_rf.predict_proba(features_valid)[:, 1]\n",
    "lr_probabilities_one_valid = model_lr.predict_proba(features_valid)[:, 1]"
   ]
  },
  {
   "cell_type": "code",
   "execution_count": 27,
   "metadata": {},
   "outputs": [
    {
     "name": "stdout",
     "output_type": "stream",
     "text": [
      "ROC AUC for Decision Tree: 0.8164631712023421\n",
      "ROC AUC for Random Forest: 0.8343611442120991\n",
      "ROC AUC for Logistic Regression: 0.7587134570134104\n"
     ]
    }
   ],
   "source": [
    "#вычислим roc auc score\n",
    "auc_roc_dt = roc_auc_score(target_valid, dt_probabilities_one_valid)\n",
    "auc_roc_rf = roc_auc_score(target_valid, rf_probabilities_one_valid)\n",
    "auc_roc_lr = roc_auc_score(target_valid, lr_probabilities_one_valid)\n",
    "\n",
    "print(f'ROC AUC for Decision Tree: {auc_roc_dt}')\n",
    "print(f'ROC AUC for Random Forest: {auc_roc_rf}')\n",
    "print(f'ROC AUC for Logistic Regression: {auc_roc_lr}')"
   ]
  },
  {
   "cell_type": "code",
   "execution_count": 28,
   "metadata": {},
   "outputs": [
    {
     "data": {
      "image/png": "[encoded data removed]",
      "text/plain": [
       "<Figure size 432x288 with 1 Axes>"
      ]
     },
     "metadata": {
      "needs_background": "light"
     },
     "output_type": "display_data"
    }
   ],
   "source": [
    "#построим ROC-кривую\n",
    "dt_fper, dt_tper, dt_thresholds = roc_curve(target_valid, dt_probabilities_one_valid)\n",
    "rf_fper, rf_tper, rf_thresholds = roc_curve(target_valid, rf_probabilities_one_valid)\n",
    "lr_fper, lr_tper, lr_thresholds = roc_curve(target_valid, lr_probabilities_one_valid)\n",
    "\n",
    "plt.plot(dt_fper, dt_tper, color='red', label='ROC_DT')\n",
    "plt.plot(rf_fper, rf_tper, color='blue', label='ROC_RF')\n",
    "plt.plot(lr_fper, lr_tper, color='yellow', label='ROC_LR')\n",
    "plt.plot([0, 1], [0, 1], color='green', linestyle='--')\n",
    "plt.xlim([0.0, 1.0])\n",
    "plt.ylim([0.0, 1.0])\n",
    "plt.xlabel('False Positive Rate')\n",
    "plt.ylabel('True Positive Rate')\n",
    "plt.title('ROC-кривая')\n",
    "plt.legend()\n",
    "plt.show()"
   ]
  },
  {
   "cell_type": "markdown",
   "metadata": {},
   "source": [
    "***Вывод:*** при обучение моделей на данных с дисбалансом моделью с лучшим показателем f1 score на валидационной выборке (0.59) стала Random Forest Classifier. Также эта модель показала лучшее значение ROC AUC (0.83)."
   ]
  },
  {
   "cell_type": "markdown",
   "metadata": {},
   "source": [
    "## Борьба с дисбалансом"
   ]
  },
  {
   "cell_type": "markdown",
   "metadata": {},
   "source": [
    "Как мы выяснили ранее в нашей выборке отрицательны ответов ≈ 80% , положитительных ≈ 20%. Нам необходмо увеличить количество положительных ответов в 4 раза для достижения баланса. Либо же уменьшить кол-во отрицательных ответов."
   ]
  },
  {
   "cell_type": "markdown",
   "metadata": {},
   "source": [
    "Попробуем воспользоваться `class_weight='balanced'`"
   ]
  },
  {
   "cell_type": "code",
   "execution_count": 29,
   "metadata": {},
   "outputs": [
    {
     "name": "stdout",
     "output_type": "stream",
     "text": [
      "max depth: 1 ___ estimator: 10 F1 score: 0.5159165751920967\n",
      "max depth: 2 ___ estimator: 10 F1 score: 0.569620253164557\n",
      "max depth: 3 ___ estimator: 10 F1 score: 0.5668849391955099\n",
      "max depth: 4 ___ estimator: 10 F1 score: 0.5989637305699482\n",
      "max depth: 5 ___ estimator: 10 F1 score: 0.5916334661354582\n",
      "max depth: 6 ___ estimator: 10 F1 score: 0.6071428571428573\n",
      "max depth: 7 ___ estimator: 10 F1 score: 0.6078838174273858\n",
      "max depth: 8 ___ estimator: 10 F1 score: 0.6225596529284164\n",
      "max depth: 9 ___ estimator: 10 F1 score: 0.6087912087912088\n",
      "max depth: 10 ___ estimator: 10 F1 score: 0.6060606060606061\n",
      "max depth: 11 ___ estimator: 10 F1 score: 0.5895522388059701\n",
      "max depth: 12 ___ estimator: 10 F1 score: 0.5802310654685494\n",
      "max depth: 13 ___ estimator: 10 F1 score: 0.5782493368700264\n",
      "max depth: 14 ___ estimator: 10 F1 score: 0.5798319327731092\n",
      "max depth: 15 ___ estimator: 10 F1 score: 0.5684830633284241\n",
      "max depth: 16 ___ estimator: 10 F1 score: 0.5419734904270986\n",
      "max depth: 17 ___ estimator: 10 F1 score: 0.5381165919282511\n",
      "max depth: 18 ___ estimator: 10 F1 score: 0.5315315315315315\n",
      "max depth: 19 ___ estimator: 10 F1 score: 0.529595015576324\n",
      "max depth: 20 ___ estimator: 10 F1 score: 0.5501519756838905\n",
      "max depth: 1 ___ estimator: 20 F1 score: 0.5280898876404494\n",
      "max depth: 2 ___ estimator: 20 F1 score: 0.5714285714285714\n",
      "max depth: 3 ___ estimator: 20 F1 score: 0.5727525486561632\n",
      "max depth: 4 ___ estimator: 20 F1 score: 0.5991902834008097\n",
      "max depth: 5 ___ estimator: 20 F1 score: 0.6054490413723512\n",
      "max depth: 6 ___ estimator: 20 F1 score: 0.6052104208416834\n",
      "max depth: 7 ___ estimator: 20 F1 score: 0.608324439701174\n",
      "max depth: 8 ___ estimator: 20 F1 score: 0.616557734204793\n",
      "max depth: 9 ___ estimator: 20 F1 score: 0.6098654708520179\n",
      "max depth: 10 ___ estimator: 20 F1 score: 0.60381861575179\n",
      "max depth: 11 ___ estimator: 20 F1 score: 0.5956907477820025\n",
      "max depth: 12 ___ estimator: 20 F1 score: 0.6023778071334214\n",
      "max depth: 13 ___ estimator: 20 F1 score: 0.6027397260273972\n",
      "max depth: 14 ___ estimator: 20 F1 score: 0.5857142857142856\n",
      "max depth: 15 ___ estimator: 20 F1 score: 0.5755813953488371\n",
      "max depth: 16 ___ estimator: 20 F1 score: 0.5684830633284241\n",
      "max depth: 17 ___ estimator: 20 F1 score: 0.5468277945619335\n",
      "max depth: 18 ___ estimator: 20 F1 score: 0.5329341317365269\n",
      "max depth: 19 ___ estimator: 20 F1 score: 0.5415384615384615\n",
      "max depth: 20 ___ estimator: 20 F1 score: 0.5376344086021505\n",
      "max depth: 1 ___ estimator: 30 F1 score: 0.5327354260089686\n",
      "max depth: 2 ___ estimator: 30 F1 score: 0.5694849368318756\n",
      "max depth: 3 ___ estimator: 30 F1 score: 0.5646196150320806\n",
      "max depth: 4 ___ estimator: 30 F1 score: 0.5949119373776908\n",
      "max depth: 5 ___ estimator: 30 F1 score: 0.6077457795431976\n",
      "max depth: 6 ___ estimator: 30 F1 score: 0.6027944111776445\n",
      "max depth: 7 ___ estimator: 30 F1 score: 0.6107030430220356\n",
      "max depth: 8 ___ estimator: 30 F1 score: 0.6163793103448275\n",
      "max depth: 9 ___ estimator: 30 F1 score: 0.6086956521739131\n",
      "max depth: 10 ___ estimator: 30 F1 score: 0.606280193236715\n",
      "max depth: 11 ___ estimator: 30 F1 score: 0.6065989847715736\n",
      "max depth: 12 ___ estimator: 30 F1 score: 0.6058201058201058\n",
      "max depth: 13 ___ estimator: 30 F1 score: 0.5942228335625859\n",
      "max depth: 14 ___ estimator: 30 F1 score: 0.6002844950213371\n",
      "max depth: 15 ___ estimator: 30 F1 score: 0.5909752547307133\n",
      "max depth: 16 ___ estimator: 30 F1 score: 0.5714285714285715\n",
      "max depth: 17 ___ estimator: 30 F1 score: 0.5791044776119403\n",
      "max depth: 18 ___ estimator: 30 F1 score: 0.5618320610687023\n",
      "max depth: 19 ___ estimator: 30 F1 score: 0.5587786259541985\n",
      "max depth: 20 ___ estimator: 30 F1 score: 0.5374045801526718\n",
      "max depth: 1 ___ estimator: 40 F1 score: 0.5433962264150943\n",
      "max depth: 2 ___ estimator: 40 F1 score: 0.5694305694305694\n",
      "max depth: 3 ___ estimator: 40 F1 score: 0.5648994515539305\n",
      "max depth: 4 ___ estimator: 40 F1 score: 0.596078431372549\n",
      "max depth: 5 ___ estimator: 40 F1 score: 0.6118811881188119\n",
      "max depth: 6 ___ estimator: 40 F1 score: 0.6161616161616161\n",
      "max depth: 7 ___ estimator: 40 F1 score: 0.6124604012671594\n",
      "max depth: 8 ___ estimator: 40 F1 score: 0.6270270270270271\n",
      "max depth: 9 ___ estimator: 40 F1 score: 0.6130884041331801\n",
      "max depth: 10 ___ estimator: 40 F1 score: 0.6208530805687204\n",
      "max depth: 11 ___ estimator: 40 F1 score: 0.6035353535353536\n",
      "max depth: 12 ___ estimator: 40 F1 score: 0.6086956521739131\n",
      "max depth: 13 ___ estimator: 40 F1 score: 0.6002766251728906\n",
      "max depth: 14 ___ estimator: 40 F1 score: 0.5960451977401131\n",
      "max depth: 15 ___ estimator: 40 F1 score: 0.5939741750358679\n",
      "max depth: 16 ___ estimator: 40 F1 score: 0.5764705882352941\n",
      "max depth: 17 ___ estimator: 40 F1 score: 0.5901639344262294\n",
      "max depth: 18 ___ estimator: 40 F1 score: 0.5749235474006116\n",
      "max depth: 19 ___ estimator: 40 F1 score: 0.5727411944869832\n",
      "max depth: 20 ___ estimator: 40 F1 score: 0.5421133231240429\n",
      "max depth: 1 ___ estimator: 50 F1 score: 0.5430954587581093\n",
      "max depth: 2 ___ estimator: 50 F1 score: 0.5616045845272206\n",
      "max depth: 3 ___ estimator: 50 F1 score: 0.5775301764159704\n",
      "max depth: 4 ___ estimator: 50 F1 score: 0.5953757225433527\n",
      "max depth: 5 ___ estimator: 50 F1 score: 0.6114398422090729\n",
      "max depth: 6 ___ estimator: 50 F1 score: 0.6138211382113822\n",
      "max depth: 7 ___ estimator: 50 F1 score: 0.6182965299684542\n",
      "max depth: 8 ___ estimator: 50 F1 score: 0.62582056892779\n",
      "max depth: 9 ___ estimator: 50 F1 score: 0.6227272727272727\n",
      "max depth: 10 ___ estimator: 50 F1 score: 0.6124401913875598\n",
      "max depth: 11 ___ estimator: 50 F1 score: 0.6129032258064517\n",
      "max depth: 12 ___ estimator: 50 F1 score: 0.5941644562334217\n",
      "max depth: 13 ___ estimator: 50 F1 score: 0.598079561042524\n",
      "max depth: 14 ___ estimator: 50 F1 score: 0.5965909090909091\n",
      "max depth: 15 ___ estimator: 50 F1 score: 0.5950653120464442\n",
      "max depth: 16 ___ estimator: 50 F1 score: 0.5842026825633383\n",
      "max depth: 17 ___ estimator: 50 F1 score: 0.5816023738872403\n",
      "max depth: 18 ___ estimator: 50 F1 score: 0.5718654434250765\n",
      "max depth: 19 ___ estimator: 50 F1 score: 0.5683563748079876\n",
      "max depth: 20 ___ estimator: 50 F1 score: 0.551829268292683\n",
      "max depth: 1 ___ estimator: 60 F1 score: 0.5427782888684453\n",
      "max depth: 2 ___ estimator: 60 F1 score: 0.5614678899082569\n",
      "max depth: 3 ___ estimator: 60 F1 score: 0.5806451612903226\n",
      "max depth: 4 ___ estimator: 60 F1 score: 0.6009661835748793\n",
      "max depth: 5 ___ estimator: 60 F1 score: 0.6086105675146771\n",
      "max depth: 6 ___ estimator: 60 F1 score: 0.616326530612245\n",
      "max depth: 7 ___ estimator: 60 F1 score: 0.6271186440677966\n",
      "max depth: 8 ___ estimator: 60 F1 score: 0.6142076502732241\n",
      "max depth: 9 ___ estimator: 60 F1 score: 0.6245694603903559\n",
      "max depth: 10 ___ estimator: 60 F1 score: 0.6183574879227053\n",
      "max depth: 11 ___ estimator: 60 F1 score: 0.6120906801007556\n",
      "max depth: 12 ___ estimator: 60 F1 score: 0.5986754966887416\n",
      "max depth: 13 ___ estimator: 60 F1 score: 0.5871056241426611\n",
      "max depth: 14 ___ estimator: 60 F1 score: 0.6036671368124119\n",
      "max depth: 15 ___ estimator: 60 F1 score: 0.5964912280701754\n",
      "max depth: 16 ___ estimator: 60 F1 score: 0.5718518518518518\n",
      "max depth: 17 ___ estimator: 60 F1 score: 0.5837037037037038\n",
      "max depth: 18 ___ estimator: 60 F1 score: 0.5779816513761468\n",
      "max depth: 19 ___ estimator: 60 F1 score: 0.5692307692307692\n",
      "max depth: 20 ___ estimator: 60 F1 score: 0.5592705167173253\n",
      "max depth: 1 ___ estimator: 70 F1 score: 0.5427312775330396\n",
      "max depth: 2 ___ estimator: 70 F1 score: 0.5683257918552035\n",
      "max depth: 3 ___ estimator: 70 F1 score: 0.5803489439853076\n",
      "max depth: 4 ___ estimator: 70 F1 score: 0.6061776061776061\n",
      "max depth: 5 ___ estimator: 70 F1 score: 0.6029268292682926\n",
      "max depth: 6 ___ estimator: 70 F1 score: 0.6108870967741935\n",
      "max depth: 7 ___ estimator: 70 F1 score: 0.6200417536534447\n",
      "max depth: 8 ___ estimator: 70 F1 score: 0.6150490730643402\n",
      "max depth: 9 ___ estimator: 70 F1 score: 0.624\n",
      "max depth: 10 ___ estimator: 70 F1 score: 0.6086956521739132\n",
      "max depth: 11 ___ estimator: 70 F1 score: 0.6034912718204488\n",
      "max depth: 12 ___ estimator: 70 F1 score: 0.610079575596817\n",
      "max depth: 13 ___ estimator: 70 F1 score: 0.5942228335625859\n",
      "max depth: 14 ___ estimator: 70 F1 score: 0.5971830985915493\n",
      "max depth: 15 ___ estimator: 70 F1 score: 0.5976676384839651\n",
      "max depth: 16 ___ estimator: 70 F1 score: 0.5756240822320118\n",
      "max depth: 17 ___ estimator: 70 F1 score: 0.5739910313901345\n",
      "max depth: 18 ___ estimator: 70 F1 score: 0.5762195121951219\n",
      "max depth: 19 ___ estimator: 70 F1 score: 0.5792682926829268\n",
      "max depth: 20 ___ estimator: 70 F1 score: 0.558282208588957\n",
      "max depth: 1 ___ estimator: 80 F1 score: 0.5387453874538745\n",
      "max depth: 2 ___ estimator: 80 F1 score: 0.5753931544865866\n",
      "max depth: 3 ___ estimator: 80 F1 score: 0.5835641735918744\n",
      "max depth: 4 ___ estimator: 80 F1 score: 0.6063522617901829\n",
      "max depth: 5 ___ estimator: 80 F1 score: 0.6110019646365422\n",
      "max depth: 6 ___ estimator: 80 F1 score: 0.6156982670744139\n",
      "max depth: 7 ___ estimator: 80 F1 score: 0.6176470588235294\n",
      "max depth: 8 ___ estimator: 80 F1 score: 0.6172300981461287\n",
      "max depth: 9 ___ estimator: 80 F1 score: 0.6229885057471264\n",
      "max depth: 10 ___ estimator: 80 F1 score: 0.6137184115523466\n",
      "max depth: 11 ___ estimator: 80 F1 score: 0.602258469259724\n",
      "max depth: 12 ___ estimator: 80 F1 score: 0.6045272969374168\n",
      "max depth: 13 ___ estimator: 80 F1 score: 0.5933147632311978\n",
      "max depth: 14 ___ estimator: 80 F1 score: 0.6047819971870605\n",
      "max depth: 15 ___ estimator: 80 F1 score: 0.5830903790087464\n",
      "max depth: 16 ___ estimator: 80 F1 score: 0.5806451612903226\n",
      "max depth: 17 ___ estimator: 80 F1 score: 0.574436090225564\n",
      "max depth: 18 ___ estimator: 80 F1 score: 0.5757575757575758\n",
      "max depth: 19 ___ estimator: 80 F1 score: 0.5819295558958653\n",
      "max depth: 20 ___ estimator: 80 F1 score: 0.5626911314984709\n",
      "max depth: 1 ___ estimator: 90 F1 score: 0.5442684063373718\n",
      "max depth: 2 ___ estimator: 90 F1 score: 0.5767441860465116\n",
      "max depth: 3 ___ estimator: 90 F1 score: 0.5868152274837511\n",
      "max depth: 4 ___ estimator: 90 F1 score: 0.6050096339113681\n",
      "max depth: 5 ___ estimator: 90 F1 score: 0.6104023552502453\n",
      "max depth: 6 ___ estimator: 90 F1 score: 0.618705035971223\n",
      "max depth: 7 ___ estimator: 90 F1 score: 0.6230200633579726\n",
      "max depth: 8 ___ estimator: 90 F1 score: 0.615553121577218\n",
      "max depth: 9 ___ estimator: 90 F1 score: 0.6284403669724771\n",
      "max depth: 10 ___ estimator: 90 F1 score: 0.6153846153846154\n",
      "max depth: 11 ___ estimator: 90 F1 score: 0.6032540675844805\n",
      "max depth: 12 ___ estimator: 90 F1 score: 0.6117021276595744\n",
      "max depth: 13 ___ estimator: 90 F1 score: 0.5919778699861687\n",
      "max depth: 14 ___ estimator: 90 F1 score: 0.5949008498583569\n",
      "max depth: 15 ___ estimator: 90 F1 score: 0.5852941176470587\n",
      "max depth: 16 ___ estimator: 90 F1 score: 0.5764705882352941\n",
      "max depth: 17 ___ estimator: 90 F1 score: 0.5868263473053892\n",
      "max depth: 18 ___ estimator: 90 F1 score: 0.5818181818181819\n",
      "max depth: 19 ___ estimator: 90 F1 score: 0.5714285714285714\n",
      "max depth: 20 ___ estimator: 90 F1 score: 0.5599999999999999\n",
      "max depth: 1 ___ estimator: 100 F1 score: 0.5446096654275093\n",
      "max depth: 2 ___ estimator: 100 F1 score: 0.5754189944134078\n",
      "max depth: 3 ___ estimator: 100 F1 score: 0.5852749301025164\n",
      "max depth: 4 ___ estimator: 100 F1 score: 0.6054158607350097\n",
      "max depth: 5 ___ estimator: 100 F1 score: 0.612807881773399\n",
      "max depth: 6 ___ estimator: 100 F1 score: 0.62217659137577\n",
      "max depth: 7 ___ estimator: 100 F1 score: 0.6232948583420777\n",
      "max depth: 8 ___ estimator: 100 F1 score: 0.6221248630887185\n",
      "max depth: 9 ___ estimator: 100 F1 score: 0.6189376443418014\n",
      "max depth: 10 ___ estimator: 100 F1 score: 0.6159420289855072\n",
      "max depth: 11 ___ estimator: 100 F1 score: 0.6097867001254705\n",
      "max depth: 12 ___ estimator: 100 F1 score: 0.6151797603195739\n",
      "max depth: 13 ___ estimator: 100 F1 score: 0.594142259414226\n",
      "max depth: 14 ___ estimator: 100 F1 score: 0.5960451977401131\n",
      "max depth: 15 ___ estimator: 100 F1 score: 0.5920471281296024\n",
      "max depth: 16 ___ estimator: 100 F1 score: 0.5705794947994056\n",
      "max depth: 17 ___ estimator: 100 F1 score: 0.5748502994011976\n",
      "max depth: 18 ___ estimator: 100 F1 score: 0.5830815709969789\n",
      "max depth: 19 ___ estimator: 100 F1 score: 0.5736196319018405\n",
      "max depth: 20 ___ estimator: 100 F1 score: 0.5529953917050692\n",
      "max depth: 1 ___ estimator: 110 F1 score: 0.5432780847145487\n",
      "max depth: 2 ___ estimator: 110 F1 score: 0.5749063670411986\n",
      "max depth: 3 ___ estimator: 110 F1 score: 0.5913370998116761\n",
      "max depth: 4 ___ estimator: 110 F1 score: 0.6028985507246377\n",
      "max depth: 5 ___ estimator: 110 F1 score: 0.6107317073170732\n",
      "max depth: 6 ___ estimator: 110 F1 score: 0.624360286591607\n",
      "max depth: 7 ___ estimator: 110 F1 score: 0.6243386243386244\n",
      "max depth: 8 ___ estimator: 110 F1 score: 0.6192560175054704\n",
      "max depth: 9 ___ estimator: 110 F1 score: 0.6291618828932262\n",
      "max depth: 10 ___ estimator: 110 F1 score: 0.6172248803827751\n",
      "max depth: 11 ___ estimator: 110 F1 score: 0.6083650190114067\n",
      "max depth: 12 ___ estimator: 110 F1 score: 0.6198675496688741\n",
      "max depth: 13 ___ estimator: 110 F1 score: 0.5966850828729282\n",
      "max depth: 14 ___ estimator: 110 F1 score: 0.5997171145685998\n",
      "max depth: 15 ___ estimator: 110 F1 score: 0.5915080527086384\n",
      "max depth: 16 ___ estimator: 110 F1 score: 0.5802650957290133\n",
      "max depth: 17 ___ estimator: 110 F1 score: 0.5680119581464872\n",
      "max depth: 18 ___ estimator: 110 F1 score: 0.5809379727685325\n",
      "max depth: 19 ___ estimator: 110 F1 score: 0.5770992366412214\n",
      "max depth: 20 ___ estimator: 110 F1 score: 0.5608628659476117\n",
      "max depth: 1 ___ estimator: 120 F1 score: 0.5436179981634527\n",
      "max depth: 2 ___ estimator: 120 F1 score: 0.5725118483412323\n",
      "max depth: 3 ___ estimator: 120 F1 score: 0.5902255639097744\n",
      "max depth: 4 ___ estimator: 120 F1 score: 0.6060019361084221\n",
      "max depth: 5 ___ estimator: 120 F1 score: 0.612966601178782\n",
      "max depth: 6 ___ estimator: 120 F1 score: 0.621900826446281\n",
      "max depth: 7 ___ estimator: 120 F1 score: 0.6210526315789473\n",
      "max depth: 8 ___ estimator: 120 F1 score: 0.6200873362445415\n",
      "max depth: 9 ___ estimator: 120 F1 score: 0.621403912543153\n",
      "max depth: 10 ___ estimator: 120 F1 score: 0.6196172248803827\n",
      "max depth: 11 ___ estimator: 120 F1 score: 0.6095717884130982\n",
      "max depth: 12 ___ estimator: 120 F1 score: 0.6135458167330677\n",
      "max depth: 13 ___ estimator: 120 F1 score: 0.5919778699861687\n",
      "max depth: 14 ___ estimator: 120 F1 score: 0.6002844950213371\n",
      "max depth: 15 ___ estimator: 120 F1 score: 0.5894428152492669\n",
      "max depth: 16 ___ estimator: 120 F1 score: 0.5828402366863905\n",
      "max depth: 17 ___ estimator: 120 F1 score: 0.573134328358209\n",
      "max depth: 18 ___ estimator: 120 F1 score: 0.578386605783866\n",
      "max depth: 19 ___ estimator: 120 F1 score: 0.5762195121951219\n",
      "max depth: 20 ___ estimator: 120 F1 score: 0.5617283950617283\n"
     ]
    }
   ],
   "source": [
    "#обучим модель случайного леса на сбалансированных данных\n",
    "best_score = 0\n",
    "best_depth = 0\n",
    "best_estimator = 0\n",
    "best_model_rf = None\n",
    "for estimator in range(10, 121, 10):\n",
    "    for depth in range(1, 21):\n",
    "        model = RandomForestClassifier(n_estimators=estimator, max_depth=depth, \n",
    "                                       class_weight='balanced', random_state=12345)\n",
    "        model.fit(features_train, target_train)\n",
    "        predictions = model.predict(features_valid)\n",
    "        score = f1_score(target_valid, predictions)\n",
    "        print(f'max depth: {depth} ___ estimator: {estimator} F1 score: {score}')\n",
    "        if best_score < score:\n",
    "            best_score = score\n",
    "            best_depth = depth\n",
    "            best_estimator = estimator\n",
    "            best_model_rf = model"
   ]
  },
  {
   "cell_type": "code",
   "execution_count": 30,
   "metadata": {},
   "outputs": [
    {
     "name": "stdout",
     "output_type": "stream",
     "text": [
      "Best f1 score: 0.6291618828932262 when max depth = 9 and estimator = 110\n"
     ]
    }
   ],
   "source": [
    "#выведем лучшее значение f1 score\n",
    "print(f'Best f1 score: {best_score} when max depth = {best_depth} and estimator = {best_estimator}')"
   ]
  },
  {
   "cell_type": "code",
   "execution_count": 31,
   "metadata": {},
   "outputs": [
    {
     "name": "stdout",
     "output_type": "stream",
     "text": [
      "max depth: 1 ___ F1 score: 0.4994903160040775\n",
      "max depth: 2 ___ F1 score: 0.541015625\n",
      "max depth: 3 ___ F1 score: 0.541015625\n",
      "max depth: 4 ___ F1 score: 0.5277777777777778\n",
      "max depth: 5 ___ F1 score: 0.5963791267305644\n",
      "max depth: 6 ___ F1 score: 0.5581835383159887\n",
      "max depth: 7 ___ F1 score: 0.5508390918065154\n",
      "max depth: 8 ___ F1 score: 0.5398058252427185\n",
      "max depth: 9 ___ F1 score: 0.5431119920713577\n",
      "max depth: 10 ___ F1 score: 0.5081495685522531\n",
      "max depth: 11 ___ F1 score: 0.533748701973001\n",
      "max depth: 12 ___ F1 score: 0.5035677879714576\n",
      "max depth: 13 ___ F1 score: 0.5151515151515152\n",
      "max depth: 14 ___ F1 score: 0.4872080088987764\n",
      "max depth: 15 ___ F1 score: 0.47861271676300576\n",
      "max depth: 16 ___ F1 score: 0.49114521841794573\n",
      "max depth: 17 ___ F1 score: 0.4940617577197149\n",
      "max depth: 18 ___ F1 score: 0.47971360381861583\n",
      "max depth: 19 ___ F1 score: 0.47961630695443647\n",
      "max depth: 20 ___ F1 score: 0.4852941176470588\n",
      "\n",
      "Best f1 score: 0.5963791267305644 when max depth = 5\n"
     ]
    }
   ],
   "source": [
    "#обучим модель дерева решений на сбалансированных данных\n",
    "best_score = 0\n",
    "best_depth = 0\n",
    "best_model_dt = None\n",
    "for depth in range(1, 21):\n",
    "    model = DecisionTreeClassifier(max_depth=depth, class_weight='balanced', random_state=12345)\n",
    "    model.fit(features_train, target_train)\n",
    "    predictions = model.predict(features_valid)\n",
    "    score = f1_score(target_valid, predictions)\n",
    "    print(f'max depth: {depth} ___ F1 score: {score}')\n",
    "    if best_score < score:\n",
    "        best_score = score\n",
    "        best_depth = depth\n",
    "        best_model_dt = model\n",
    "\n",
    "print(f'\\nBest f1 score: {best_score} when max depth = {best_depth}')"
   ]
  },
  {
   "cell_type": "code",
   "execution_count": 32,
   "metadata": {},
   "outputs": [
    {
     "name": "stdout",
     "output_type": "stream",
     "text": [
      "F1 score: 0.4888507718696398\n"
     ]
    }
   ],
   "source": [
    "#попробуем обучить модели со сбалансированными классами\n",
    "model_lr_balanced = LogisticRegression(random_state=12345, solver='liblinear', class_weight='balanced')\n",
    "model_lr_balanced.fit(features_train, target_train)\n",
    "predictions = model_lr_balanced.predict(features_valid)\n",
    "\n",
    "print(f'F1 score: {f1_score(target_valid, predictions)}') "
   ]
  },
  {
   "cell_type": "markdown",
   "metadata": {},
   "source": [
    "Значение f1 score немного увеличилось, попробуем дальше."
   ]
  },
  {
   "cell_type": "code",
   "execution_count": 33,
   "metadata": {},
   "outputs": [],
   "source": [
    "#создадим функцию upsample для увеличения положительного класса\n",
    "def upsample(features, target, repeat):\n",
    "    features_zeros = features[target == 0]\n",
    "    features_ones = features[target == 1]\n",
    "    target_zeros = target[target == 0]\n",
    "    target_ones = target[target == 1]\n",
    "\n",
    "    features_upsampled = pd.concat([features_zeros] + [features_ones] * repeat)\n",
    "    target_upsampled = pd.concat([target_zeros] + [target_ones] * repeat)\n",
    "    \n",
    "    features_upsampled, target_upsampled = shuffle(\n",
    "        features_upsampled, target_upsampled, random_state=12345)\n",
    "    \n",
    "    return features_upsampled, target_upsampled"
   ]
  },
  {
   "cell_type": "code",
   "execution_count": 34,
   "metadata": {},
   "outputs": [
    {
     "name": "stdout",
     "output_type": "stream",
     "text": [
      "0    0.501043\n",
      "1    0.498957\n",
      "Name: Exited, dtype: float64\n"
     ]
    }
   ],
   "source": [
    "#применим функцию к обучающей выборке\n",
    "features_train_upsampled, target__train_upsampled = upsample(features_train, target_train, 4)\n",
    "print(target__train_upsampled.value_counts(normalize=True))"
   ]
  },
  {
   "cell_type": "code",
   "execution_count": 35,
   "metadata": {},
   "outputs": [],
   "source": [
    "#создадим функцию для уменьшения класса 0 в выборке \n",
    "def downsample(features, target, fraction):\n",
    "    features_zeros = features[target == 0]\n",
    "    features_ones = features[target == 1]\n",
    "    target_zeros = target[target == 0]\n",
    "    target_ones = target[target == 1]\n",
    "\n",
    "    features_downsampled = pd.concat(\n",
    "        [features_zeros.sample(frac=fraction, random_state=12345)] + [features_ones])\n",
    "    target_downsampled = pd.concat(\n",
    "        [target_zeros.sample(frac=fraction, random_state=12345)] + [target_ones])\n",
    "    \n",
    "    features_downsampled, target_downsampled = shuffle(\n",
    "        features_downsampled, target_downsampled, random_state=12345)\n",
    "    \n",
    "    return features_downsampled, target_downsampled"
   ]
  },
  {
   "cell_type": "code",
   "execution_count": 36,
   "metadata": {},
   "outputs": [
    {
     "name": "stdout",
     "output_type": "stream",
     "text": [
      "0    0.501043\n",
      "1    0.498957\n",
      "Name: Exited, dtype: float64\n"
     ]
    }
   ],
   "source": [
    "#применим функцию к обучающей выборке\n",
    "features_train_downsampled, target_train_downsampled = downsample(features_train, target_train, 0.25)\n",
    "print(target_train_downsampled.value_counts(normalize=True))"
   ]
  },
  {
   "cell_type": "code",
   "execution_count": 37,
   "metadata": {
    "scrolled": true
   },
   "outputs": [
    {
     "name": "stdout",
     "output_type": "stream",
     "text": [
      "max depth: 1 ___ estimator: 10 F1 score: 0.5159165751920967\n",
      "max depth: 2 ___ estimator: 10 F1 score: 0.5766129032258065\n",
      "max depth: 3 ___ estimator: 10 F1 score: 0.5792972459639126\n",
      "max depth: 4 ___ estimator: 10 F1 score: 0.606\n",
      "max depth: 5 ___ estimator: 10 F1 score: 0.6050583657587548\n",
      "max depth: 6 ___ estimator: 10 F1 score: 0.5948026948989412\n",
      "max depth: 7 ___ estimator: 10 F1 score: 0.5962487660414609\n",
      "max depth: 8 ___ estimator: 10 F1 score: 0.6038894575230296\n",
      "max depth: 9 ___ estimator: 10 F1 score: 0.5908629441624366\n",
      "max depth: 10 ___ estimator: 10 F1 score: 0.5995717344753747\n",
      "max depth: 11 ___ estimator: 10 F1 score: 0.588235294117647\n",
      "max depth: 12 ___ estimator: 10 F1 score: 0.5860889395667047\n",
      "max depth: 13 ___ estimator: 10 F1 score: 0.592857142857143\n",
      "max depth: 14 ___ estimator: 10 F1 score: 0.5973397823458283\n",
      "max depth: 15 ___ estimator: 10 F1 score: 0.5778331257783312\n",
      "max depth: 16 ___ estimator: 10 F1 score: 0.5900383141762451\n",
      "max depth: 17 ___ estimator: 10 F1 score: 0.5684485006518906\n",
      "max depth: 18 ___ estimator: 10 F1 score: 0.5736842105263157\n",
      "max depth: 19 ___ estimator: 10 F1 score: 0.5851755526657997\n",
      "max depth: 20 ___ estimator: 10 F1 score: 0.570281124497992\n",
      "max depth: 1 ___ estimator: 20 F1 score: 0.5336048879837066\n",
      "max depth: 2 ___ estimator: 20 F1 score: 0.5504087193460491\n",
      "max depth: 3 ___ estimator: 20 F1 score: 0.5724976613657624\n",
      "max depth: 4 ___ estimator: 20 F1 score: 0.6003976143141153\n",
      "max depth: 5 ___ estimator: 20 F1 score: 0.6164658634538153\n",
      "max depth: 6 ___ estimator: 20 F1 score: 0.6104417670682731\n",
      "max depth: 7 ___ estimator: 20 F1 score: 0.6213786213786213\n",
      "max depth: 8 ___ estimator: 20 F1 score: 0.6138002059732234\n",
      "max depth: 9 ___ estimator: 20 F1 score: 0.610878661087866\n",
      "max depth: 10 ___ estimator: 20 F1 score: 0.6084142394822006\n",
      "max depth: 11 ___ estimator: 20 F1 score: 0.6043329532497149\n",
      "max depth: 12 ___ estimator: 20 F1 score: 0.5927654609101516\n",
      "max depth: 13 ___ estimator: 20 F1 score: 0.6278240190249702\n",
      "max depth: 14 ___ estimator: 20 F1 score: 0.5960591133004925\n",
      "max depth: 15 ___ estimator: 20 F1 score: 0.6039603960396039\n",
      "max depth: 16 ___ estimator: 20 F1 score: 0.6067415730337077\n",
      "max depth: 17 ___ estimator: 20 F1 score: 0.5914396887159533\n",
      "max depth: 18 ___ estimator: 20 F1 score: 0.5923984272608126\n",
      "max depth: 19 ___ estimator: 20 F1 score: 0.581913499344692\n",
      "max depth: 20 ___ estimator: 20 F1 score: 0.596774193548387\n",
      "max depth: 1 ___ estimator: 30 F1 score: 0.5201646090534979\n",
      "max depth: 2 ___ estimator: 30 F1 score: 0.5537340619307832\n",
      "max depth: 3 ___ estimator: 30 F1 score: 0.5548617305976806\n",
      "max depth: 4 ___ estimator: 30 F1 score: 0.5998052580331062\n",
      "max depth: 5 ___ estimator: 30 F1 score: 0.6051080550098231\n",
      "max depth: 6 ___ estimator: 30 F1 score: 0.6029850746268657\n",
      "max depth: 7 ___ estimator: 30 F1 score: 0.6180344478216818\n",
      "max depth: 8 ___ estimator: 30 F1 score: 0.6144329896907217\n",
      "max depth: 9 ___ estimator: 30 F1 score: 0.6107030430220356\n",
      "max depth: 10 ___ estimator: 30 F1 score: 0.609271523178808\n",
      "max depth: 11 ___ estimator: 30 F1 score: 0.6178489702517161\n",
      "max depth: 12 ___ estimator: 30 F1 score: 0.6032863849765259\n",
      "max depth: 13 ___ estimator: 30 F1 score: 0.6127864897466828\n",
      "max depth: 14 ___ estimator: 30 F1 score: 0.6051660516605165\n",
      "max depth: 15 ___ estimator: 30 F1 score: 0.6045340050377833\n",
      "max depth: 16 ___ estimator: 30 F1 score: 0.5989847715736041\n",
      "max depth: 17 ___ estimator: 30 F1 score: 0.6064516129032258\n",
      "max depth: 18 ___ estimator: 30 F1 score: 0.590967741935484\n",
      "max depth: 19 ___ estimator: 30 F1 score: 0.5888594164456235\n",
      "max depth: 20 ___ estimator: 30 F1 score: 0.6111111111111113\n",
      "max depth: 1 ___ estimator: 40 F1 score: 0.5373913043478261\n",
      "max depth: 2 ___ estimator: 40 F1 score: 0.5567970204841712\n",
      "max depth: 3 ___ estimator: 40 F1 score: 0.5680580762250453\n",
      "max depth: 4 ___ estimator: 40 F1 score: 0.6032977691561591\n",
      "max depth: 5 ___ estimator: 40 F1 score: 0.6037364798426745\n",
      "max depth: 6 ___ estimator: 40 F1 score: 0.6047430830039526\n",
      "max depth: 7 ___ estimator: 40 F1 score: 0.6164801627670397\n",
      "max depth: 8 ___ estimator: 40 F1 score: 0.6153846153846153\n",
      "max depth: 9 ___ estimator: 40 F1 score: 0.6116910229645094\n",
      "max depth: 10 ___ estimator: 40 F1 score: 0.615553121577218\n",
      "max depth: 11 ___ estimator: 40 F1 score: 0.6109839816933638\n",
      "max depth: 12 ___ estimator: 40 F1 score: 0.6028368794326241\n",
      "max depth: 13 ___ estimator: 40 F1 score: 0.6207729468599034\n",
      "max depth: 14 ___ estimator: 40 F1 score: 0.6034063260340632\n",
      "max depth: 15 ___ estimator: 40 F1 score: 0.6065162907268171\n",
      "max depth: 16 ___ estimator: 40 F1 score: 0.6051282051282051\n",
      "max depth: 17 ___ estimator: 40 F1 score: 0.6010230179028133\n",
      "max depth: 18 ___ estimator: 40 F1 score: 0.5986928104575163\n",
      "max depth: 19 ___ estimator: 40 F1 score: 0.5968586387434555\n",
      "max depth: 20 ___ estimator: 40 F1 score: 0.6180371352785146\n",
      "max depth: 1 ___ estimator: 50 F1 score: 0.5375218150087261\n",
      "max depth: 2 ___ estimator: 50 F1 score: 0.5565862708719851\n",
      "max depth: 3 ___ estimator: 50 F1 score: 0.5753931544865866\n",
      "max depth: 4 ___ estimator: 50 F1 score: 0.6011673151750972\n",
      "max depth: 5 ___ estimator: 50 F1 score: 0.6023622047244094\n",
      "max depth: 6 ___ estimator: 50 F1 score: 0.6112759643916913\n",
      "max depth: 7 ___ estimator: 50 F1 score: 0.6197757390417941\n",
      "max depth: 8 ___ estimator: 50 F1 score: 0.6203319502074689\n",
      "max depth: 9 ___ estimator: 50 F1 score: 0.6133056133056134\n",
      "max depth: 10 ___ estimator: 50 F1 score: 0.6233480176211453\n",
      "max depth: 11 ___ estimator: 50 F1 score: 0.6157354618015963\n",
      "max depth: 12 ___ estimator: 50 F1 score: 0.6122931442080378\n",
      "max depth: 13 ___ estimator: 50 F1 score: 0.6224366706875754\n",
      "max depth: 14 ___ estimator: 50 F1 score: 0.6061349693251534\n",
      "max depth: 15 ___ estimator: 50 F1 score: 0.6124999999999999\n",
      "max depth: 16 ___ estimator: 50 F1 score: 0.6108247422680413\n",
      "max depth: 17 ___ estimator: 50 F1 score: 0.5945945945945946\n",
      "max depth: 18 ___ estimator: 50 F1 score: 0.5950196592398428\n",
      "max depth: 19 ___ estimator: 50 F1 score: 0.5973684210526315\n",
      "max depth: 20 ___ estimator: 50 F1 score: 0.6045272969374168\n",
      "max depth: 1 ___ estimator: 60 F1 score: 0.5461254612546126\n",
      "max depth: 2 ___ estimator: 60 F1 score: 0.5519713261648744\n",
      "max depth: 3 ___ estimator: 60 F1 score: 0.5783132530120482\n",
      "max depth: 4 ___ estimator: 60 F1 score: 0.598848368522073\n",
      "max depth: 5 ___ estimator: 60 F1 score: 0.601577909270217\n",
      "max depth: 6 ___ estimator: 60 F1 score: 0.6117179741807348\n",
      "max depth: 7 ___ estimator: 60 F1 score: 0.6171079429735233\n",
      "max depth: 8 ___ estimator: 60 F1 score: 0.6179196704428424\n",
      "max depth: 9 ___ estimator: 60 F1 score: 0.615866388308977\n",
      "max depth: 10 ___ estimator: 60 F1 score: 0.6214442013129103\n",
      "max depth: 11 ___ estimator: 60 F1 score: 0.6180159635119727\n",
      "max depth: 12 ___ estimator: 60 F1 score: 0.607565011820331\n",
      "max depth: 13 ___ estimator: 60 F1 score: 0.627403846153846\n",
      "max depth: 14 ___ estimator: 60 F1 score: 0.6046511627906977\n",
      "max depth: 15 ___ estimator: 60 F1 score: 0.6088050314465409\n",
      "max depth: 16 ___ estimator: 60 F1 score: 0.6036269430051813\n",
      "max depth: 17 ___ estimator: 60 F1 score: 0.594871794871795\n",
      "max depth: 18 ___ estimator: 60 F1 score: 0.5900783289817232\n",
      "max depth: 19 ___ estimator: 60 F1 score: 0.6034255599472992\n",
      "max depth: 20 ___ estimator: 60 F1 score: 0.6037234042553191\n",
      "max depth: 1 ___ estimator: 70 F1 score: 0.536499560246262\n",
      "max depth: 2 ___ estimator: 70 F1 score: 0.5587188612099644\n",
      "max depth: 3 ___ estimator: 70 F1 score: 0.5766758494031221\n",
      "max depth: 4 ___ estimator: 70 F1 score: 0.5957854406130269\n",
      "max depth: 5 ___ estimator: 70 F1 score: 0.6029556650246305\n",
      "max depth: 6 ___ estimator: 70 F1 score: 0.609297725024728\n",
      "max depth: 7 ___ estimator: 70 F1 score: 0.6189516129032258\n",
      "max depth: 8 ___ estimator: 70 F1 score: 0.6166495375128469\n",
      "max depth: 9 ___ estimator: 70 F1 score: 0.616822429906542\n",
      "max depth: 10 ___ estimator: 70 F1 score: 0.6209150326797385\n",
      "max depth: 11 ___ estimator: 70 F1 score: 0.6254295532646048\n",
      "max depth: 12 ___ estimator: 70 F1 score: 0.6112412177985949\n",
      "max depth: 13 ___ estimator: 70 F1 score: 0.6209386281588447\n",
      "max depth: 14 ___ estimator: 70 F1 score: 0.6053921568627451\n",
      "max depth: 15 ___ estimator: 70 F1 score: 0.6037735849056604\n",
      "max depth: 16 ___ estimator: 70 F1 score: 0.6069142125480155\n",
      "max depth: 17 ___ estimator: 70 F1 score: 0.5961290322580646\n",
      "max depth: 18 ___ estimator: 70 F1 score: 0.6062992125984252\n",
      "max depth: 19 ___ estimator: 70 F1 score: 0.596078431372549\n",
      "max depth: 20 ___ estimator: 70 F1 score: 0.6026315789473685\n",
      "max depth: 1 ___ estimator: 80 F1 score: 0.5412186379928317\n",
      "max depth: 2 ___ estimator: 80 F1 score: 0.5637342908438061\n",
      "max depth: 3 ___ estimator: 80 F1 score: 0.5790441176470589\n",
      "max depth: 4 ___ estimator: 80 F1 score: 0.5954198473282444\n",
      "max depth: 5 ___ estimator: 80 F1 score: 0.5994123408423115\n",
      "max depth: 6 ___ estimator: 80 F1 score: 0.6137040714995033\n",
      "max depth: 7 ___ estimator: 80 F1 score: 0.613682092555332\n",
      "max depth: 8 ___ estimator: 80 F1 score: 0.6161719549641761\n",
      "max depth: 9 ___ estimator: 80 F1 score: 0.6139438085327783\n",
      "max depth: 10 ___ estimator: 80 F1 score: 0.6229508196721312\n",
      "max depth: 11 ___ estimator: 80 F1 score: 0.626865671641791\n",
      "max depth: 12 ___ estimator: 80 F1 score: 0.6173708920187794\n",
      "max depth: 13 ___ estimator: 80 F1 score: 0.6166868198307135\n",
      "max depth: 14 ___ estimator: 80 F1 score: 0.6083743842364533\n",
      "max depth: 15 ___ estimator: 80 F1 score: 0.6017699115044247\n",
      "max depth: 16 ___ estimator: 80 F1 score: 0.6056701030927835\n",
      "max depth: 17 ___ estimator: 80 F1 score: 0.6002587322121604\n",
      "max depth: 18 ___ estimator: 80 F1 score: 0.6031331592689295\n",
      "max depth: 19 ___ estimator: 80 F1 score: 0.5963541666666666\n",
      "max depth: 20 ___ estimator: 80 F1 score: 0.6081258191349934\n",
      "max depth: 1 ___ estimator: 90 F1 score: 0.5466417910447761\n",
      "max depth: 2 ___ estimator: 90 F1 score: 0.5595667870036101\n",
      "max depth: 3 ___ estimator: 90 F1 score: 0.5842696629213483\n",
      "max depth: 4 ___ estimator: 90 F1 score: 0.5933014354066986\n",
      "max depth: 5 ___ estimator: 90 F1 score: 0.6049261083743843\n",
      "max depth: 6 ___ estimator: 90 F1 score: 0.6079207920792079\n",
      "max depth: 7 ___ estimator: 90 F1 score: 0.6150753768844222\n",
      "max depth: 8 ___ estimator: 90 F1 score: 0.6147540983606556\n",
      "max depth: 9 ___ estimator: 90 F1 score: 0.6181061394380853\n",
      "max depth: 10 ___ estimator: 90 F1 score: 0.6187363834422659\n",
      "max depth: 11 ___ estimator: 90 F1 score: 0.6285714285714286\n",
      "max depth: 12 ___ estimator: 90 F1 score: 0.6143024618991794\n",
      "max depth: 13 ___ estimator: 90 F1 score: 0.6168674698795181\n",
      "max depth: 14 ___ estimator: 90 F1 score: 0.6064356435643564\n",
      "max depth: 15 ___ estimator: 90 F1 score: 0.6111111111111113\n",
      "max depth: 16 ___ estimator: 90 F1 score: 0.609254498714653\n",
      "max depth: 17 ___ estimator: 90 F1 score: 0.6023166023166023\n",
      "max depth: 18 ___ estimator: 90 F1 score: 0.6044098573281452\n",
      "max depth: 19 ___ estimator: 90 F1 score: 0.5981554677206852\n",
      "max depth: 20 ___ estimator: 90 F1 score: 0.6065359477124183\n",
      "max depth: 1 ___ estimator: 100 F1 score: 0.5461393596986817\n",
      "max depth: 2 ___ estimator: 100 F1 score: 0.5584768812330009\n",
      "max depth: 3 ___ estimator: 100 F1 score: 0.5778191985088537\n",
      "max depth: 4 ___ estimator: 100 F1 score: 0.5951690821256038\n",
      "max depth: 5 ___ estimator: 100 F1 score: 0.603515625\n",
      "max depth: 6 ___ estimator: 100 F1 score: 0.6085232903865212\n",
      "max depth: 7 ___ estimator: 100 F1 score: 0.6163141993957704\n",
      "max depth: 8 ___ estimator: 100 F1 score: 0.6188524590163934\n",
      "max depth: 9 ___ estimator: 100 F1 score: 0.6209761163032191\n",
      "max depth: 10 ___ estimator: 100 F1 score: 0.6195652173913043\n",
      "max depth: 11 ___ estimator: 100 F1 score: 0.6247139588100686\n",
      "max depth: 12 ___ estimator: 100 F1 score: 0.6153846153846154\n",
      "max depth: 13 ___ estimator: 100 F1 score: 0.6201923076923078\n",
      "max depth: 14 ___ estimator: 100 F1 score: 0.6086956521739131\n",
      "max depth: 15 ___ estimator: 100 F1 score: 0.606826801517067\n",
      "max depth: 16 ___ estimator: 100 F1 score: 0.6074646074646074\n",
      "max depth: 17 ___ estimator: 100 F1 score: 0.5961290322580646\n",
      "max depth: 18 ___ estimator: 100 F1 score: 0.6059817945383615\n",
      "max depth: 19 ___ estimator: 100 F1 score: 0.5997357992073975\n",
      "max depth: 20 ___ estimator: 100 F1 score: 0.6023468057366363\n",
      "max depth: 1 ___ estimator: 110 F1 score: 0.5437441204139228\n",
      "max depth: 2 ___ estimator: 110 F1 score: 0.5609532538955087\n",
      "max depth: 3 ___ estimator: 110 F1 score: 0.5816135084427768\n",
      "max depth: 4 ___ estimator: 110 F1 score: 0.5959498553519769\n",
      "max depth: 5 ___ estimator: 110 F1 score: 0.6060606060606061\n",
      "max depth: 6 ___ estimator: 110 F1 score: 0.6077457795431976\n",
      "max depth: 7 ___ estimator: 110 F1 score: 0.6144578313253012\n",
      "max depth: 8 ___ estimator: 110 F1 score: 0.6182190378710338\n",
      "max depth: 9 ___ estimator: 110 F1 score: 0.6214807090719499\n",
      "max depth: 10 ___ estimator: 110 F1 score: 0.6245919477693145\n",
      "max depth: 11 ___ estimator: 110 F1 score: 0.6284403669724771\n",
      "max depth: 12 ___ estimator: 110 F1 score: 0.6072684642438452\n",
      "max depth: 13 ___ estimator: 110 F1 score: 0.6120481927710844\n",
      "max depth: 14 ___ estimator: 110 F1 score: 0.6129032258064517\n",
      "max depth: 15 ___ estimator: 110 F1 score: 0.5984848484848485\n",
      "max depth: 16 ___ estimator: 110 F1 score: 0.6080206985769728\n",
      "max depth: 17 ___ estimator: 110 F1 score: 0.5989717223650386\n",
      "max depth: 18 ___ estimator: 110 F1 score: 0.5958549222797928\n",
      "max depth: 19 ___ estimator: 110 F1 score: 0.6050198150594451\n",
      "max depth: 20 ___ estimator: 110 F1 score: 0.6005221932114881\n",
      "max depth: 1 ___ estimator: 120 F1 score: 0.5447690857681433\n",
      "max depth: 2 ___ estimator: 120 F1 score: 0.5643382352941176\n",
      "max depth: 3 ___ estimator: 120 F1 score: 0.58137347130762\n",
      "max depth: 4 ___ estimator: 120 F1 score: 0.5963213939980639\n",
      "max depth: 5 ___ estimator: 120 F1 score: 0.6041055718475073\n",
      "max depth: 6 ___ estimator: 120 F1 score: 0.6079207920792079\n",
      "max depth: 7 ___ estimator: 120 F1 score: 0.6195761856710393\n",
      "max depth: 8 ___ estimator: 120 F1 score: 0.6179196704428424\n",
      "max depth: 9 ___ estimator: 120 F1 score: 0.6179540709812109\n",
      "max depth: 10 ___ estimator: 120 F1 score: 0.6202393906420022\n",
      "max depth: 11 ___ estimator: 120 F1 score: 0.6245694603903559\n",
      "max depth: 12 ___ estimator: 120 F1 score: 0.6121495327102805\n",
      "max depth: 13 ___ estimator: 120 F1 score: 0.6137184115523466\n",
      "max depth: 14 ___ estimator: 120 F1 score: 0.6111801242236024\n",
      "max depth: 15 ___ estimator: 120 F1 score: 0.5979643765903307\n",
      "max depth: 16 ___ estimator: 120 F1 score: 0.6088082901554404\n",
      "max depth: 17 ___ estimator: 120 F1 score: 0.6041131105398458\n",
      "max depth: 18 ___ estimator: 120 F1 score: 0.5971316818774446\n",
      "max depth: 19 ___ estimator: 120 F1 score: 0.6157894736842106\n",
      "max depth: 20 ___ estimator: 120 F1 score: 0.6025974025974027\n"
     ]
    }
   ],
   "source": [
    "#обучим модель случайного леса на сбалансированных данных\n",
    "best_score = 0\n",
    "best_depth = 0\n",
    "best_estimator = 0\n",
    "best_model_rf = None\n",
    "for estimator in range(10, 121, 10):\n",
    "    for depth in range(1, 21):\n",
    "        model = RandomForestClassifier(n_estimators=estimator, max_depth=depth, \n",
    "                                       class_weight='balanced', random_state=12345)\n",
    "        model.fit(features_train_upsampled, target__train_upsampled)\n",
    "        predictions = model.predict(features_valid)\n",
    "        score = f1_score(target_valid, predictions)\n",
    "        print(f'max depth: {depth} ___ estimator: {estimator} F1 score: {score}')\n",
    "        if best_score < score:\n",
    "            best_score = score\n",
    "            best_depth = depth\n",
    "            best_estimator = estimator\n",
    "            best_model_rf = model"
   ]
  },
  {
   "cell_type": "code",
   "execution_count": 38,
   "metadata": {},
   "outputs": [
    {
     "name": "stdout",
     "output_type": "stream",
     "text": [
      "Best f1 score: 0.6285714285714286 when max depth = 11 and estimator = 90\n",
      "ROC AUC for Random Forest: 0.8502697814528274\n"
     ]
    }
   ],
   "source": [
    "print(f'Best f1 score: {best_score} when max depth = {best_depth} and estimator = {best_estimator}')\n",
    "\n",
    "rf_probabilities_one_valid = best_model_rf.predict_proba(features_valid)[:, 1]\n",
    "auc_roc_rf = roc_auc_score(target_valid, rf_probabilities_one_valid)\n",
    "\n",
    "print(f'ROC AUC for Random Forest: {auc_roc_rf}')"
   ]
  },
  {
   "cell_type": "code",
   "execution_count": 39,
   "metadata": {},
   "outputs": [
    {
     "name": "stdout",
     "output_type": "stream",
     "text": [
      "max depth: 1 ___ F1 score: 0.4994903160040775\n",
      "max depth: 2 ___ F1 score: 0.541015625\n",
      "max depth: 3 ___ F1 score: 0.541015625\n",
      "max depth: 4 ___ F1 score: 0.5277777777777778\n",
      "max depth: 5 ___ F1 score: 0.5963791267305644\n",
      "max depth: 6 ___ F1 score: 0.5581835383159887\n",
      "max depth: 7 ___ F1 score: 0.5496031746031745\n",
      "max depth: 8 ___ F1 score: 0.5346341463414634\n",
      "max depth: 9 ___ F1 score: 0.5398406374501993\n",
      "max depth: 10 ___ F1 score: 0.5095785440613028\n",
      "max depth: 11 ___ F1 score: 0.5325077399380805\n",
      "max depth: 12 ___ F1 score: 0.5174537987679672\n",
      "max depth: 13 ___ F1 score: 0.5058697972251868\n",
      "max depth: 14 ___ F1 score: 0.48697621744054354\n",
      "max depth: 15 ___ F1 score: 0.4900351699882767\n",
      "max depth: 16 ___ F1 score: 0.4904306220095694\n",
      "max depth: 17 ___ F1 score: 0.4878640776699029\n",
      "max depth: 18 ___ F1 score: 0.4932844932844933\n",
      "max depth: 19 ___ F1 score: 0.47911547911547914\n",
      "max depth: 20 ___ F1 score: 0.4920049200492005\n",
      "\n",
      "Best f1 score: 0.5963791267305644 when max depth = 5\n",
      "ROC AUC for Decision Tree: 0.8310244134068074\n"
     ]
    }
   ],
   "source": [
    "#обучим модель дерева решений на сбалансированных данных\n",
    "best_score = 0\n",
    "best_depth = 0\n",
    "best_model_dt = None\n",
    "for depth in range(1, 21):\n",
    "    model = DecisionTreeClassifier(max_depth=depth, class_weight='balanced', random_state=12345)\n",
    "    model.fit(features_train_upsampled, target__train_upsampled)\n",
    "    predictions = model.predict(features_valid)\n",
    "    score = f1_score(target_valid, predictions)\n",
    "    print(f'max depth: {depth} ___ F1 score: {score}')\n",
    "    if best_score < score:\n",
    "        best_score = score\n",
    "        best_depth = depth\n",
    "        best_model_dt = model\n",
    "\n",
    "print(f'\\nBest f1 score: {best_score} when max depth = {best_depth}')\n",
    "\n",
    "dt_probabilities_one_valid = best_model_dt.predict_proba(features_valid)[:, 1]\n",
    "auc_roc_dt = roc_auc_score(target_valid, dt_probabilities_one_valid)\n",
    "\n",
    "print(f'ROC AUC for Decision Tree: {auc_roc_dt}')"
   ]
  },
  {
   "cell_type": "code",
   "execution_count": 40,
   "metadata": {},
   "outputs": [
    {
     "name": "stdout",
     "output_type": "stream",
     "text": [
      "F1 score: 0.4888507718696398\n",
      "ROC AUC for Logistic Regression: 0.7635888796811015\n"
     ]
    }
   ],
   "source": [
    "#обучим модель Logistic Regression на сбалансированных данных\n",
    "model_lr = LogisticRegression(random_state=12345, solver='liblinear', class_weight='balanced')\n",
    "model_lr.fit(features_train_upsampled, target__train_upsampled)\n",
    "predictions = model_lr.predict(features_valid)\n",
    "score = f1_score(target_valid, predictions)\n",
    "print(f'F1 score: {score}')\n",
    "\n",
    "lr_probabilities_one_valid = model_lr.predict_proba(features_valid)[:, 1]\n",
    "auc_roc_lr = roc_auc_score(target_valid, lr_probabilities_one_valid)\n",
    "\n",
    "print(f'ROC AUC for Logistic Regression: {auc_roc_lr}')"
   ]
  },
  {
   "cell_type": "markdown",
   "metadata": {},
   "source": [
    "***Вывод:*** после модификаций с балансом классов значения увеличились; модель с лучшими показателями f1 score и ROC AUC score - Random Forest (0.63 и 0.85 соответственно). Для борьбы с дисбалансом использовался метод upsampling, то есть увеличение положительного класса.\n",
    "<br>Гиперпараметры лучшей модели:\n",
    "- max_depth = 11 \n",
    "- n_estimators = 90"
   ]
  },
  {
   "cell_type": "markdown",
   "metadata": {},
   "source": [
    "## Тестирование модели"
   ]
  },
  {
   "cell_type": "code",
   "execution_count": 41,
   "metadata": {},
   "outputs": [
    {
     "name": "stdout",
     "output_type": "stream",
     "text": [
      "\n",
      "ROC AUC for Random Forest: 0.8560138276135523\n",
      "ROC AUC for const: 0.5\n",
      "\n",
      "F1 score for Random Forest: 0.6105499438832772\n",
      "F1 score for const: 0.3491539413949649\n"
     ]
    }
   ],
   "source": [
    "#тестирование Random Forest\n",
    "predictions = best_model_rf.predict(features_test)\n",
    "score = f1_score(target_test, predictions)\n",
    "\n",
    "rf_probabilities_one_test = best_model_rf.predict_proba(features_test)[:, 1]\n",
    "auc_roc_rf = roc_auc_score(target_test, rf_probabilities_one_test)\n",
    "\n",
    "print(f'\\nROC AUC for Random Forest: {auc_roc_rf}')\n",
    "\n",
    "#создаем константную модель\n",
    "target_predict_constant = pd.Series([1]*len(target_test))\n",
    "auc_roc_const = roc_auc_score(target_test, target_predict_constant)\n",
    "print(f'ROC AUC for const: {auc_roc_const}')\n",
    "\n",
    "dummy_model = DummyClassifier(strategy='constant', constant=1)\n",
    "dummy_model.fit(features_train, target_train)\n",
    "\n",
    "print(f'\\nF1 score for Random Forest: {score}')\n",
    "print(f'F1 score for const: {f1_score(dummy_model.predict(features_test), target_test)}')"
   ]
  },
  {
   "cell_type": "code",
   "execution_count": 42,
   "metadata": {},
   "outputs": [
    {
     "data": {
      "image/png": "[encoded data removed]",
      "text/plain": [
       "<Figure size 432x288 with 1 Axes>"
      ]
     },
     "metadata": {
      "needs_background": "light"
     },
     "output_type": "display_data"
    }
   ],
   "source": [
    "#построим ROC-кривую\n",
    "rf_fper, rf_tper, rf_thresholds = roc_curve(target_test, rf_probabilities_one_test)\n",
    "\n",
    "plt.plot(rf_fper, rf_tper, color='blue', label='ROC_RF')\n",
    "plt.plot([0, 1], [0, 1], color='green', linestyle='--')\n",
    "plt.xlim([0.0, 1.0])\n",
    "plt.ylim([0.0, 1.0])\n",
    "plt.xlabel('False Positive Rate')\n",
    "plt.ylabel('True Positive Rate')\n",
    "plt.title('ROC-кривая')\n",
    "plt.legend()\n",
    "plt.show()"
   ]
  },
  {
   "cell_type": "markdown",
   "metadata": {},
   "source": [
    "***Вывод:*** показатели на тестовой выборке: \n",
    "- F1 score - 0.61\n",
    "- ROC AUC - 0.86\n",
    "<br>Кроме того, модель показывает значения лучше константной, значит можно считать модель адекватной"
   ]
  },
  {
   "cell_type": "markdown",
   "metadata": {},
   "source": [
    "**Общий вывод**\n",
    "<br>В исходных данных наблюдался значительный дисбаланс (80% ответов по целевым признакам были отрицательными и только 20% положительными), поэтому модель, обученная на этих данных, не прошла тест на адекватность. \n",
    "\n",
    "Воспользовавшись методом upsampling и поменяв `class_weight` на `balanced` удалось устранить дисбаланс классов, при этом увеличилось количество значений позитивного класса в 4 раза. Так мы достигли баланса классо в обучеющей выборки: 0 - 0.501043 1 - 0.498957\n",
    "\n",
    "На новых данных все модели показали результат выше, чем на несбалансированной выборке. Лучшие показатели были у модели `Random Forest`:\n",
    "- F1 score: 0.6285714285714286\n",
    "- ROC AUC score: 0.8502697814528274\n",
    "\n",
    "Финальная модель показала следующие результаты и прошла проверку на адекватность в сравнении с контантной моделью: \n",
    "\n",
    "- ROC AUC for Random Forest: 0.8560138276135523\n",
    "- ROC AUC for const: 0.5\n",
    "\n",
    "- F1 score for Random Forest: 0.6105499438832772\n",
    "- F1 score for const: 0.3491539413949649"
   ]
  }
 ],
 "metadata": {
  "ExecuteTimeLog": [
   {
    "duration": 388,
    "start_time": "2023-03-25T17:43:42.238Z"
   },
   {
    "duration": 88,
    "start_time": "2023-03-25T17:43:43.690Z"
   },
   {
    "duration": 51,
    "start_time": "2023-03-25T17:44:41.798Z"
   },
   {
    "duration": 24,
    "start_time": "2023-03-25T17:47:17.007Z"
   },
   {
    "duration": 13,
    "start_time": "2023-03-25T17:47:42.338Z"
   },
   {
    "duration": 14,
    "start_time": "2023-03-25T17:47:44.470Z"
   },
   {
    "duration": 60,
    "start_time": "2023-03-25T17:52:35.306Z"
   },
   {
    "duration": 4,
    "start_time": "2023-03-25T17:52:38.287Z"
   },
   {
    "duration": 7,
    "start_time": "2023-03-25T17:52:40.307Z"
   },
   {
    "duration": 7,
    "start_time": "2023-03-25T17:52:42.587Z"
   },
   {
    "duration": 4,
    "start_time": "2023-03-25T17:52:45.262Z"
   },
   {
    "duration": 5,
    "start_time": "2023-03-25T17:52:53.670Z"
   },
   {
    "duration": 6,
    "start_time": "2023-03-25T17:53:38.127Z"
   },
   {
    "duration": 5,
    "start_time": "2023-03-25T17:53:44.830Z"
   },
   {
    "duration": 7,
    "start_time": "2023-03-25T17:53:52.326Z"
   },
   {
    "duration": 7,
    "start_time": "2023-03-25T17:53:58.987Z"
   },
   {
    "duration": 6,
    "start_time": "2023-03-25T17:54:05.023Z"
   },
   {
    "duration": 15,
    "start_time": "2023-03-25T17:54:48.943Z"
   },
   {
    "duration": 4,
    "start_time": "2023-03-25T17:56:57.980Z"
   },
   {
    "duration": 13,
    "start_time": "2023-03-25T17:57:03.199Z"
   },
   {
    "duration": 6,
    "start_time": "2023-03-25T17:58:31.215Z"
   },
   {
    "duration": 10,
    "start_time": "2023-03-25T17:58:32.913Z"
   },
   {
    "duration": 16,
    "start_time": "2023-03-25T17:58:35.972Z"
   },
   {
    "duration": 11,
    "start_time": "2023-03-25T18:00:03.896Z"
   },
   {
    "duration": 12,
    "start_time": "2023-03-25T18:00:09.106Z"
   },
   {
    "duration": 832,
    "start_time": "2023-03-25T18:06:28.576Z"
   },
   {
    "duration": 9,
    "start_time": "2023-03-25T18:06:44.611Z"
   },
   {
    "duration": 3,
    "start_time": "2023-03-25T18:07:14.893Z"
   },
   {
    "duration": 1664,
    "start_time": "2023-03-25T18:10:14.793Z"
   },
   {
    "duration": 3,
    "start_time": "2023-03-25T18:10:29.748Z"
   },
   {
    "duration": 26,
    "start_time": "2023-03-25T18:11:42.328Z"
   },
   {
    "duration": 13,
    "start_time": "2023-03-25T18:11:53.088Z"
   },
   {
    "duration": 10,
    "start_time": "2023-03-25T18:14:09.724Z"
   },
   {
    "duration": 1087,
    "start_time": "2023-03-25T18:14:18.704Z"
   },
   {
    "duration": 42,
    "start_time": "2023-03-25T18:14:19.793Z"
   },
   {
    "duration": 20,
    "start_time": "2023-03-25T18:14:19.837Z"
   },
   {
    "duration": 15,
    "start_time": "2023-03-25T18:14:19.859Z"
   },
   {
    "duration": 5,
    "start_time": "2023-03-25T18:14:19.876Z"
   },
   {
    "duration": 9,
    "start_time": "2023-03-25T18:14:19.882Z"
   },
   {
    "duration": 7,
    "start_time": "2023-03-25T18:14:19.893Z"
   },
   {
    "duration": 7,
    "start_time": "2023-03-25T18:14:19.902Z"
   },
   {
    "duration": 32,
    "start_time": "2023-03-25T18:14:19.911Z"
   },
   {
    "duration": 19,
    "start_time": "2023-03-25T18:14:19.945Z"
   },
   {
    "duration": 4,
    "start_time": "2023-03-25T18:14:19.965Z"
   },
   {
    "duration": 14,
    "start_time": "2023-03-25T18:14:19.971Z"
   },
   {
    "duration": 12,
    "start_time": "2023-03-25T18:14:19.987Z"
   },
   {
    "duration": 11,
    "start_time": "2023-03-25T18:14:20.003Z"
   },
   {
    "duration": 51,
    "start_time": "2023-03-25T18:14:20.015Z"
   },
   {
    "duration": 14,
    "start_time": "2023-03-25T18:14:20.068Z"
   },
   {
    "duration": 7,
    "start_time": "2023-03-25T18:14:20.084Z"
   },
   {
    "duration": 23,
    "start_time": "2023-03-25T18:15:35.948Z"
   },
   {
    "duration": 8,
    "start_time": "2023-03-25T18:16:49.325Z"
   },
   {
    "duration": 5,
    "start_time": "2023-03-25T18:17:05.008Z"
   },
   {
    "duration": 4,
    "start_time": "2023-03-25T18:17:13.592Z"
   },
   {
    "duration": 4,
    "start_time": "2023-03-25T18:17:19.631Z"
   },
   {
    "duration": 4,
    "start_time": "2023-03-25T18:17:25.680Z"
   },
   {
    "duration": 5,
    "start_time": "2023-03-25T18:18:15.039Z"
   },
   {
    "duration": 5,
    "start_time": "2023-03-25T18:18:19.778Z"
   },
   {
    "duration": 7,
    "start_time": "2023-03-25T18:18:29.293Z"
   },
   {
    "duration": 8,
    "start_time": "2023-03-25T18:18:48.278Z"
   },
   {
    "duration": 21,
    "start_time": "2023-03-25T18:21:03.185Z"
   },
   {
    "duration": 122,
    "start_time": "2023-03-25T18:23:21.312Z"
   },
   {
    "duration": 12,
    "start_time": "2023-03-25T18:23:26.068Z"
   },
   {
    "duration": 58,
    "start_time": "2023-03-28T09:59:21.656Z"
   },
   {
    "duration": 1264,
    "start_time": "2023-03-28T09:59:27.923Z"
   },
   {
    "duration": 186,
    "start_time": "2023-03-28T09:59:29.189Z"
   },
   {
    "duration": 30,
    "start_time": "2023-03-28T09:59:29.378Z"
   },
   {
    "duration": 25,
    "start_time": "2023-03-28T09:59:29.411Z"
   },
   {
    "duration": 13,
    "start_time": "2023-03-28T09:59:29.439Z"
   },
   {
    "duration": 10,
    "start_time": "2023-03-28T09:59:29.457Z"
   },
   {
    "duration": 16,
    "start_time": "2023-03-28T09:59:29.469Z"
   },
   {
    "duration": 6,
    "start_time": "2023-03-28T09:59:29.488Z"
   },
   {
    "duration": 22,
    "start_time": "2023-03-28T09:59:29.496Z"
   },
   {
    "duration": 17,
    "start_time": "2023-03-28T09:59:29.522Z"
   },
   {
    "duration": 6,
    "start_time": "2023-03-28T09:59:29.541Z"
   },
   {
    "duration": 29,
    "start_time": "2023-03-28T09:59:29.549Z"
   },
   {
    "duration": 18,
    "start_time": "2023-03-28T09:59:29.580Z"
   },
   {
    "duration": 15,
    "start_time": "2023-03-28T09:59:29.600Z"
   },
   {
    "duration": 47,
    "start_time": "2023-03-28T09:59:29.617Z"
   },
   {
    "duration": 14,
    "start_time": "2023-03-28T09:59:29.667Z"
   },
   {
    "duration": 20,
    "start_time": "2023-03-28T09:59:29.684Z"
   },
   {
    "duration": 5,
    "start_time": "2023-03-28T09:59:29.707Z"
   },
   {
    "duration": 14,
    "start_time": "2023-03-28T09:59:29.714Z"
   },
   {
    "duration": 6,
    "start_time": "2023-03-28T09:59:29.742Z"
   },
   {
    "duration": 5,
    "start_time": "2023-03-28T09:59:29.750Z"
   },
   {
    "duration": 24,
    "start_time": "2023-03-28T09:59:29.760Z"
   },
   {
    "duration": 2510,
    "start_time": "2023-03-28T09:59:29.786Z"
   },
   {
    "duration": 2519,
    "start_time": "2023-03-28T10:00:18.105Z"
   },
   {
    "duration": 2640,
    "start_time": "2023-03-28T10:00:34.581Z"
   },
   {
    "duration": 2499,
    "start_time": "2023-03-28T10:00:47.556Z"
   },
   {
    "duration": 2763,
    "start_time": "2023-03-28T10:01:52.151Z"
   },
   {
    "duration": 2754,
    "start_time": "2023-03-28T10:02:00.781Z"
   },
   {
    "duration": 6,
    "start_time": "2023-03-28T10:05:00.801Z"
   },
   {
    "duration": 2698,
    "start_time": "2023-03-28T10:05:04.692Z"
   },
   {
    "duration": 2948,
    "start_time": "2023-03-28T10:05:16.531Z"
   },
   {
    "duration": 253,
    "start_time": "2023-03-28T10:07:32.393Z"
   },
   {
    "duration": 74,
    "start_time": "2023-03-28T10:08:01.032Z"
   },
   {
    "duration": 64,
    "start_time": "2023-03-28T10:08:29.457Z"
   },
   {
    "duration": 103,
    "start_time": "2023-03-28T10:08:43.461Z"
   },
   {
    "duration": 2925,
    "start_time": "2023-03-28T10:09:02.104Z"
   },
   {
    "duration": 104,
    "start_time": "2023-03-28T10:09:19.870Z"
   },
   {
    "duration": 91,
    "start_time": "2023-03-28T10:09:31.106Z"
   },
   {
    "duration": 49,
    "start_time": "2023-03-28T10:09:49.700Z"
   },
   {
    "duration": 69,
    "start_time": "2023-03-28T10:09:53.829Z"
   },
   {
    "duration": 71,
    "start_time": "2023-03-28T10:10:00.511Z"
   },
   {
    "duration": 1228,
    "start_time": "2023-03-28T10:10:07.137Z"
   },
   {
    "duration": 42,
    "start_time": "2023-03-28T10:10:08.367Z"
   },
   {
    "duration": 21,
    "start_time": "2023-03-28T10:10:08.411Z"
   },
   {
    "duration": 26,
    "start_time": "2023-03-28T10:10:08.434Z"
   },
   {
    "duration": 13,
    "start_time": "2023-03-28T10:10:08.464Z"
   },
   {
    "duration": 15,
    "start_time": "2023-03-28T10:10:08.480Z"
   },
   {
    "duration": 17,
    "start_time": "2023-03-28T10:10:08.498Z"
   },
   {
    "duration": 9,
    "start_time": "2023-03-28T10:10:08.518Z"
   },
   {
    "duration": 7,
    "start_time": "2023-03-28T10:10:08.529Z"
   },
   {
    "duration": 40,
    "start_time": "2023-03-28T10:10:08.539Z"
   },
   {
    "duration": 5,
    "start_time": "2023-03-28T10:10:08.581Z"
   },
   {
    "duration": 14,
    "start_time": "2023-03-28T10:10:08.588Z"
   },
   {
    "duration": 16,
    "start_time": "2023-03-28T10:10:08.604Z"
   },
   {
    "duration": 15,
    "start_time": "2023-03-28T10:10:08.622Z"
   },
   {
    "duration": 48,
    "start_time": "2023-03-28T10:10:08.640Z"
   },
   {
    "duration": 14,
    "start_time": "2023-03-28T10:10:08.690Z"
   },
   {
    "duration": 24,
    "start_time": "2023-03-28T10:10:08.706Z"
   },
   {
    "duration": 43,
    "start_time": "2023-03-28T10:10:08.732Z"
   },
   {
    "duration": 24,
    "start_time": "2023-03-28T10:10:08.777Z"
   },
   {
    "duration": 66,
    "start_time": "2023-03-28T10:10:08.802Z"
   },
   {
    "duration": 42,
    "start_time": "2023-03-28T10:10:08.870Z"
   },
   {
    "duration": 22,
    "start_time": "2023-03-28T10:10:08.914Z"
   },
   {
    "duration": 2926,
    "start_time": "2023-03-28T10:10:08.938Z"
   },
   {
    "duration": 2913,
    "start_time": "2023-03-28T10:10:32.003Z"
   },
   {
    "duration": 2932,
    "start_time": "2023-03-28T10:11:39.371Z"
   },
   {
    "duration": 2964,
    "start_time": "2023-03-28T10:12:08.483Z"
   },
   {
    "duration": 2947,
    "start_time": "2023-03-28T10:12:31.420Z"
   },
   {
    "duration": 3060,
    "start_time": "2023-03-28T10:12:34.892Z"
   },
   {
    "duration": 2945,
    "start_time": "2023-03-28T10:12:39.633Z"
   },
   {
    "duration": 2991,
    "start_time": "2023-03-28T10:12:43.240Z"
   },
   {
    "duration": 117,
    "start_time": "2023-03-28T10:14:20.700Z"
   },
   {
    "duration": 605,
    "start_time": "2023-03-28T10:14:28.170Z"
   },
   {
    "duration": 12,
    "start_time": "2023-03-28T10:17:43.184Z"
   },
   {
    "duration": 771,
    "start_time": "2023-03-28T10:17:54.578Z"
   },
   {
    "duration": 89,
    "start_time": "2023-03-28T10:19:55.397Z"
   },
   {
    "duration": 64355,
    "start_time": "2023-03-28T10:20:17.670Z"
   },
   {
    "duration": 0,
    "start_time": "2023-03-28T10:21:49.398Z"
   },
   {
    "duration": 31759,
    "start_time": "2023-03-28T10:21:50.769Z"
   },
   {
    "duration": 80539,
    "start_time": "2023-03-28T10:22:25.026Z"
   },
   {
    "duration": 3,
    "start_time": "2023-03-28T10:23:45.569Z"
   },
   {
    "duration": 77045,
    "start_time": "2023-03-28T10:23:52.126Z"
   },
   {
    "duration": 7,
    "start_time": "2023-03-28T10:25:09.174Z"
   },
   {
    "duration": 603,
    "start_time": "2023-03-28T10:25:09.183Z"
   },
   {
    "duration": 556,
    "start_time": "2023-03-28T10:25:09.788Z"
   },
   {
    "duration": 1093,
    "start_time": "2023-03-28T10:29:07.077Z"
   },
   {
    "duration": 42,
    "start_time": "2023-03-28T10:29:08.172Z"
   },
   {
    "duration": 21,
    "start_time": "2023-03-28T10:29:08.215Z"
   },
   {
    "duration": 27,
    "start_time": "2023-03-28T10:29:08.238Z"
   },
   {
    "duration": 10,
    "start_time": "2023-03-28T10:29:08.270Z"
   },
   {
    "duration": 14,
    "start_time": "2023-03-28T10:29:08.281Z"
   },
   {
    "duration": 9,
    "start_time": "2023-03-28T10:29:08.296Z"
   },
   {
    "duration": 10,
    "start_time": "2023-03-28T10:29:08.307Z"
   },
   {
    "duration": 9,
    "start_time": "2023-03-28T10:29:08.318Z"
   },
   {
    "duration": 29,
    "start_time": "2023-03-28T10:29:08.329Z"
   },
   {
    "duration": 13,
    "start_time": "2023-03-28T10:29:08.360Z"
   },
   {
    "duration": 12,
    "start_time": "2023-03-28T10:29:08.375Z"
   },
   {
    "duration": 11,
    "start_time": "2023-03-28T10:29:08.389Z"
   },
   {
    "duration": 10,
    "start_time": "2023-03-28T10:29:08.403Z"
   },
   {
    "duration": 27,
    "start_time": "2023-03-28T10:29:08.415Z"
   },
   {
    "duration": 18,
    "start_time": "2023-03-28T10:29:08.453Z"
   },
   {
    "duration": 8,
    "start_time": "2023-03-28T10:29:08.473Z"
   },
   {
    "duration": 7,
    "start_time": "2023-03-28T10:29:08.482Z"
   },
   {
    "duration": 12,
    "start_time": "2023-03-28T10:29:08.491Z"
   },
   {
    "duration": 12,
    "start_time": "2023-03-28T10:29:08.504Z"
   },
   {
    "duration": 8,
    "start_time": "2023-03-28T10:29:08.518Z"
   },
   {
    "duration": 34,
    "start_time": "2023-03-28T10:29:08.527Z"
   },
   {
    "duration": 16848,
    "start_time": "2023-03-28T10:29:08.562Z"
   },
   {
    "duration": 22156,
    "start_time": "2023-03-28T10:29:25.412Z"
   },
   {
    "duration": 0,
    "start_time": "2023-03-28T10:29:47.571Z"
   },
   {
    "duration": 0,
    "start_time": "2023-03-28T10:29:47.572Z"
   },
   {
    "duration": 0,
    "start_time": "2023-03-28T10:29:47.573Z"
   },
   {
    "duration": 0,
    "start_time": "2023-03-28T10:29:47.577Z"
   },
   {
    "duration": 131,
    "start_time": "2023-03-28T10:29:48.895Z"
   },
   {
    "duration": 143,
    "start_time": "2023-03-28T10:30:01.669Z"
   },
   {
    "duration": 155,
    "start_time": "2023-03-28T10:30:05.222Z"
   },
   {
    "duration": 150,
    "start_time": "2023-03-28T10:30:10.767Z"
   },
   {
    "duration": 10,
    "start_time": "2023-03-28T10:30:23.810Z"
   },
   {
    "duration": 10,
    "start_time": "2023-03-28T10:30:25.522Z"
   },
   {
    "duration": 124,
    "start_time": "2023-03-28T10:30:29.800Z"
   },
   {
    "duration": 134,
    "start_time": "2023-03-28T10:30:34.714Z"
   },
   {
    "duration": 1156,
    "start_time": "2023-03-28T10:34:02.879Z"
   },
   {
    "duration": 60,
    "start_time": "2023-03-28T10:34:04.037Z"
   },
   {
    "duration": 20,
    "start_time": "2023-03-28T10:34:04.099Z"
   },
   {
    "duration": 47,
    "start_time": "2023-03-28T10:34:04.122Z"
   },
   {
    "duration": 23,
    "start_time": "2023-03-28T10:34:04.171Z"
   },
   {
    "duration": 14,
    "start_time": "2023-03-28T10:34:04.196Z"
   },
   {
    "duration": 33,
    "start_time": "2023-03-28T10:34:04.213Z"
   },
   {
    "duration": 30,
    "start_time": "2023-03-28T10:34:04.254Z"
   },
   {
    "duration": 14,
    "start_time": "2023-03-28T10:34:04.285Z"
   },
   {
    "duration": 19,
    "start_time": "2023-03-28T10:34:04.302Z"
   },
   {
    "duration": 34,
    "start_time": "2023-03-28T10:34:04.322Z"
   },
   {
    "duration": 63,
    "start_time": "2023-03-28T10:34:04.357Z"
   },
   {
    "duration": 60,
    "start_time": "2023-03-28T10:34:04.422Z"
   },
   {
    "duration": 32,
    "start_time": "2023-03-28T10:34:04.484Z"
   },
   {
    "duration": 68,
    "start_time": "2023-03-28T10:34:04.517Z"
   },
   {
    "duration": 13,
    "start_time": "2023-03-28T10:34:04.587Z"
   },
   {
    "duration": 17,
    "start_time": "2023-03-28T10:34:04.601Z"
   },
   {
    "duration": 12,
    "start_time": "2023-03-28T10:34:04.621Z"
   },
   {
    "duration": 10,
    "start_time": "2023-03-28T10:34:04.635Z"
   },
   {
    "duration": 49,
    "start_time": "2023-03-28T10:34:04.651Z"
   },
   {
    "duration": 7,
    "start_time": "2023-03-28T10:34:04.702Z"
   },
   {
    "duration": 16,
    "start_time": "2023-03-28T10:34:04.711Z"
   },
   {
    "duration": 527,
    "start_time": "2023-03-28T10:34:04.729Z"
   },
   {
    "duration": 79416,
    "start_time": "2023-03-28T10:34:05.258Z"
   },
   {
    "duration": 6,
    "start_time": "2023-03-28T10:35:24.676Z"
   },
   {
    "duration": 621,
    "start_time": "2023-03-28T10:35:24.683Z"
   },
   {
    "duration": 252,
    "start_time": "2023-03-28T10:35:25.306Z"
   },
   {
    "duration": 1289,
    "start_time": "2023-03-28T10:52:14.160Z"
   },
   {
    "duration": 62,
    "start_time": "2023-03-28T10:52:15.458Z"
   },
   {
    "duration": 41,
    "start_time": "2023-03-28T10:52:15.522Z"
   },
   {
    "duration": 29,
    "start_time": "2023-03-28T10:52:15.571Z"
   },
   {
    "duration": 12,
    "start_time": "2023-03-28T10:52:15.603Z"
   },
   {
    "duration": 19,
    "start_time": "2023-03-28T10:52:15.617Z"
   },
   {
    "duration": 35,
    "start_time": "2023-03-28T10:52:15.638Z"
   },
   {
    "duration": 34,
    "start_time": "2023-03-28T10:52:15.675Z"
   },
   {
    "duration": 36,
    "start_time": "2023-03-28T10:52:15.711Z"
   },
   {
    "duration": 50,
    "start_time": "2023-03-28T10:52:15.750Z"
   },
   {
    "duration": 7,
    "start_time": "2023-03-28T10:52:15.802Z"
   },
   {
    "duration": 26,
    "start_time": "2023-03-28T10:52:15.811Z"
   },
   {
    "duration": 59,
    "start_time": "2023-03-28T10:52:15.840Z"
   },
   {
    "duration": 21,
    "start_time": "2023-03-28T10:52:15.904Z"
   },
   {
    "duration": 46,
    "start_time": "2023-03-28T10:52:15.931Z"
   },
   {
    "duration": 41,
    "start_time": "2023-03-28T10:52:15.979Z"
   },
   {
    "duration": 79,
    "start_time": "2023-03-28T10:52:16.023Z"
   },
   {
    "duration": 65,
    "start_time": "2023-03-28T10:52:16.105Z"
   },
   {
    "duration": 81,
    "start_time": "2023-03-28T10:52:16.172Z"
   },
   {
    "duration": 55,
    "start_time": "2023-03-28T10:52:16.258Z"
   },
   {
    "duration": 60,
    "start_time": "2023-03-28T10:52:16.316Z"
   },
   {
    "duration": 27,
    "start_time": "2023-03-28T10:52:16.378Z"
   },
   {
    "duration": 547,
    "start_time": "2023-03-28T10:52:16.408Z"
   },
   {
    "duration": 83640,
    "start_time": "2023-03-28T10:52:16.961Z"
   },
   {
    "duration": 4,
    "start_time": "2023-03-28T10:53:40.603Z"
   },
   {
    "duration": 657,
    "start_time": "2023-03-28T10:53:40.608Z"
   },
   {
    "duration": 44,
    "start_time": "2023-03-28T10:53:41.277Z"
   },
   {
    "duration": 138,
    "start_time": "2023-03-28T10:53:41.323Z"
   },
   {
    "duration": 57,
    "start_time": "2023-03-28T10:53:46.475Z"
   },
   {
    "duration": 220,
    "start_time": "2023-03-28T10:53:56.867Z"
   },
   {
    "duration": 112,
    "start_time": "2023-03-28T10:53:58.739Z"
   },
   {
    "duration": 100,
    "start_time": "2023-03-28T10:54:56.607Z"
   },
   {
    "duration": 21,
    "start_time": "2023-03-28T10:55:48.254Z"
   },
   {
    "duration": 5,
    "start_time": "2023-03-28T10:56:36.301Z"
   },
   {
    "duration": 16,
    "start_time": "2023-03-28T10:56:40.716Z"
   },
   {
    "duration": 8,
    "start_time": "2023-03-28T10:56:56.566Z"
   },
   {
    "duration": 195,
    "start_time": "2023-03-28T10:57:01.830Z"
   },
   {
    "duration": 186,
    "start_time": "2023-03-28T10:57:12.858Z"
   },
   {
    "duration": 12,
    "start_time": "2023-03-28T10:59:50.219Z"
   },
   {
    "duration": 4,
    "start_time": "2023-03-28T11:00:02.573Z"
   },
   {
    "duration": 16,
    "start_time": "2023-03-28T11:00:06.580Z"
   },
   {
    "duration": 183,
    "start_time": "2023-03-28T11:00:13.871Z"
   },
   {
    "duration": 13,
    "start_time": "2023-03-28T11:08:13.866Z"
   },
   {
    "duration": 1601,
    "start_time": "2023-03-28T11:08:20.522Z"
   },
   {
    "duration": 62,
    "start_time": "2023-03-28T11:08:22.125Z"
   },
   {
    "duration": 35,
    "start_time": "2023-03-28T11:08:22.189Z"
   },
   {
    "duration": 66,
    "start_time": "2023-03-28T11:08:22.226Z"
   },
   {
    "duration": 20,
    "start_time": "2023-03-28T11:08:22.294Z"
   },
   {
    "duration": 57,
    "start_time": "2023-03-28T11:08:22.316Z"
   },
   {
    "duration": 44,
    "start_time": "2023-03-28T11:08:22.378Z"
   },
   {
    "duration": 64,
    "start_time": "2023-03-28T11:08:22.424Z"
   },
   {
    "duration": 27,
    "start_time": "2023-03-28T11:08:22.490Z"
   },
   {
    "duration": 77,
    "start_time": "2023-03-28T11:08:22.519Z"
   },
   {
    "duration": 22,
    "start_time": "2023-03-28T11:08:22.598Z"
   },
   {
    "duration": 65,
    "start_time": "2023-03-28T11:08:22.622Z"
   },
   {
    "duration": 35,
    "start_time": "2023-03-28T11:08:22.689Z"
   },
   {
    "duration": 64,
    "start_time": "2023-03-28T11:08:22.728Z"
   },
   {
    "duration": 70,
    "start_time": "2023-03-28T11:08:22.793Z"
   },
   {
    "duration": 50,
    "start_time": "2023-03-28T11:08:22.865Z"
   },
   {
    "duration": 62,
    "start_time": "2023-03-28T11:08:22.916Z"
   },
   {
    "duration": 22,
    "start_time": "2023-03-28T11:08:22.980Z"
   },
   {
    "duration": 26,
    "start_time": "2023-03-28T11:08:23.004Z"
   },
   {
    "duration": 55,
    "start_time": "2023-03-28T11:08:23.031Z"
   },
   {
    "duration": 30,
    "start_time": "2023-03-28T11:08:23.088Z"
   },
   {
    "duration": 55,
    "start_time": "2023-03-28T11:08:23.120Z"
   },
   {
    "duration": 204,
    "start_time": "2023-03-28T11:08:23.178Z"
   },
   {
    "duration": 1582,
    "start_time": "2023-03-28T11:08:57.973Z"
   },
   {
    "duration": 48,
    "start_time": "2023-03-28T11:08:59.557Z"
   },
   {
    "duration": 19,
    "start_time": "2023-03-28T11:08:59.606Z"
   },
   {
    "duration": 23,
    "start_time": "2023-03-28T11:08:59.627Z"
   },
   {
    "duration": 31,
    "start_time": "2023-03-28T11:08:59.656Z"
   },
   {
    "duration": 13,
    "start_time": "2023-03-28T11:08:59.689Z"
   },
   {
    "duration": 11,
    "start_time": "2023-03-28T11:08:59.704Z"
   },
   {
    "duration": 13,
    "start_time": "2023-03-28T11:08:59.717Z"
   },
   {
    "duration": 11,
    "start_time": "2023-03-28T11:08:59.732Z"
   },
   {
    "duration": 49,
    "start_time": "2023-03-28T11:08:59.744Z"
   },
   {
    "duration": 8,
    "start_time": "2023-03-28T11:08:59.795Z"
   },
   {
    "duration": 20,
    "start_time": "2023-03-28T11:08:59.805Z"
   },
   {
    "duration": 14,
    "start_time": "2023-03-28T11:08:59.827Z"
   },
   {
    "duration": 39,
    "start_time": "2023-03-28T11:08:59.849Z"
   },
   {
    "duration": 36,
    "start_time": "2023-03-28T11:08:59.890Z"
   },
   {
    "duration": 25,
    "start_time": "2023-03-28T11:08:59.929Z"
   },
   {
    "duration": 33,
    "start_time": "2023-03-28T11:08:59.964Z"
   },
   {
    "duration": 25,
    "start_time": "2023-03-28T11:08:59.999Z"
   },
   {
    "duration": 68,
    "start_time": "2023-03-28T11:09:00.027Z"
   },
   {
    "duration": 87,
    "start_time": "2023-03-28T11:09:00.097Z"
   },
   {
    "duration": 71,
    "start_time": "2023-03-28T11:09:00.185Z"
   },
   {
    "duration": 62,
    "start_time": "2023-03-28T11:09:00.262Z"
   },
   {
    "duration": 72,
    "start_time": "2023-03-28T11:09:00.326Z"
   },
   {
    "duration": 187,
    "start_time": "2023-03-28T11:09:00.400Z"
   },
   {
    "duration": 287,
    "start_time": "2023-03-28T11:09:00.589Z"
   },
   {
    "duration": 72353,
    "start_time": "2023-03-28T11:09:00.878Z"
   },
   {
    "duration": 4,
    "start_time": "2023-03-28T11:10:13.233Z"
   },
   {
    "duration": 657,
    "start_time": "2023-03-28T11:10:13.256Z"
   },
   {
    "duration": 457,
    "start_time": "2023-03-28T11:10:13.915Z"
   },
   {
    "duration": 201,
    "start_time": "2023-03-28T11:10:14.375Z"
   },
   {
    "duration": 66,
    "start_time": "2023-03-28T11:10:14.583Z"
   },
   {
    "duration": 294,
    "start_time": "2023-03-28T11:10:14.661Z"
   },
   {
    "duration": 234,
    "start_time": "2023-03-28T11:10:30.879Z"
   },
   {
    "duration": 31923,
    "start_time": "2023-03-28T11:12:19.470Z"
   },
   {
    "duration": 7,
    "start_time": "2023-03-28T11:12:51.405Z"
   },
   {
    "duration": 443,
    "start_time": "2023-03-28T11:12:51.414Z"
   },
   {
    "duration": 204,
    "start_time": "2023-03-28T11:12:51.865Z"
   },
   {
    "duration": 78,
    "start_time": "2023-03-28T11:12:52.095Z"
   },
   {
    "duration": 326,
    "start_time": "2023-03-28T11:12:52.175Z"
   },
   {
    "duration": 15750,
    "start_time": "2023-03-28T11:13:39.110Z"
   },
   {
    "duration": 5,
    "start_time": "2023-03-28T11:13:57.420Z"
   },
   {
    "duration": 253,
    "start_time": "2023-03-28T11:14:12.768Z"
   },
   {
    "duration": 9861,
    "start_time": "2023-03-28T11:15:11.389Z"
   },
   {
    "duration": 4,
    "start_time": "2023-03-28T11:15:21.255Z"
   },
   {
    "duration": 331,
    "start_time": "2023-03-28T11:15:21.263Z"
   },
   {
    "duration": 263,
    "start_time": "2023-03-28T11:15:21.597Z"
   },
   {
    "duration": 190,
    "start_time": "2023-03-28T11:15:21.862Z"
   },
   {
    "duration": 98,
    "start_time": "2023-03-28T11:15:22.063Z"
   },
   {
    "duration": 265,
    "start_time": "2023-03-28T11:15:22.589Z"
   },
   {
    "duration": 5,
    "start_time": "2023-03-28T11:27:44.734Z"
   },
   {
    "duration": 196,
    "start_time": "2023-03-28T11:27:47.197Z"
   },
   {
    "duration": 7,
    "start_time": "2023-03-28T11:28:29.595Z"
   },
   {
    "duration": 6,
    "start_time": "2023-03-28T11:28:33.285Z"
   },
   {
    "duration": 17,
    "start_time": "2023-03-28T11:28:34.029Z"
   },
   {
    "duration": 10,
    "start_time": "2023-03-28T11:30:29.875Z"
   },
   {
    "duration": 16,
    "start_time": "2023-03-28T11:30:31.872Z"
   },
   {
    "duration": 29,
    "start_time": "2023-03-28T11:31:10.943Z"
   },
   {
    "duration": 14,
    "start_time": "2023-03-28T11:31:37.598Z"
   },
   {
    "duration": 5,
    "start_time": "2023-03-28T11:31:43.784Z"
   },
   {
    "duration": 14,
    "start_time": "2023-03-28T11:31:44.595Z"
   },
   {
    "duration": 16,
    "start_time": "2023-03-28T11:32:11.808Z"
   },
   {
    "duration": 26,
    "start_time": "2023-03-28T11:32:39.356Z"
   },
   {
    "duration": 29,
    "start_time": "2023-03-28T11:35:04.410Z"
   },
   {
    "duration": 1665,
    "start_time": "2023-03-28T11:35:26.835Z"
   },
   {
    "duration": 46,
    "start_time": "2023-03-28T11:35:28.503Z"
   },
   {
    "duration": 42,
    "start_time": "2023-03-28T11:35:28.552Z"
   },
   {
    "duration": 37,
    "start_time": "2023-03-28T11:35:28.596Z"
   },
   {
    "duration": 54,
    "start_time": "2023-03-28T11:35:28.635Z"
   },
   {
    "duration": 18,
    "start_time": "2023-03-28T11:35:28.691Z"
   },
   {
    "duration": 28,
    "start_time": "2023-03-28T11:35:28.711Z"
   },
   {
    "duration": 55,
    "start_time": "2023-03-28T11:35:28.741Z"
   },
   {
    "duration": 25,
    "start_time": "2023-03-28T11:35:28.798Z"
   },
   {
    "duration": 64,
    "start_time": "2023-03-28T11:35:28.826Z"
   },
   {
    "duration": 6,
    "start_time": "2023-03-28T11:35:28.892Z"
   },
   {
    "duration": 35,
    "start_time": "2023-03-28T11:35:28.900Z"
   },
   {
    "duration": 52,
    "start_time": "2023-03-28T11:35:28.937Z"
   },
   {
    "duration": 175,
    "start_time": "2023-03-28T11:35:28.991Z"
   },
   {
    "duration": 55,
    "start_time": "2023-03-28T11:35:29.168Z"
   },
   {
    "duration": 25,
    "start_time": "2023-03-28T11:35:29.225Z"
   },
   {
    "duration": 62,
    "start_time": "2023-03-28T11:35:29.252Z"
   },
   {
    "duration": 19,
    "start_time": "2023-03-28T11:35:29.317Z"
   },
   {
    "duration": 195,
    "start_time": "2023-03-28T11:35:29.338Z"
   },
   {
    "duration": 8056,
    "start_time": "2023-03-28T11:35:29.536Z"
   },
   {
    "duration": 5,
    "start_time": "2023-03-28T11:35:37.594Z"
   },
   {
    "duration": 276,
    "start_time": "2023-03-28T11:35:37.601Z"
   },
   {
    "duration": 779,
    "start_time": "2023-03-28T11:35:37.881Z"
   },
   {
    "duration": 181,
    "start_time": "2023-03-28T11:35:38.666Z"
   },
   {
    "duration": 92,
    "start_time": "2023-03-28T11:35:38.856Z"
   },
   {
    "duration": 221,
    "start_time": "2023-03-28T11:35:38.957Z"
   },
   {
    "duration": 59,
    "start_time": "2023-03-28T11:35:39.186Z"
   },
   {
    "duration": 12,
    "start_time": "2023-03-28T11:35:39.258Z"
   },
   {
    "duration": 49,
    "start_time": "2023-03-28T11:35:39.342Z"
   },
   {
    "duration": 5,
    "start_time": "2023-03-28T11:35:39.393Z"
   },
   {
    "duration": 31,
    "start_time": "2023-03-28T11:35:39.401Z"
   },
   {
    "duration": 146,
    "start_time": "2023-03-28T11:35:39.434Z"
   },
   {
    "duration": 91,
    "start_time": "2023-03-28T11:37:38.118Z"
   },
   {
    "duration": 615,
    "start_time": "2023-03-28T11:39:55.270Z"
   },
   {
    "duration": 517,
    "start_time": "2023-03-28T11:40:03.166Z"
   },
   {
    "duration": 536,
    "start_time": "2023-03-28T11:40:59.508Z"
   },
   {
    "duration": 759,
    "start_time": "2023-03-28T11:42:04.341Z"
   },
   {
    "duration": 56,
    "start_time": "2023-03-28T11:42:31.603Z"
   },
   {
    "duration": 52,
    "start_time": "2023-03-28T11:42:38.560Z"
   },
   {
    "duration": 42,
    "start_time": "2023-03-28T11:42:40.483Z"
   },
   {
    "duration": 65,
    "start_time": "2023-03-28T11:43:12.998Z"
   },
   {
    "duration": 524,
    "start_time": "2023-03-28T11:43:14.210Z"
   },
   {
    "duration": 58,
    "start_time": "2023-03-28T11:43:47.488Z"
   },
   {
    "duration": 173,
    "start_time": "2023-03-28T11:44:31.069Z"
   },
   {
    "duration": 732,
    "start_time": "2023-03-28T11:48:13.011Z"
   },
   {
    "duration": 122,
    "start_time": "2023-03-28T11:48:21.427Z"
   },
   {
    "duration": 64,
    "start_time": "2023-03-28T11:48:36.388Z"
   },
   {
    "duration": 595,
    "start_time": "2023-03-28T11:48:37.701Z"
   },
   {
    "duration": 183,
    "start_time": "2023-03-28T11:49:00.968Z"
   },
   {
    "duration": 3,
    "start_time": "2023-03-28T11:49:21.786Z"
   },
   {
    "duration": 123,
    "start_time": "2023-03-28T11:53:05.267Z"
   },
   {
    "duration": 128,
    "start_time": "2023-03-28T11:53:22.927Z"
   },
   {
    "duration": 239,
    "start_time": "2023-03-28T11:54:31.996Z"
   },
   {
    "duration": 113,
    "start_time": "2023-03-28T11:54:37.591Z"
   },
   {
    "duration": 224,
    "start_time": "2023-03-28T11:54:38.610Z"
   },
   {
    "duration": 319,
    "start_time": "2023-03-28T11:54:55.869Z"
   },
   {
    "duration": 1522,
    "start_time": "2023-03-28T11:57:31.509Z"
   },
   {
    "duration": 68,
    "start_time": "2023-03-28T11:57:33.033Z"
   },
   {
    "duration": 19,
    "start_time": "2023-03-28T11:57:33.103Z"
   },
   {
    "duration": 13,
    "start_time": "2023-03-28T11:57:33.124Z"
   },
   {
    "duration": 39,
    "start_time": "2023-03-28T11:57:33.139Z"
   },
   {
    "duration": 17,
    "start_time": "2023-03-28T11:57:33.180Z"
   },
   {
    "duration": 22,
    "start_time": "2023-03-28T11:57:33.199Z"
   },
   {
    "duration": 12,
    "start_time": "2023-03-28T11:57:33.224Z"
   },
   {
    "duration": 32,
    "start_time": "2023-03-28T11:57:33.237Z"
   },
   {
    "duration": 30,
    "start_time": "2023-03-28T11:57:33.271Z"
   },
   {
    "duration": 7,
    "start_time": "2023-03-28T11:57:33.303Z"
   },
   {
    "duration": 16,
    "start_time": "2023-03-28T11:57:33.312Z"
   },
   {
    "duration": 51,
    "start_time": "2023-03-28T11:57:33.330Z"
   },
   {
    "duration": 14,
    "start_time": "2023-03-28T11:57:33.386Z"
   },
   {
    "duration": 30,
    "start_time": "2023-03-28T11:57:33.401Z"
   },
   {
    "duration": 41,
    "start_time": "2023-03-28T11:57:33.433Z"
   },
   {
    "duration": 29,
    "start_time": "2023-03-28T11:57:33.476Z"
   },
   {
    "duration": 15,
    "start_time": "2023-03-28T11:57:33.507Z"
   },
   {
    "duration": 202,
    "start_time": "2023-03-28T11:57:33.524Z"
   },
   {
    "duration": 7836,
    "start_time": "2023-03-28T11:57:33.728Z"
   },
   {
    "duration": 10,
    "start_time": "2023-03-28T11:57:41.572Z"
   },
   {
    "duration": 226,
    "start_time": "2023-03-28T11:57:41.584Z"
   },
   {
    "duration": 265,
    "start_time": "2023-03-28T11:57:41.811Z"
   },
   {
    "duration": 207,
    "start_time": "2023-03-28T11:57:42.079Z"
   },
   {
    "duration": 83,
    "start_time": "2023-03-28T11:57:42.290Z"
   },
   {
    "duration": 313,
    "start_time": "2023-03-28T11:57:42.446Z"
   },
   {
    "duration": 29,
    "start_time": "2023-03-28T11:57:42.760Z"
   },
   {
    "duration": 106,
    "start_time": "2023-03-28T11:57:42.840Z"
   },
   {
    "duration": 47,
    "start_time": "2023-03-28T11:57:42.949Z"
   },
   {
    "duration": 10,
    "start_time": "2023-03-28T11:57:42.998Z"
   },
   {
    "duration": 15,
    "start_time": "2023-03-28T11:57:43.010Z"
   },
   {
    "duration": 531,
    "start_time": "2023-03-28T11:57:43.027Z"
   },
   {
    "duration": 50,
    "start_time": "2023-03-28T11:57:43.564Z"
   },
   {
    "duration": 77,
    "start_time": "2023-03-28T11:57:43.616Z"
   },
   {
    "duration": 239,
    "start_time": "2023-03-28T11:57:43.695Z"
   },
   {
    "duration": 174,
    "start_time": "2023-03-28T11:57:43.936Z"
   },
   {
    "duration": 4,
    "start_time": "2023-03-28T12:02:21.287Z"
   },
   {
    "duration": 132,
    "start_time": "2023-03-28T12:02:44.555Z"
   },
   {
    "duration": 121,
    "start_time": "2023-03-28T12:02:55.114Z"
   },
   {
    "duration": 102,
    "start_time": "2023-03-28T12:03:00.011Z"
   },
   {
    "duration": 98,
    "start_time": "2023-03-28T12:03:09.893Z"
   },
   {
    "duration": 103,
    "start_time": "2023-03-28T12:03:24.974Z"
   },
   {
    "duration": 1503,
    "start_time": "2023-03-28T12:05:17.298Z"
   },
   {
    "duration": 57,
    "start_time": "2023-03-28T12:05:18.804Z"
   },
   {
    "duration": 22,
    "start_time": "2023-03-28T12:05:18.868Z"
   },
   {
    "duration": 16,
    "start_time": "2023-03-28T12:05:18.892Z"
   },
   {
    "duration": 5,
    "start_time": "2023-03-28T12:05:18.909Z"
   },
   {
    "duration": 17,
    "start_time": "2023-03-28T12:05:18.916Z"
   },
   {
    "duration": 43,
    "start_time": "2023-03-28T12:05:18.935Z"
   },
   {
    "duration": 18,
    "start_time": "2023-03-28T12:05:18.980Z"
   },
   {
    "duration": 9,
    "start_time": "2023-03-28T12:05:18.999Z"
   },
   {
    "duration": 22,
    "start_time": "2023-03-28T12:05:19.011Z"
   },
   {
    "duration": 43,
    "start_time": "2023-03-28T12:05:19.035Z"
   },
   {
    "duration": 35,
    "start_time": "2023-03-28T12:05:19.079Z"
   },
   {
    "duration": 23,
    "start_time": "2023-03-28T12:05:19.115Z"
   },
   {
    "duration": 49,
    "start_time": "2023-03-28T12:05:19.140Z"
   },
   {
    "duration": 36,
    "start_time": "2023-03-28T12:05:19.191Z"
   },
   {
    "duration": 23,
    "start_time": "2023-03-28T12:05:19.229Z"
   },
   {
    "duration": 37,
    "start_time": "2023-03-28T12:05:19.254Z"
   },
   {
    "duration": 27,
    "start_time": "2023-03-28T12:05:19.293Z"
   },
   {
    "duration": 155,
    "start_time": "2023-03-28T12:05:19.322Z"
   },
   {
    "duration": 7537,
    "start_time": "2023-03-28T12:05:19.479Z"
   },
   {
    "duration": 4,
    "start_time": "2023-03-28T12:05:27.018Z"
   },
   {
    "duration": 251,
    "start_time": "2023-03-28T12:05:27.024Z"
   },
   {
    "duration": 270,
    "start_time": "2023-03-28T12:05:27.277Z"
   },
   {
    "duration": 144,
    "start_time": "2023-03-28T12:05:27.549Z"
   },
   {
    "duration": 63,
    "start_time": "2023-03-28T12:05:27.695Z"
   },
   {
    "duration": 300,
    "start_time": "2023-03-28T12:05:27.760Z"
   },
   {
    "duration": 96,
    "start_time": "2023-03-28T12:05:28.066Z"
   },
   {
    "duration": 72,
    "start_time": "2023-03-28T12:05:28.172Z"
   },
   {
    "duration": 51,
    "start_time": "2023-03-28T12:05:28.254Z"
   },
   {
    "duration": 7,
    "start_time": "2023-03-28T12:05:28.306Z"
   },
   {
    "duration": 29,
    "start_time": "2023-03-28T12:05:28.315Z"
   },
   {
    "duration": 537,
    "start_time": "2023-03-28T12:05:28.350Z"
   },
   {
    "duration": 54,
    "start_time": "2023-03-28T12:05:28.889Z"
   },
   {
    "duration": 105,
    "start_time": "2023-03-28T12:05:28.948Z"
   },
   {
    "duration": 225,
    "start_time": "2023-03-28T12:05:29.055Z"
   },
   {
    "duration": 185,
    "start_time": "2023-03-28T12:05:29.282Z"
   },
   {
    "duration": 15,
    "start_time": "2023-03-28T12:06:06.187Z"
   },
   {
    "duration": 1548,
    "start_time": "2023-03-28T12:17:44.528Z"
   },
   {
    "duration": 48,
    "start_time": "2023-03-28T12:17:46.078Z"
   },
   {
    "duration": 27,
    "start_time": "2023-03-28T12:17:46.128Z"
   },
   {
    "duration": 31,
    "start_time": "2023-03-28T12:17:46.157Z"
   },
   {
    "duration": 8,
    "start_time": "2023-03-28T12:17:46.191Z"
   },
   {
    "duration": 20,
    "start_time": "2023-03-28T12:17:46.201Z"
   },
   {
    "duration": 23,
    "start_time": "2023-03-28T12:17:46.223Z"
   },
   {
    "duration": 38,
    "start_time": "2023-03-28T12:17:46.248Z"
   },
   {
    "duration": 9,
    "start_time": "2023-03-28T12:17:46.289Z"
   },
   {
    "duration": 19,
    "start_time": "2023-03-28T12:17:46.300Z"
   },
   {
    "duration": 6,
    "start_time": "2023-03-28T12:17:46.322Z"
   },
   {
    "duration": 22,
    "start_time": "2023-03-28T12:17:46.330Z"
   },
   {
    "duration": 34,
    "start_time": "2023-03-28T12:17:46.356Z"
   },
   {
    "duration": 22,
    "start_time": "2023-03-28T12:17:46.394Z"
   },
   {
    "duration": 38,
    "start_time": "2023-03-28T12:17:46.418Z"
   },
   {
    "duration": 25,
    "start_time": "2023-03-28T12:17:46.459Z"
   },
   {
    "duration": 13,
    "start_time": "2023-03-28T12:17:46.486Z"
   },
   {
    "duration": 17,
    "start_time": "2023-03-28T12:17:46.501Z"
   },
   {
    "duration": 193,
    "start_time": "2023-03-28T12:17:46.520Z"
   },
   {
    "duration": 7491,
    "start_time": "2023-03-28T12:17:46.716Z"
   },
   {
    "duration": 3,
    "start_time": "2023-03-28T12:17:54.209Z"
   },
   {
    "duration": 233,
    "start_time": "2023-03-28T12:17:54.213Z"
   },
   {
    "duration": 218,
    "start_time": "2023-03-28T12:17:54.450Z"
   },
   {
    "duration": 205,
    "start_time": "2023-03-28T12:17:54.672Z"
   },
   {
    "duration": 66,
    "start_time": "2023-03-28T12:17:54.879Z"
   },
   {
    "duration": 302,
    "start_time": "2023-03-28T12:17:54.947Z"
   },
   {
    "duration": 102,
    "start_time": "2023-03-28T12:17:55.251Z"
   },
   {
    "duration": 6,
    "start_time": "2023-03-28T12:17:55.355Z"
   },
   {
    "duration": 123,
    "start_time": "2023-03-28T12:17:55.364Z"
   },
   {
    "duration": 6,
    "start_time": "2023-03-28T12:17:55.488Z"
   },
   {
    "duration": 17,
    "start_time": "2023-03-28T12:17:55.496Z"
   },
   {
    "duration": 497,
    "start_time": "2023-03-28T12:17:55.515Z"
   },
   {
    "duration": 57,
    "start_time": "2023-03-28T12:17:56.014Z"
   },
   {
    "duration": 78,
    "start_time": "2023-03-28T12:17:56.073Z"
   },
   {
    "duration": 221,
    "start_time": "2023-03-28T12:17:56.154Z"
   },
   {
    "duration": 190,
    "start_time": "2023-03-28T12:17:56.377Z"
   },
   {
    "duration": 1640,
    "start_time": "2023-03-30T19:29:27.259Z"
   },
   {
    "duration": 82,
    "start_time": "2023-03-30T19:29:28.902Z"
   },
   {
    "duration": 18,
    "start_time": "2023-03-30T19:29:28.986Z"
   },
   {
    "duration": 14,
    "start_time": "2023-03-30T19:29:29.006Z"
   },
   {
    "duration": 4,
    "start_time": "2023-03-30T19:29:29.022Z"
   },
   {
    "duration": 6,
    "start_time": "2023-03-30T19:29:29.027Z"
   },
   {
    "duration": 5,
    "start_time": "2023-03-30T19:29:29.034Z"
   },
   {
    "duration": 19,
    "start_time": "2023-03-30T19:29:29.044Z"
   },
   {
    "duration": 6,
    "start_time": "2023-03-30T19:29:29.065Z"
   },
   {
    "duration": 15,
    "start_time": "2023-03-30T19:29:29.073Z"
   },
   {
    "duration": 4,
    "start_time": "2023-03-30T19:29:29.090Z"
   },
   {
    "duration": 12,
    "start_time": "2023-03-30T19:29:29.095Z"
   },
   {
    "duration": 127,
    "start_time": "2023-03-30T19:29:29.109Z"
   },
   {
    "duration": 0,
    "start_time": "2023-03-30T19:29:29.238Z"
   },
   {
    "duration": 0,
    "start_time": "2023-03-30T19:29:29.239Z"
   },
   {
    "duration": 0,
    "start_time": "2023-03-30T19:29:29.241Z"
   },
   {
    "duration": 0,
    "start_time": "2023-03-30T19:29:29.242Z"
   },
   {
    "duration": 0,
    "start_time": "2023-03-30T19:29:29.243Z"
   },
   {
    "duration": 0,
    "start_time": "2023-03-30T19:29:29.244Z"
   },
   {
    "duration": 0,
    "start_time": "2023-03-30T19:29:29.262Z"
   },
   {
    "duration": 0,
    "start_time": "2023-03-30T19:29:29.264Z"
   },
   {
    "duration": 0,
    "start_time": "2023-03-30T19:29:29.265Z"
   },
   {
    "duration": 0,
    "start_time": "2023-03-30T19:29:29.266Z"
   },
   {
    "duration": 0,
    "start_time": "2023-03-30T19:29:29.267Z"
   },
   {
    "duration": 0,
    "start_time": "2023-03-30T19:29:29.268Z"
   },
   {
    "duration": 0,
    "start_time": "2023-03-30T19:29:29.270Z"
   },
   {
    "duration": 0,
    "start_time": "2023-03-30T19:29:29.272Z"
   },
   {
    "duration": 0,
    "start_time": "2023-03-30T19:29:29.273Z"
   },
   {
    "duration": 0,
    "start_time": "2023-03-30T19:29:29.274Z"
   },
   {
    "duration": 0,
    "start_time": "2023-03-30T19:29:29.278Z"
   },
   {
    "duration": 0,
    "start_time": "2023-03-30T19:29:29.279Z"
   },
   {
    "duration": 0,
    "start_time": "2023-03-30T19:29:29.281Z"
   },
   {
    "duration": 0,
    "start_time": "2023-03-30T19:29:29.282Z"
   },
   {
    "duration": 0,
    "start_time": "2023-03-30T19:29:29.284Z"
   },
   {
    "duration": 0,
    "start_time": "2023-03-30T19:29:29.285Z"
   },
   {
    "duration": 4,
    "start_time": "2023-03-30T19:29:51.537Z"
   },
   {
    "duration": 11,
    "start_time": "2023-03-30T19:30:11.385Z"
   },
   {
    "duration": 3,
    "start_time": "2023-03-30T19:30:14.682Z"
   },
   {
    "duration": 13,
    "start_time": "2023-03-30T19:31:28.036Z"
   },
   {
    "duration": 6945,
    "start_time": "2023-03-30T19:31:52.756Z"
   },
   {
    "duration": 1207,
    "start_time": "2023-03-30T19:32:06.229Z"
   },
   {
    "duration": 2226,
    "start_time": "2023-03-30T19:32:07.438Z"
   },
   {
    "duration": 40,
    "start_time": "2023-03-30T19:32:09.666Z"
   },
   {
    "duration": 22,
    "start_time": "2023-03-30T19:32:09.709Z"
   },
   {
    "duration": 20,
    "start_time": "2023-03-30T19:32:09.734Z"
   },
   {
    "duration": 6,
    "start_time": "2023-03-30T19:32:09.756Z"
   },
   {
    "duration": 11,
    "start_time": "2023-03-30T19:32:09.764Z"
   },
   {
    "duration": 9,
    "start_time": "2023-03-30T19:32:09.776Z"
   },
   {
    "duration": 14,
    "start_time": "2023-03-30T19:32:09.787Z"
   },
   {
    "duration": 6,
    "start_time": "2023-03-30T19:32:09.804Z"
   },
   {
    "duration": 15,
    "start_time": "2023-03-30T19:32:09.812Z"
   },
   {
    "duration": 7,
    "start_time": "2023-03-30T19:32:09.828Z"
   },
   {
    "duration": 36,
    "start_time": "2023-03-30T19:32:09.837Z"
   },
   {
    "duration": 17,
    "start_time": "2023-03-30T19:32:09.875Z"
   },
   {
    "duration": 9,
    "start_time": "2023-03-30T19:32:09.894Z"
   },
   {
    "duration": 137,
    "start_time": "2023-03-30T19:32:09.905Z"
   },
   {
    "duration": 0,
    "start_time": "2023-03-30T19:32:10.045Z"
   },
   {
    "duration": 0,
    "start_time": "2023-03-30T19:32:10.047Z"
   },
   {
    "duration": 0,
    "start_time": "2023-03-30T19:32:10.048Z"
   },
   {
    "duration": 0,
    "start_time": "2023-03-30T19:32:10.049Z"
   },
   {
    "duration": 0,
    "start_time": "2023-03-30T19:32:10.061Z"
   },
   {
    "duration": 0,
    "start_time": "2023-03-30T19:32:10.062Z"
   },
   {
    "duration": 0,
    "start_time": "2023-03-30T19:32:10.064Z"
   },
   {
    "duration": 0,
    "start_time": "2023-03-30T19:32:10.065Z"
   },
   {
    "duration": 0,
    "start_time": "2023-03-30T19:32:10.066Z"
   },
   {
    "duration": 0,
    "start_time": "2023-03-30T19:32:10.068Z"
   },
   {
    "duration": 0,
    "start_time": "2023-03-30T19:32:10.069Z"
   },
   {
    "duration": 0,
    "start_time": "2023-03-30T19:32:10.070Z"
   },
   {
    "duration": 0,
    "start_time": "2023-03-30T19:32:10.071Z"
   },
   {
    "duration": 0,
    "start_time": "2023-03-30T19:32:10.072Z"
   },
   {
    "duration": 0,
    "start_time": "2023-03-30T19:32:10.074Z"
   },
   {
    "duration": 0,
    "start_time": "2023-03-30T19:32:10.075Z"
   },
   {
    "duration": 0,
    "start_time": "2023-03-30T19:32:10.076Z"
   },
   {
    "duration": 0,
    "start_time": "2023-03-30T19:32:10.077Z"
   },
   {
    "duration": 0,
    "start_time": "2023-03-30T19:32:10.079Z"
   },
   {
    "duration": 0,
    "start_time": "2023-03-30T19:32:10.080Z"
   },
   {
    "duration": 13,
    "start_time": "2023-03-30T19:33:42.521Z"
   },
   {
    "duration": 14,
    "start_time": "2023-03-30T19:33:48.858Z"
   },
   {
    "duration": 15,
    "start_time": "2023-03-30T19:34:28.854Z"
   },
   {
    "duration": 16,
    "start_time": "2023-03-30T19:34:30.313Z"
   },
   {
    "duration": 20,
    "start_time": "2023-03-30T19:35:18.300Z"
   },
   {
    "duration": 15,
    "start_time": "2023-03-30T19:35:31.705Z"
   },
   {
    "duration": 13,
    "start_time": "2023-03-30T19:35:33.782Z"
   },
   {
    "duration": 1257,
    "start_time": "2023-03-30T19:35:40.650Z"
   },
   {
    "duration": 1999,
    "start_time": "2023-03-30T19:35:41.909Z"
   },
   {
    "duration": 46,
    "start_time": "2023-03-30T19:35:43.911Z"
   },
   {
    "duration": 28,
    "start_time": "2023-03-30T19:35:43.962Z"
   },
   {
    "duration": 18,
    "start_time": "2023-03-30T19:35:43.992Z"
   },
   {
    "duration": 5,
    "start_time": "2023-03-30T19:35:44.015Z"
   },
   {
    "duration": 6,
    "start_time": "2023-03-30T19:35:44.022Z"
   },
   {
    "duration": 35,
    "start_time": "2023-03-30T19:35:44.031Z"
   },
   {
    "duration": 7,
    "start_time": "2023-03-30T19:35:44.068Z"
   },
   {
    "duration": 5,
    "start_time": "2023-03-30T19:35:44.079Z"
   },
   {
    "duration": 16,
    "start_time": "2023-03-30T19:35:44.087Z"
   },
   {
    "duration": 6,
    "start_time": "2023-03-30T19:35:44.105Z"
   },
   {
    "duration": 57,
    "start_time": "2023-03-30T19:35:44.114Z"
   },
   {
    "duration": 13,
    "start_time": "2023-03-30T19:35:44.173Z"
   },
   {
    "duration": 28,
    "start_time": "2023-03-30T19:35:44.188Z"
   },
   {
    "duration": 20,
    "start_time": "2023-03-30T19:35:44.218Z"
   },
   {
    "duration": 156,
    "start_time": "2023-03-30T19:35:44.239Z"
   },
   {
    "duration": 0,
    "start_time": "2023-03-30T19:35:44.397Z"
   },
   {
    "duration": 0,
    "start_time": "2023-03-30T19:35:44.399Z"
   },
   {
    "duration": 0,
    "start_time": "2023-03-30T19:35:44.400Z"
   },
   {
    "duration": 0,
    "start_time": "2023-03-30T19:35:44.402Z"
   },
   {
    "duration": 0,
    "start_time": "2023-03-30T19:35:44.404Z"
   },
   {
    "duration": 0,
    "start_time": "2023-03-30T19:35:44.405Z"
   },
   {
    "duration": 0,
    "start_time": "2023-03-30T19:35:44.407Z"
   },
   {
    "duration": 0,
    "start_time": "2023-03-30T19:35:44.408Z"
   },
   {
    "duration": 1,
    "start_time": "2023-03-30T19:35:44.409Z"
   },
   {
    "duration": 0,
    "start_time": "2023-03-30T19:35:44.411Z"
   },
   {
    "duration": 0,
    "start_time": "2023-03-30T19:35:44.412Z"
   },
   {
    "duration": 0,
    "start_time": "2023-03-30T19:35:44.413Z"
   },
   {
    "duration": 0,
    "start_time": "2023-03-30T19:35:44.414Z"
   },
   {
    "duration": 0,
    "start_time": "2023-03-30T19:35:44.415Z"
   },
   {
    "duration": 0,
    "start_time": "2023-03-30T19:35:44.416Z"
   },
   {
    "duration": 0,
    "start_time": "2023-03-30T19:35:44.417Z"
   },
   {
    "duration": 0,
    "start_time": "2023-03-30T19:35:44.418Z"
   },
   {
    "duration": 0,
    "start_time": "2023-03-30T19:35:44.419Z"
   },
   {
    "duration": 0,
    "start_time": "2023-03-30T19:35:44.421Z"
   },
   {
    "duration": 0,
    "start_time": "2023-03-30T19:35:44.461Z"
   },
   {
    "duration": 19,
    "start_time": "2023-03-30T19:36:06.167Z"
   },
   {
    "duration": 18,
    "start_time": "2023-03-30T19:38:21.247Z"
   },
   {
    "duration": 11,
    "start_time": "2023-03-30T19:38:39.488Z"
   },
   {
    "duration": 15,
    "start_time": "2023-03-30T19:38:48.338Z"
   },
   {
    "duration": 7,
    "start_time": "2023-03-30T19:46:09.403Z"
   },
   {
    "duration": 152,
    "start_time": "2023-03-30T19:46:11.427Z"
   },
   {
    "duration": 118,
    "start_time": "2023-03-30T19:46:16.932Z"
   },
   {
    "duration": 116,
    "start_time": "2023-03-30T19:47:44.499Z"
   },
   {
    "duration": 6278,
    "start_time": "2023-03-30T19:47:49.969Z"
   },
   {
    "duration": 85140,
    "start_time": "2023-03-30T19:48:07.641Z"
   },
   {
    "duration": 3,
    "start_time": "2023-03-30T19:49:32.783Z"
   },
   {
    "duration": 457,
    "start_time": "2023-03-30T19:49:54.732Z"
   },
   {
    "duration": 192,
    "start_time": "2023-03-30T19:50:17.770Z"
   },
   {
    "duration": 67,
    "start_time": "2023-03-30T19:50:30.098Z"
   },
   {
    "duration": 20,
    "start_time": "2023-03-30T19:50:31.581Z"
   },
   {
    "duration": 9,
    "start_time": "2023-03-30T19:50:32.830Z"
   },
   {
    "duration": 152,
    "start_time": "2023-03-30T19:50:36.772Z"
   },
   {
    "duration": 20,
    "start_time": "2023-03-30T19:51:33.077Z"
   },
   {
    "duration": 4,
    "start_time": "2023-03-30T19:51:38.737Z"
   },
   {
    "duration": 11,
    "start_time": "2023-03-30T19:51:40.378Z"
   },
   {
    "duration": 5,
    "start_time": "2023-03-30T19:51:46.497Z"
   },
   {
    "duration": 10,
    "start_time": "2023-03-30T19:51:47.881Z"
   },
   {
    "duration": 430,
    "start_time": "2023-03-30T19:51:50.177Z"
   },
   {
    "duration": 40,
    "start_time": "2023-03-30T19:52:05.689Z"
   },
   {
    "duration": 35,
    "start_time": "2023-03-30T19:52:07.532Z"
   },
   {
    "duration": 63,
    "start_time": "2023-03-30T19:52:11.503Z"
   },
   {
    "duration": 133,
    "start_time": "2023-03-30T19:52:22.786Z"
   },
   {
    "duration": 1305,
    "start_time": "2023-03-30T19:52:33.741Z"
   },
   {
    "duration": 2141,
    "start_time": "2023-03-30T19:52:35.048Z"
   },
   {
    "duration": 38,
    "start_time": "2023-03-30T19:52:37.191Z"
   },
   {
    "duration": 21,
    "start_time": "2023-03-30T19:52:37.231Z"
   },
   {
    "duration": 23,
    "start_time": "2023-03-30T19:52:37.254Z"
   },
   {
    "duration": 25,
    "start_time": "2023-03-30T19:52:37.279Z"
   },
   {
    "duration": 15,
    "start_time": "2023-03-30T19:52:37.306Z"
   },
   {
    "duration": 19,
    "start_time": "2023-03-30T19:52:37.323Z"
   },
   {
    "duration": 6,
    "start_time": "2023-03-30T19:52:37.344Z"
   },
   {
    "duration": 7,
    "start_time": "2023-03-30T19:52:37.352Z"
   },
   {
    "duration": 22,
    "start_time": "2023-03-30T19:52:37.360Z"
   },
   {
    "duration": 5,
    "start_time": "2023-03-30T19:52:37.384Z"
   },
   {
    "duration": 15,
    "start_time": "2023-03-30T19:52:37.391Z"
   },
   {
    "duration": 17,
    "start_time": "2023-03-30T19:52:37.407Z"
   },
   {
    "duration": 38,
    "start_time": "2023-03-30T19:52:37.425Z"
   },
   {
    "duration": 21,
    "start_time": "2023-03-30T19:52:37.465Z"
   },
   {
    "duration": 19,
    "start_time": "2023-03-30T19:52:37.488Z"
   },
   {
    "duration": 19,
    "start_time": "2023-03-30T19:52:37.508Z"
   },
   {
    "duration": 45,
    "start_time": "2023-03-30T19:52:37.529Z"
   },
   {
    "duration": 7,
    "start_time": "2023-03-30T19:52:37.576Z"
   },
   {
    "duration": 154,
    "start_time": "2023-03-30T19:52:37.585Z"
   },
   {
    "duration": 86116,
    "start_time": "2023-03-30T19:52:37.741Z"
   },
   {
    "duration": 3,
    "start_time": "2023-03-30T19:54:03.862Z"
   },
   {
    "duration": 544,
    "start_time": "2023-03-30T19:54:03.867Z"
   },
   {
    "duration": 150,
    "start_time": "2023-03-30T19:54:04.413Z"
   },
   {
    "duration": 125,
    "start_time": "2023-03-30T19:54:04.565Z"
   },
   {
    "duration": 77,
    "start_time": "2023-03-30T19:54:04.692Z"
   },
   {
    "duration": 190,
    "start_time": "2023-03-30T19:54:04.863Z"
   },
   {
    "duration": 103,
    "start_time": "2023-03-30T19:54:05.061Z"
   },
   {
    "duration": 8,
    "start_time": "2023-03-30T19:54:05.165Z"
   },
   {
    "duration": 26,
    "start_time": "2023-03-30T19:54:05.262Z"
   },
   {
    "duration": 5,
    "start_time": "2023-03-30T19:54:05.290Z"
   },
   {
    "duration": 16,
    "start_time": "2023-03-30T19:54:05.297Z"
   },
   {
    "duration": 429,
    "start_time": "2023-03-30T19:54:05.315Z"
   },
   {
    "duration": 47,
    "start_time": "2023-03-30T19:54:05.746Z"
   },
   {
    "duration": 76,
    "start_time": "2023-03-30T19:54:05.795Z"
   },
   {
    "duration": 58,
    "start_time": "2023-03-30T19:54:05.962Z"
   },
   {
    "duration": 141,
    "start_time": "2023-03-30T19:54:06.062Z"
   },
   {
    "duration": 85598,
    "start_time": "2023-03-30T19:56:33.630Z"
   },
   {
    "duration": 3,
    "start_time": "2023-03-30T19:57:59.230Z"
   },
   {
    "duration": 489,
    "start_time": "2023-03-30T19:57:59.235Z"
   },
   {
    "duration": 38,
    "start_time": "2023-03-30T19:57:59.726Z"
   },
   {
    "duration": 102614,
    "start_time": "2023-03-30T20:01:41.608Z"
   },
   {
    "duration": 116969,
    "start_time": "2023-03-30T20:03:24.945Z"
   },
   {
    "duration": 47,
    "start_time": "2023-03-30T20:05:22.581Z"
   },
   {
    "duration": 631,
    "start_time": "2023-03-30T20:05:22.630Z"
   },
   {
    "duration": 99,
    "start_time": "2023-03-30T20:05:23.263Z"
   },
   {
    "duration": 1266,
    "start_time": "2023-03-30T20:06:25.408Z"
   },
   {
    "duration": 2264,
    "start_time": "2023-03-30T20:06:26.676Z"
   },
   {
    "duration": 42,
    "start_time": "2023-03-30T20:06:28.942Z"
   },
   {
    "duration": 26,
    "start_time": "2023-03-30T20:06:28.987Z"
   },
   {
    "duration": 16,
    "start_time": "2023-03-30T20:06:29.015Z"
   },
   {
    "duration": 22,
    "start_time": "2023-03-30T20:06:29.033Z"
   },
   {
    "duration": 18,
    "start_time": "2023-03-30T20:06:29.057Z"
   },
   {
    "duration": 33,
    "start_time": "2023-03-30T20:06:29.077Z"
   },
   {
    "duration": 30,
    "start_time": "2023-03-30T20:06:29.112Z"
   },
   {
    "duration": 16,
    "start_time": "2023-03-30T20:06:29.145Z"
   },
   {
    "duration": 19,
    "start_time": "2023-03-30T20:06:29.163Z"
   },
   {
    "duration": 19,
    "start_time": "2023-03-30T20:06:29.183Z"
   },
   {
    "duration": 25,
    "start_time": "2023-03-30T20:06:29.204Z"
   },
   {
    "duration": 10,
    "start_time": "2023-03-30T20:06:29.231Z"
   },
   {
    "duration": 26,
    "start_time": "2023-03-30T20:06:29.243Z"
   },
   {
    "duration": 19,
    "start_time": "2023-03-30T20:06:29.270Z"
   },
   {
    "duration": 61,
    "start_time": "2023-03-30T20:06:29.291Z"
   },
   {
    "duration": 17,
    "start_time": "2023-03-30T20:06:29.354Z"
   },
   {
    "duration": 37,
    "start_time": "2023-03-30T20:06:29.373Z"
   },
   {
    "duration": 8,
    "start_time": "2023-03-30T20:06:29.412Z"
   },
   {
    "duration": 152,
    "start_time": "2023-03-30T20:06:29.422Z"
   },
   {
    "duration": 86371,
    "start_time": "2023-03-30T20:06:29.576Z"
   },
   {
    "duration": 4,
    "start_time": "2023-03-30T20:07:55.949Z"
   },
   {
    "duration": 516,
    "start_time": "2023-03-30T20:07:55.954Z"
   },
   {
    "duration": 100,
    "start_time": "2023-03-30T20:07:56.472Z"
   },
   {
    "duration": 125,
    "start_time": "2023-03-30T20:07:56.663Z"
   },
   {
    "duration": 79,
    "start_time": "2023-03-30T20:07:56.790Z"
   },
   {
    "duration": 261,
    "start_time": "2023-03-30T20:07:56.872Z"
   },
   {
    "duration": 86250,
    "start_time": "2023-03-30T20:07:57.135Z"
   },
   {
    "duration": 3,
    "start_time": "2023-03-30T20:09:23.387Z"
   },
   {
    "duration": 478,
    "start_time": "2023-03-30T20:09:23.392Z"
   },
   {
    "duration": 20,
    "start_time": "2023-03-30T20:09:23.871Z"
   },
   {
    "duration": 75,
    "start_time": "2023-03-30T20:09:23.893Z"
   },
   {
    "duration": 104,
    "start_time": "2023-03-30T20:09:23.970Z"
   },
   {
    "duration": 6,
    "start_time": "2023-03-30T20:09:24.076Z"
   },
   {
    "duration": 35,
    "start_time": "2023-03-30T20:09:24.084Z"
   },
   {
    "duration": 117370,
    "start_time": "2023-03-30T20:09:24.121Z"
   },
   {
    "duration": 46,
    "start_time": "2023-03-30T20:11:21.493Z"
   },
   {
    "duration": 656,
    "start_time": "2023-03-30T20:11:21.541Z"
   },
   {
    "duration": 68,
    "start_time": "2023-03-30T20:11:22.199Z"
   },
   {
    "duration": 265,
    "start_time": "2023-03-30T20:11:22.269Z"
   },
   {
    "duration": 0,
    "start_time": "2023-03-30T20:11:22.536Z"
   },
   {
    "duration": 11,
    "start_time": "2023-03-30T20:15:49.702Z"
   },
   {
    "duration": 97,
    "start_time": "2023-03-30T20:16:27.537Z"
   },
   {
    "duration": 87,
    "start_time": "2023-03-30T20:16:34.420Z"
   },
   {
    "duration": 128,
    "start_time": "2023-03-30T20:16:39.178Z"
   },
   {
    "duration": 4,
    "start_time": "2023-03-30T20:20:18.168Z"
   },
   {
    "duration": 96,
    "start_time": "2023-03-30T20:20:24.544Z"
   },
   {
    "duration": 91,
    "start_time": "2023-03-30T20:20:32.075Z"
   },
   {
    "duration": 111,
    "start_time": "2023-03-30T20:20:53.975Z"
   },
   {
    "duration": 1268,
    "start_time": "2023-03-30T20:23:44.049Z"
   },
   {
    "duration": 2024,
    "start_time": "2023-03-30T20:23:45.319Z"
   },
   {
    "duration": 39,
    "start_time": "2023-03-30T20:23:47.346Z"
   },
   {
    "duration": 20,
    "start_time": "2023-03-30T20:23:47.387Z"
   },
   {
    "duration": 14,
    "start_time": "2023-03-30T20:23:47.409Z"
   },
   {
    "duration": 4,
    "start_time": "2023-03-30T20:23:47.424Z"
   },
   {
    "duration": 5,
    "start_time": "2023-03-30T20:23:47.430Z"
   },
   {
    "duration": 25,
    "start_time": "2023-03-30T20:23:47.436Z"
   },
   {
    "duration": 5,
    "start_time": "2023-03-30T20:23:47.463Z"
   },
   {
    "duration": 6,
    "start_time": "2023-03-30T20:23:47.470Z"
   },
   {
    "duration": 14,
    "start_time": "2023-03-30T20:23:47.477Z"
   },
   {
    "duration": 5,
    "start_time": "2023-03-30T20:23:47.493Z"
   },
   {
    "duration": 11,
    "start_time": "2023-03-30T20:23:47.500Z"
   },
   {
    "duration": 10,
    "start_time": "2023-03-30T20:23:47.513Z"
   },
   {
    "duration": 57,
    "start_time": "2023-03-30T20:23:47.525Z"
   },
   {
    "duration": 19,
    "start_time": "2023-03-30T20:23:47.585Z"
   },
   {
    "duration": 19,
    "start_time": "2023-03-30T20:23:47.605Z"
   },
   {
    "duration": 45,
    "start_time": "2023-03-30T20:23:47.625Z"
   },
   {
    "duration": 16,
    "start_time": "2023-03-30T20:23:47.671Z"
   },
   {
    "duration": 7,
    "start_time": "2023-03-30T20:23:47.689Z"
   },
   {
    "duration": 144,
    "start_time": "2023-03-30T20:23:47.697Z"
   },
   {
    "duration": 85000,
    "start_time": "2023-03-30T20:23:47.843Z"
   },
   {
    "duration": 3,
    "start_time": "2023-03-30T20:25:12.845Z"
   },
   {
    "duration": 467,
    "start_time": "2023-03-30T20:25:12.849Z"
   },
   {
    "duration": 245,
    "start_time": "2023-03-30T20:25:13.317Z"
   },
   {
    "duration": 114,
    "start_time": "2023-03-30T20:25:13.564Z"
   },
   {
    "duration": 86,
    "start_time": "2023-03-30T20:25:13.680Z"
   },
   {
    "duration": 272,
    "start_time": "2023-03-30T20:25:13.770Z"
   },
   {
    "duration": 85701,
    "start_time": "2023-03-30T20:25:14.044Z"
   },
   {
    "duration": 3,
    "start_time": "2023-03-30T20:26:39.747Z"
   },
   {
    "duration": 474,
    "start_time": "2023-03-30T20:26:39.762Z"
   },
   {
    "duration": 37,
    "start_time": "2023-03-30T20:26:40.238Z"
   },
   {
    "duration": 92,
    "start_time": "2023-03-30T20:26:40.276Z"
   },
   {
    "duration": 96,
    "start_time": "2023-03-30T20:26:40.374Z"
   },
   {
    "duration": 5,
    "start_time": "2023-03-30T20:26:40.471Z"
   },
   {
    "duration": 17,
    "start_time": "2023-03-30T20:26:40.478Z"
   },
   {
    "duration": 117029,
    "start_time": "2023-03-30T20:26:40.497Z"
   },
   {
    "duration": 55,
    "start_time": "2023-03-30T20:28:37.528Z"
   },
   {
    "duration": 609,
    "start_time": "2023-03-30T20:28:37.585Z"
   },
   {
    "duration": 71,
    "start_time": "2023-03-30T20:28:38.195Z"
   },
   {
    "duration": 219,
    "start_time": "2023-03-30T20:28:38.269Z"
   },
   {
    "duration": 139,
    "start_time": "2023-03-30T20:28:38.489Z"
   },
   {
    "duration": 1122,
    "start_time": "2023-03-30T20:33:22.207Z"
   },
   {
    "duration": 2096,
    "start_time": "2023-03-30T20:33:23.331Z"
   },
   {
    "duration": 40,
    "start_time": "2023-03-30T20:33:25.430Z"
   },
   {
    "duration": 38,
    "start_time": "2023-03-30T20:33:25.473Z"
   },
   {
    "duration": 33,
    "start_time": "2023-03-30T20:33:25.513Z"
   },
   {
    "duration": 4,
    "start_time": "2023-03-30T20:33:25.548Z"
   },
   {
    "duration": 12,
    "start_time": "2023-03-30T20:33:25.554Z"
   },
   {
    "duration": 5,
    "start_time": "2023-03-30T20:33:25.568Z"
   },
   {
    "duration": 5,
    "start_time": "2023-03-30T20:33:25.575Z"
   },
   {
    "duration": 4,
    "start_time": "2023-03-30T20:33:25.583Z"
   },
   {
    "duration": 14,
    "start_time": "2023-03-30T20:33:25.589Z"
   },
   {
    "duration": 5,
    "start_time": "2023-03-30T20:33:25.604Z"
   },
   {
    "duration": 18,
    "start_time": "2023-03-30T20:33:25.611Z"
   },
   {
    "duration": 38,
    "start_time": "2023-03-30T20:33:25.631Z"
   },
   {
    "duration": 28,
    "start_time": "2023-03-30T20:33:25.671Z"
   },
   {
    "duration": 20,
    "start_time": "2023-03-30T20:33:25.701Z"
   },
   {
    "duration": 43,
    "start_time": "2023-03-30T20:33:25.724Z"
   },
   {
    "duration": 22,
    "start_time": "2023-03-30T20:33:25.768Z"
   },
   {
    "duration": 17,
    "start_time": "2023-03-30T20:33:25.792Z"
   },
   {
    "duration": 8,
    "start_time": "2023-03-30T20:33:25.811Z"
   },
   {
    "duration": 182,
    "start_time": "2023-03-30T20:33:25.821Z"
   },
   {
    "duration": 85569,
    "start_time": "2023-03-30T20:33:26.005Z"
   },
   {
    "duration": 4,
    "start_time": "2023-03-30T20:34:51.576Z"
   },
   {
    "duration": 479,
    "start_time": "2023-03-30T20:34:51.582Z"
   },
   {
    "duration": 200,
    "start_time": "2023-03-30T20:34:52.063Z"
   },
   {
    "duration": 123,
    "start_time": "2023-03-30T20:34:52.264Z"
   },
   {
    "duration": 73,
    "start_time": "2023-03-30T20:34:52.389Z"
   },
   {
    "duration": 256,
    "start_time": "2023-03-30T20:34:52.468Z"
   },
   {
    "duration": 86678,
    "start_time": "2023-03-30T20:34:52.738Z"
   },
   {
    "duration": 3,
    "start_time": "2023-03-30T20:36:19.418Z"
   },
   {
    "duration": 466,
    "start_time": "2023-03-30T20:36:19.423Z"
   },
   {
    "duration": 19,
    "start_time": "2023-03-30T20:36:19.891Z"
   },
   {
    "duration": 55,
    "start_time": "2023-03-30T20:36:19.911Z"
   },
   {
    "duration": 123,
    "start_time": "2023-03-30T20:36:19.968Z"
   },
   {
    "duration": 13,
    "start_time": "2023-03-30T20:36:20.093Z"
   },
   {
    "duration": 15,
    "start_time": "2023-03-30T20:36:20.108Z"
   },
   {
    "duration": 117539,
    "start_time": "2023-03-30T20:36:20.125Z"
   },
   {
    "duration": 44,
    "start_time": "2023-03-30T20:38:17.665Z"
   },
   {
    "duration": 596,
    "start_time": "2023-03-30T20:38:17.711Z"
   },
   {
    "duration": 153,
    "start_time": "2023-03-30T20:38:18.309Z"
   },
   {
    "duration": 175,
    "start_time": "2023-03-30T20:38:18.464Z"
   },
   {
    "duration": 158,
    "start_time": "2023-03-30T20:38:18.641Z"
   }
  ],
  "kernelspec": {
   "display_name": "Python 3 (ipykernel)",
   "language": "python",
   "name": "python3"
  },
  "language_info": {
   "codemirror_mode": {
    "name": "ipython",
    "version": 3
   },
   "file_extension": ".py",
   "mimetype": "text/x-python",
   "name": "python",
   "nbconvert_exporter": "python",
   "pygments_lexer": "ipython3",
   "version": "3.9.12"
  },
  "toc": {
   "base_numbering": 1,
   "nav_menu": {},
   "number_sections": true,
   "sideBar": true,
   "skip_h1_title": true,
   "title_cell": "Содержание",
   "title_sidebar": "Contents",
   "toc_cell": true,
   "toc_position": {},
   "toc_section_display": true,
   "toc_window_display": true
  }
 },
 "nbformat": 4,
 "nbformat_minor": 2
}
